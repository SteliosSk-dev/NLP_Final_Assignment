{
 "cells": [
  {
   "cell_type": "code",
   "execution_count": 191,
   "id": "775a0bdb",
   "metadata": {},
   "outputs": [
    {
     "name": "stderr",
     "output_type": "stream",
     "text": [
      "[nltk_data] Downloading package punkt_tab to\n",
      "[nltk_data]     C:\\Users\\elena\\AppData\\Roaming\\nltk_data...\n",
      "[nltk_data]   Package punkt_tab is already up-to-date!\n",
      "[nltk_data] Downloading package stopwords to\n",
      "[nltk_data]     C:\\Users\\elena\\AppData\\Roaming\\nltk_data...\n",
      "[nltk_data]   Package stopwords is already up-to-date!\n"
     ]
    },
    {
     "data": {
      "text/plain": [
       "True"
      ]
     },
     "execution_count": 191,
     "metadata": {},
     "output_type": "execute_result"
    }
   ],
   "source": [
    "import pandas as pd\n",
    "import os\n",
    "import matplotlib.pyplot as plt\n",
    "import seaborn as sns\n",
    "import numpy as np\n",
    "from sklearn.model_selection import train_test_split\n",
    "from sklearn.feature_extraction.text import TfidfVectorizer\n",
    "import pandas as pd\n",
    "import matplotlib.pyplot as plt\n",
    "import nltk\n",
    "from nltk.corpus import stopwords\n",
    "from nltk.tokenize import word_tokenize\n",
    "import string\n",
    "from sklearn.model_selection import train_test_split, GridSearchCV\n",
    "from sklearn.feature_extraction.text import CountVectorizer, TfidfVectorizer\n",
    "from sklearn.naive_bayes import ComplementNB\n",
    "from sklearn.metrics import classification_report, confusion_matrix, ConfusionMatrixDisplay\n",
    "from sklearn.linear_model import LogisticRegression\n",
    "from prettytable import PrettyTable\n",
    "from collections import Counter\n",
    "nltk.download('punkt_tab')\n",
    "nltk.download('stopwords')"
   ]
  },
  {
   "cell_type": "markdown",
   "id": "69e2e83d",
   "metadata": {},
   "source": [
    "Data Preprocessing"
   ]
  },
  {
   "cell_type": "code",
   "execution_count": 192,
   "id": "b7f058d0",
   "metadata": {},
   "outputs": [
    {
     "name": "stderr",
     "output_type": "stream",
     "text": [
      "C:\\Users\\elena\\AppData\\Local\\Temp\\ipykernel_23820\\413566240.py:13: FutureWarning: The behavior of DataFrame concatenation with empty or all-NA entries is deprecated. In a future version, this will no longer exclude empty or all-NA columns when determining the result dtypes. To retain the old behavior, exclude the relevant entries before the concat operation.\n",
      "  df=pd.concat([df,df_temp],ignore_index=True)\n"
     ]
    },
    {
     "data": {
      "application/vnd.microsoft.datawrangler.viewer.v0+json": {
       "columns": [
        {
         "name": "index",
         "rawType": "int64",
         "type": "integer"
        },
        {
         "name": "ID",
         "rawType": "object",
         "type": "string"
        },
        {
         "name": "label",
         "rawType": "object",
         "type": "string"
        },
        {
         "name": "statement",
         "rawType": "object",
         "type": "string"
        },
        {
         "name": "subject",
         "rawType": "object",
         "type": "string"
        },
        {
         "name": "speaker",
         "rawType": "object",
         "type": "string"
        },
        {
         "name": "job_title",
         "rawType": "object",
         "type": "unknown"
        },
        {
         "name": "state_info",
         "rawType": "object",
         "type": "unknown"
        },
        {
         "name": "party_affiliation",
         "rawType": "object",
         "type": "string"
        },
        {
         "name": "barely_true_counts",
         "rawType": "float64",
         "type": "float"
        },
        {
         "name": "false_counts",
         "rawType": "float64",
         "type": "float"
        },
        {
         "name": "half_true_counts",
         "rawType": "float64",
         "type": "float"
        },
        {
         "name": "mostly_true_counts",
         "rawType": "float64",
         "type": "float"
        },
        {
         "name": "pants_on_fire_counts",
         "rawType": "float64",
         "type": "float"
        },
        {
         "name": "context",
         "rawType": "object",
         "type": "string"
        }
       ],
       "ref": "b48242f6-79a0-4aa2-ba22-bf4965fb4fcf",
       "rows": [
        [
         "0",
         "2635.json",
         "false",
         "Says the Annies List political group supports third-trimester abortions on demand.",
         "abortion",
         "dwayne-bohac",
         "State representative",
         "Texas",
         "republican",
         "0.0",
         "1.0",
         "0.0",
         "0.0",
         "0.0",
         "a mailer"
        ],
        [
         "1",
         "10540.json",
         "half-true",
         "When did the decline of coal start? It started when natural gas took off that started to begin in (President George W.) Bushs administration.",
         "energy,history,job-accomplishments",
         "scott-surovell",
         "State delegate",
         "Virginia",
         "democrat",
         "0.0",
         "0.0",
         "1.0",
         "1.0",
         "0.0",
         "a floor speech."
        ],
        [
         "2",
         "324.json",
         "mostly-true",
         "Hillary Clinton agrees with John McCain \"by voting to give George Bush the benefit of the doubt on Iran.\"",
         "foreign-policy",
         "barack-obama",
         "President",
         "Illinois",
         "democrat",
         "70.0",
         "71.0",
         "160.0",
         "163.0",
         "9.0",
         "Denver"
        ],
        [
         "3",
         "1123.json",
         "false",
         "Health care reform legislation is likely to mandate free sex change surgeries.",
         "health-care",
         "blog-posting",
         null,
         null,
         "none",
         "7.0",
         "19.0",
         "3.0",
         "5.0",
         "44.0",
         "a news release"
        ],
        [
         "4",
         "9028.json",
         "half-true",
         "The economic turnaround started at the end of my term.",
         "economy,jobs",
         "charlie-crist",
         null,
         "Florida",
         "democrat",
         "15.0",
         "9.0",
         "20.0",
         "19.0",
         "2.0",
         "an interview on CNN"
        ]
       ],
       "shape": {
        "columns": 14,
        "rows": 5
       }
      },
      "text/html": [
       "<div>\n",
       "<style scoped>\n",
       "    .dataframe tbody tr th:only-of-type {\n",
       "        vertical-align: middle;\n",
       "    }\n",
       "\n",
       "    .dataframe tbody tr th {\n",
       "        vertical-align: top;\n",
       "    }\n",
       "\n",
       "    .dataframe thead th {\n",
       "        text-align: right;\n",
       "    }\n",
       "</style>\n",
       "<table border=\"1\" class=\"dataframe\">\n",
       "  <thead>\n",
       "    <tr style=\"text-align: right;\">\n",
       "      <th></th>\n",
       "      <th>ID</th>\n",
       "      <th>label</th>\n",
       "      <th>statement</th>\n",
       "      <th>subject</th>\n",
       "      <th>speaker</th>\n",
       "      <th>job_title</th>\n",
       "      <th>state_info</th>\n",
       "      <th>party_affiliation</th>\n",
       "      <th>barely_true_counts</th>\n",
       "      <th>false_counts</th>\n",
       "      <th>half_true_counts</th>\n",
       "      <th>mostly_true_counts</th>\n",
       "      <th>pants_on_fire_counts</th>\n",
       "      <th>context</th>\n",
       "    </tr>\n",
       "  </thead>\n",
       "  <tbody>\n",
       "    <tr>\n",
       "      <th>0</th>\n",
       "      <td>2635.json</td>\n",
       "      <td>false</td>\n",
       "      <td>Says the Annies List political group supports ...</td>\n",
       "      <td>abortion</td>\n",
       "      <td>dwayne-bohac</td>\n",
       "      <td>State representative</td>\n",
       "      <td>Texas</td>\n",
       "      <td>republican</td>\n",
       "      <td>0.0</td>\n",
       "      <td>1.0</td>\n",
       "      <td>0.0</td>\n",
       "      <td>0.0</td>\n",
       "      <td>0.0</td>\n",
       "      <td>a mailer</td>\n",
       "    </tr>\n",
       "    <tr>\n",
       "      <th>1</th>\n",
       "      <td>10540.json</td>\n",
       "      <td>half-true</td>\n",
       "      <td>When did the decline of coal start? It started...</td>\n",
       "      <td>energy,history,job-accomplishments</td>\n",
       "      <td>scott-surovell</td>\n",
       "      <td>State delegate</td>\n",
       "      <td>Virginia</td>\n",
       "      <td>democrat</td>\n",
       "      <td>0.0</td>\n",
       "      <td>0.0</td>\n",
       "      <td>1.0</td>\n",
       "      <td>1.0</td>\n",
       "      <td>0.0</td>\n",
       "      <td>a floor speech.</td>\n",
       "    </tr>\n",
       "    <tr>\n",
       "      <th>2</th>\n",
       "      <td>324.json</td>\n",
       "      <td>mostly-true</td>\n",
       "      <td>Hillary Clinton agrees with John McCain \"by vo...</td>\n",
       "      <td>foreign-policy</td>\n",
       "      <td>barack-obama</td>\n",
       "      <td>President</td>\n",
       "      <td>Illinois</td>\n",
       "      <td>democrat</td>\n",
       "      <td>70.0</td>\n",
       "      <td>71.0</td>\n",
       "      <td>160.0</td>\n",
       "      <td>163.0</td>\n",
       "      <td>9.0</td>\n",
       "      <td>Denver</td>\n",
       "    </tr>\n",
       "    <tr>\n",
       "      <th>3</th>\n",
       "      <td>1123.json</td>\n",
       "      <td>false</td>\n",
       "      <td>Health care reform legislation is likely to ma...</td>\n",
       "      <td>health-care</td>\n",
       "      <td>blog-posting</td>\n",
       "      <td>NaN</td>\n",
       "      <td>NaN</td>\n",
       "      <td>none</td>\n",
       "      <td>7.0</td>\n",
       "      <td>19.0</td>\n",
       "      <td>3.0</td>\n",
       "      <td>5.0</td>\n",
       "      <td>44.0</td>\n",
       "      <td>a news release</td>\n",
       "    </tr>\n",
       "    <tr>\n",
       "      <th>4</th>\n",
       "      <td>9028.json</td>\n",
       "      <td>half-true</td>\n",
       "      <td>The economic turnaround started at the end of ...</td>\n",
       "      <td>economy,jobs</td>\n",
       "      <td>charlie-crist</td>\n",
       "      <td>NaN</td>\n",
       "      <td>Florida</td>\n",
       "      <td>democrat</td>\n",
       "      <td>15.0</td>\n",
       "      <td>9.0</td>\n",
       "      <td>20.0</td>\n",
       "      <td>19.0</td>\n",
       "      <td>2.0</td>\n",
       "      <td>an interview on CNN</td>\n",
       "    </tr>\n",
       "  </tbody>\n",
       "</table>\n",
       "</div>"
      ],
      "text/plain": [
       "           ID        label                                          statement  \\\n",
       "0   2635.json        false  Says the Annies List political group supports ...   \n",
       "1  10540.json    half-true  When did the decline of coal start? It started...   \n",
       "2    324.json  mostly-true  Hillary Clinton agrees with John McCain \"by vo...   \n",
       "3   1123.json        false  Health care reform legislation is likely to ma...   \n",
       "4   9028.json    half-true  The economic turnaround started at the end of ...   \n",
       "\n",
       "                              subject         speaker             job_title  \\\n",
       "0                            abortion    dwayne-bohac  State representative   \n",
       "1  energy,history,job-accomplishments  scott-surovell        State delegate   \n",
       "2                      foreign-policy    barack-obama             President   \n",
       "3                         health-care    blog-posting                   NaN   \n",
       "4                        economy,jobs   charlie-crist                   NaN   \n",
       "\n",
       "  state_info party_affiliation  barely_true_counts  false_counts  \\\n",
       "0      Texas        republican                 0.0           1.0   \n",
       "1   Virginia          democrat                 0.0           0.0   \n",
       "2   Illinois          democrat                70.0          71.0   \n",
       "3        NaN              none                 7.0          19.0   \n",
       "4    Florida          democrat                15.0           9.0   \n",
       "\n",
       "   half_true_counts  mostly_true_counts  pants_on_fire_counts  \\\n",
       "0               0.0                 0.0                   0.0   \n",
       "1               1.0                 1.0                   0.0   \n",
       "2             160.0               163.0                   9.0   \n",
       "3               3.0                 5.0                  44.0   \n",
       "4              20.0                19.0                   2.0   \n",
       "\n",
       "               context  \n",
       "0             a mailer  \n",
       "1      a floor speech.  \n",
       "2               Denver  \n",
       "3       a news release  \n",
       "4  an interview on CNN  "
      ]
     },
     "execution_count": 192,
     "metadata": {},
     "output_type": "execute_result"
    }
   ],
   "source": [
    "# Loading the data and bringing it to form.\n",
    "paths={\n",
    "    'train':'train.tsv',\n",
    "    'test':'test.tsv',\n",
    "    'valid':'valid.tsv'\n",
    "    }\n",
    "\n",
    "titles=['ID','label','statement','subject','speaker','job_title','state_info','party_affiliation','barely_true_counts','false_counts','half_true_counts','mostly_true_counts','pants_on_fire_counts','context']\n",
    "\n",
    "df=pd.DataFrame(columns=titles)\n",
    "for path in paths.values():\n",
    "    df_temp=pd.read_csv(path,sep='\\t',header=None,names=titles)\n",
    "    df=pd.concat([df,df_temp],ignore_index=True)\n",
    "\n",
    "df.head()"
   ]
  },
  {
   "cell_type": "code",
   "execution_count": 193,
   "id": "8669e5da",
   "metadata": {},
   "outputs": [
    {
     "name": "stdout",
     "output_type": "stream",
     "text": [
      "<class 'pandas.core.frame.DataFrame'>\n",
      "RangeIndex: 12791 entries, 0 to 12790\n",
      "Data columns (total 14 columns):\n",
      " #   Column                Non-Null Count  Dtype  \n",
      "---  ------                --------------  -----  \n",
      " 0   ID                    12791 non-null  object \n",
      " 1   label                 12791 non-null  object \n",
      " 2   statement             12791 non-null  object \n",
      " 3   subject               12789 non-null  object \n",
      " 4   speaker               12789 non-null  object \n",
      " 5   job_title             9223 non-null   object \n",
      " 6   state_info            10040 non-null  object \n",
      " 7   party_affiliation     12789 non-null  object \n",
      " 8   barely_true_counts    12789 non-null  float64\n",
      " 9   false_counts          12789 non-null  float64\n",
      " 10  half_true_counts      12789 non-null  float64\n",
      " 11  mostly_true_counts    12789 non-null  float64\n",
      " 12  pants_on_fire_counts  12789 non-null  float64\n",
      " 13  context               12660 non-null  object \n",
      "dtypes: float64(5), object(9)\n",
      "memory usage: 1.4+ MB\n",
      "None\n",
      "       barely_true_counts  false_counts  half_true_counts  mostly_true_counts  \\\n",
      "count        12789.000000  12789.000000      12789.000000        12789.000000   \n",
      "mean            11.583939     13.359059         17.185785           16.497850   \n",
      "std             18.978037     24.140086         35.847678           36.165276   \n",
      "min              0.000000      0.000000          0.000000            0.000000   \n",
      "25%              0.000000      0.000000          0.000000            0.000000   \n",
      "50%              2.000000      2.000000          3.000000            3.000000   \n",
      "75%             12.000000     15.000000         13.000000           12.000000   \n",
      "max             70.000000    114.000000        160.000000          163.000000   \n",
      "\n",
      "       pants_on_fire_counts  \n",
      "count          12789.000000  \n",
      "mean               6.251388  \n",
      "std               16.180777  \n",
      "min                0.000000  \n",
      "25%                0.000000  \n",
      "50%                1.000000  \n",
      "75%                5.000000  \n",
      "max              105.000000  \n"
     ]
    }
   ],
   "source": [
    "#Check dataset\n",
    "print(df.info())\n",
    "print(df.describe())"
   ]
  },
  {
   "cell_type": "code",
   "execution_count": 194,
   "id": "18d4ddda",
   "metadata": {},
   "outputs": [
    {
     "name": "stdout",
     "output_type": "stream",
     "text": [
      "ID                         0\n",
      "label                      0\n",
      "statement                  0\n",
      "subject                    2\n",
      "speaker                    2\n",
      "job_title               3568\n",
      "state_info              2751\n",
      "party_affiliation          2\n",
      "barely_true_counts         2\n",
      "false_counts               2\n",
      "half_true_counts           2\n",
      "mostly_true_counts         2\n",
      "pants_on_fire_counts       2\n",
      "context                  131\n",
      "dtype: int64\n"
     ]
    }
   ],
   "source": [
    "# check for missing values\n",
    "print(df.isnull().sum())"
   ]
  },
  {
   "cell_type": "code",
   "execution_count": 195,
   "id": "d3e2b351",
   "metadata": {},
   "outputs": [
    {
     "name": "stdout",
     "output_type": "stream",
     "text": [
      "ID                         0\n",
      "label                      0\n",
      "statement                  0\n",
      "subject                    0\n",
      "speaker                    0\n",
      "job_title               3566\n",
      "state_info              2749\n",
      "party_affiliation          0\n",
      "barely_true_counts         0\n",
      "false_counts               0\n",
      "half_true_counts           0\n",
      "mostly_true_counts         0\n",
      "pants_on_fire_counts       0\n",
      "context                  129\n",
      "dtype: int64\n"
     ]
    }
   ],
   "source": [
    "#Removing the rows that contain 2 missing values\n",
    "df = df.dropna(subset=['subject', 'speaker'])\n",
    "print(df.isnull().sum())"
   ]
  },
  {
   "cell_type": "code",
   "execution_count": 196,
   "id": "be6f55bd",
   "metadata": {},
   "outputs": [
    {
     "data": {
      "application/vnd.microsoft.datawrangler.viewer.v0+json": {
       "columns": [
        {
         "name": "index",
         "rawType": "object",
         "type": "string"
        },
        {
         "name": "0",
         "rawType": "float64",
         "type": "float"
        }
       ],
       "ref": "8a0a8dd8-d146-4646-88aa-9eaf90605bff",
       "rows": [
        [
         "ID",
         "0.0"
        ],
        [
         "label",
         "0.0"
        ],
        [
         "statement",
         "0.0"
        ],
        [
         "subject",
         "0.0"
        ],
        [
         "speaker",
         "0.0"
        ],
        [
         "job_title",
         "27.88"
        ],
        [
         "state_info",
         "21.5"
        ],
        [
         "party_affiliation",
         "0.0"
        ],
        [
         "barely_true_counts",
         "0.0"
        ],
        [
         "false_counts",
         "0.0"
        ],
        [
         "half_true_counts",
         "0.0"
        ],
        [
         "mostly_true_counts",
         "0.0"
        ],
        [
         "pants_on_fire_counts",
         "0.0"
        ],
        [
         "context",
         "1.01"
        ]
       ],
       "shape": {
        "columns": 1,
        "rows": 14
       }
      },
      "text/plain": [
       "ID                       0.00\n",
       "label                    0.00\n",
       "statement                0.00\n",
       "subject                  0.00\n",
       "speaker                  0.00\n",
       "job_title               27.88\n",
       "state_info              21.50\n",
       "party_affiliation        0.00\n",
       "barely_true_counts       0.00\n",
       "false_counts             0.00\n",
       "half_true_counts         0.00\n",
       "mostly_true_counts       0.00\n",
       "pants_on_fire_counts     0.00\n",
       "context                  1.01\n",
       "dtype: float64"
      ]
     },
     "execution_count": 196,
     "metadata": {},
     "output_type": "execute_result"
    }
   ],
   "source": [
    "#Checking the percentage of the rest of the missing values\n",
    "miss_perc = (df.isnull().mean() * 100).round(2)\n",
    "miss_perc"
   ]
  },
  {
   "cell_type": "code",
   "execution_count": 197,
   "id": "a3414f2d",
   "metadata": {},
   "outputs": [],
   "source": [
    "#Next we replace the rest of the missing values with \"Unknown\"\n",
    "df['job_title'] = df['job_title'].fillna('Unknown')\n",
    "df['state_info'] = df['state_info'].fillna('Unknown')\n",
    "df['context'] = df['context'].fillna('Unknown')"
   ]
  },
  {
   "cell_type": "code",
   "execution_count": 198,
   "id": "80093976",
   "metadata": {},
   "outputs": [
    {
     "data": {
      "application/vnd.microsoft.datawrangler.viewer.v0+json": {
       "columns": [
        {
         "name": "index",
         "rawType": "object",
         "type": "string"
        },
        {
         "name": "0",
         "rawType": "int64",
         "type": "integer"
        }
       ],
       "ref": "882407f5-212b-473e-b5af-5d5520e7f13b",
       "rows": [
        [
         "ID",
         "0"
        ],
        [
         "label",
         "0"
        ],
        [
         "statement",
         "0"
        ],
        [
         "subject",
         "0"
        ],
        [
         "speaker",
         "0"
        ],
        [
         "job_title",
         "0"
        ],
        [
         "state_info",
         "0"
        ],
        [
         "party_affiliation",
         "0"
        ],
        [
         "barely_true_counts",
         "0"
        ],
        [
         "false_counts",
         "0"
        ],
        [
         "half_true_counts",
         "0"
        ],
        [
         "mostly_true_counts",
         "0"
        ],
        [
         "pants_on_fire_counts",
         "0"
        ],
        [
         "context",
         "0"
        ]
       ],
       "shape": {
        "columns": 1,
        "rows": 14
       }
      },
      "text/plain": [
       "ID                      0\n",
       "label                   0\n",
       "statement               0\n",
       "subject                 0\n",
       "speaker                 0\n",
       "job_title               0\n",
       "state_info              0\n",
       "party_affiliation       0\n",
       "barely_true_counts      0\n",
       "false_counts            0\n",
       "half_true_counts        0\n",
       "mostly_true_counts      0\n",
       "pants_on_fire_counts    0\n",
       "context                 0\n",
       "dtype: int64"
      ]
     },
     "execution_count": 198,
     "metadata": {},
     "output_type": "execute_result"
    }
   ],
   "source": [
    "df.isnull().sum()"
   ]
  },
  {
   "cell_type": "code",
   "execution_count": 199,
   "id": "f9f34e9f",
   "metadata": {},
   "outputs": [
    {
     "data": {
      "application/vnd.microsoft.datawrangler.viewer.v0+json": {
       "columns": [
        {
         "name": "label_binary",
         "rawType": "int64",
         "type": "integer"
        },
        {
         "name": "count",
         "rawType": "int64",
         "type": "integer"
        }
       ],
       "ref": "0ffd532d-fc54-474b-97ed-18ce844358b7",
       "rows": [
        [
         "0",
         "7134"
        ],
        [
         "1",
         "5655"
        ]
       ],
       "shape": {
        "columns": 1,
        "rows": 2
       }
      },
      "text/plain": [
       "label_binary\n",
       "0    7134\n",
       "1    5655\n",
       "Name: count, dtype: int64"
      ]
     },
     "execution_count": 199,
     "metadata": {},
     "output_type": "execute_result"
    }
   ],
   "source": [
    "# We create a new column that defines a binary mapping of the multilabel column. 1 is fake news and 0 is real news.\n",
    "binary_label_map = {\n",
    "    'true': 0,\n",
    "    'mostly-true': 0,\n",
    "    'half-true': 0,\n",
    "    'barely-true': 1,\n",
    "    'false': 1,\n",
    "    'pants-fire': 1\n",
    "}\n",
    "\n",
    "\n",
    "df['label_binary'] = df['label'].map(binary_label_map)\n",
    "\n",
    "\n",
    "df['label_binary'].value_counts()"
   ]
  },
  {
   "cell_type": "code",
   "execution_count": 200,
   "id": "ea596f31",
   "metadata": {},
   "outputs": [
    {
     "name": "stderr",
     "output_type": "stream",
     "text": [
      "C:\\Users\\elena\\AppData\\Local\\Temp\\ipykernel_23820\\779568377.py:9: FutureWarning: Downcasting behavior in `replace` is deprecated and will be removed in a future version. To retain the old behavior, explicitly call `result.infer_objects(copy=False)`. To opt-in to the future behavior, set `pd.set_option('future.no_silent_downcasting', True)`\n",
      "  df['m_label'] = df['label'].replace(label_mapping)\n"
     ]
    }
   ],
   "source": [
    "label_mapping = {\n",
    "    'pants-fire': 1,\n",
    "    'false': 2,\n",
    "    'barely-true': 3,\n",
    "    'half-true': 4,\n",
    "    'mostly-true': 5,\n",
    "    'true': 6}\n",
    "\n",
    "df['m_label'] = df['label'].replace(label_mapping)"
   ]
  },
  {
   "cell_type": "code",
   "execution_count": 201,
   "id": "51fa9b05",
   "metadata": {},
   "outputs": [
    {
     "data": {
      "application/vnd.microsoft.datawrangler.viewer.v0+json": {
       "columns": [
        {
         "name": "index",
         "rawType": "int64",
         "type": "integer"
        },
        {
         "name": "ID",
         "rawType": "object",
         "type": "string"
        },
        {
         "name": "label",
         "rawType": "object",
         "type": "string"
        },
        {
         "name": "statement",
         "rawType": "object",
         "type": "string"
        },
        {
         "name": "subject",
         "rawType": "object",
         "type": "string"
        },
        {
         "name": "speaker",
         "rawType": "object",
         "type": "string"
        },
        {
         "name": "job_title",
         "rawType": "object",
         "type": "string"
        },
        {
         "name": "state_info",
         "rawType": "object",
         "type": "string"
        },
        {
         "name": "party_affiliation",
         "rawType": "object",
         "type": "string"
        },
        {
         "name": "barely_true_counts",
         "rawType": "float64",
         "type": "float"
        },
        {
         "name": "false_counts",
         "rawType": "float64",
         "type": "float"
        },
        {
         "name": "half_true_counts",
         "rawType": "float64",
         "type": "float"
        },
        {
         "name": "mostly_true_counts",
         "rawType": "float64",
         "type": "float"
        },
        {
         "name": "pants_on_fire_counts",
         "rawType": "float64",
         "type": "float"
        },
        {
         "name": "context",
         "rawType": "object",
         "type": "string"
        },
        {
         "name": "label_binary",
         "rawType": "int64",
         "type": "integer"
        },
        {
         "name": "m_label",
         "rawType": "int64",
         "type": "integer"
        }
       ],
       "ref": "d469859e-b8c0-49a8-a0a2-2d12798eaeb7",
       "rows": [
        [
         "0",
         "2635.json",
         "false",
         "Says the Annies List political group supports third-trimester abortions on demand.",
         "abortion",
         "dwayne-bohac",
         "State representative",
         "Texas",
         "republican",
         "0.0",
         "1.0",
         "0.0",
         "0.0",
         "0.0",
         "a mailer",
         "1",
         "2"
        ],
        [
         "1",
         "10540.json",
         "half-true",
         "When did the decline of coal start? It started when natural gas took off that started to begin in (President George W.) Bushs administration.",
         "energy,history,job-accomplishments",
         "scott-surovell",
         "State delegate",
         "Virginia",
         "democrat",
         "0.0",
         "0.0",
         "1.0",
         "1.0",
         "0.0",
         "a floor speech.",
         "0",
         "4"
        ],
        [
         "2",
         "324.json",
         "mostly-true",
         "Hillary Clinton agrees with John McCain \"by voting to give George Bush the benefit of the doubt on Iran.\"",
         "foreign-policy",
         "barack-obama",
         "President",
         "Illinois",
         "democrat",
         "70.0",
         "71.0",
         "160.0",
         "163.0",
         "9.0",
         "Denver",
         "0",
         "5"
        ],
        [
         "3",
         "1123.json",
         "false",
         "Health care reform legislation is likely to mandate free sex change surgeries.",
         "health-care",
         "blog-posting",
         "Unknown",
         "Unknown",
         "none",
         "7.0",
         "19.0",
         "3.0",
         "5.0",
         "44.0",
         "a news release",
         "1",
         "2"
        ],
        [
         "4",
         "9028.json",
         "half-true",
         "The economic turnaround started at the end of my term.",
         "economy,jobs",
         "charlie-crist",
         "Unknown",
         "Florida",
         "democrat",
         "15.0",
         "9.0",
         "20.0",
         "19.0",
         "2.0",
         "an interview on CNN",
         "0",
         "4"
        ],
        [
         "5",
         "12465.json",
         "true",
         "The Chicago Bears have had more starting quarterbacks in the last 10 years than the total number of tenured (UW) faculty fired during the last two decades.",
         "education",
         "robin-vos",
         "Wisconsin Assembly speaker",
         "Wisconsin",
         "republican",
         "0.0",
         "3.0",
         "2.0",
         "5.0",
         "1.0",
         "a an online opinion-piece",
         "0",
         "6"
        ],
        [
         "6",
         "2342.json",
         "barely-true",
         "Jim Dunnam has not lived in the district he represents for years now.",
         "candidates-biography",
         "republican-party-texas",
         "Unknown",
         "Texas",
         "republican",
         "3.0",
         "1.0",
         "1.0",
         "3.0",
         "1.0",
         "a press release.",
         "1",
         "3"
        ],
        [
         "7",
         "153.json",
         "half-true",
         "I'm the only person on this stage who has worked actively just last year passing, along with Russ Feingold, some of the toughest ethics reform since Watergate.",
         "ethics",
         "barack-obama",
         "President",
         "Illinois",
         "democrat",
         "70.0",
         "71.0",
         "160.0",
         "163.0",
         "9.0",
         "a Democratic debate in Philadelphia, Pa.",
         "0",
         "4"
        ],
        [
         "8",
         "5602.json",
         "half-true",
         "However, it took $19.5 million in Oregon Lottery funds for the Port of Newport to eventually land the new NOAA Marine Operations Center-Pacific.",
         "jobs",
         "oregon-lottery",
         "Unknown",
         "Unknown",
         "organization",
         "0.0",
         "0.0",
         "1.0",
         "0.0",
         "1.0",
         "a website ",
         "0",
         "4"
        ],
        [
         "9",
         "9741.json",
         "mostly-true",
         "Says GOP primary opponents Glenn Grothman and Joe Leibham cast a compromise vote that cost $788 million in higher electricity costs.",
         "energy,message-machine-2014,voting-record",
         "duey-stroebel",
         "State representative",
         "Wisconsin",
         "republican",
         "0.0",
         "0.0",
         "0.0",
         "1.0",
         "0.0",
         "an online video",
         "0",
         "5"
        ],
        [
         "10",
         "7115.json",
         "mostly-true",
         "For the first time in history, the share of the national popular vote margin is smaller than the Latino vote margin.",
         "elections",
         "robert-menendez",
         "U.S. Senator",
         "New Jersey",
         "democrat",
         "1.0",
         "3.0",
         "1.0",
         "3.0",
         "0.0",
         "a speech",
         "0",
         "5"
        ],
        [
         "11",
         "4148.json",
         "half-true",
         "Since 2000, nearly 12 million Americans have slipped out of the middle class and into poverty.",
         "economy,jobs,new-hampshire-2012,poverty",
         "bernie-s",
         "U.S. Senator",
         "Vermont",
         "independent",
         "18.0",
         "12.0",
         "22.0",
         "41.0",
         "0.0",
         "a tweet",
         "0",
         "4"
        ],
        [
         "12",
         "5947.json",
         "false",
         "When Mitt Romney was governor of Massachusetts, we didnt just slow the rate of growth of our government, we actually cut it.",
         "history,state-budget",
         "mitt-romney",
         "Former governor",
         "Massachusetts",
         "republican",
         "34.0",
         "32.0",
         "58.0",
         "33.0",
         "19.0",
         "an interview with CBN News",
         "1",
         "2"
        ],
        [
         "13",
         "8616.json",
         "mostly-true",
         "The economy bled $24 billion due to the government shutdown.",
         "economy,federal-budget,health-care",
         "doonesbury",
         "Unknown",
         "Unknown",
         "none",
         "0.0",
         "0.0",
         "2.0",
         "4.0",
         "0.0",
         "a Doonesbury strip in the Sunday comics",
         "0",
         "5"
        ],
        [
         "14",
         "8705.json",
         "barely-true",
         "Most of the (Affordable Care Act) has already in some sense been waived or otherwise suspended.",
         "health-care",
         "george-will",
         "Columnist",
         "Maryland",
         "columnist",
         "7.0",
         "6.0",
         "3.0",
         "5.0",
         "1.0",
         "comments on \"Fox News Sunday\"",
         "1",
         "3"
        ],
        [
         "15",
         "10683.json",
         "half-true",
         "In this last election in November, ... 63 percent of the American people chose not to vote, ... 80 percent of young people, (and) 75 percent of low-income workers chose not to vote.",
         "elections",
         "bernie-s",
         "U.S. Senator",
         "Vermont",
         "independent",
         "18.0",
         "12.0",
         "22.0",
         "41.0",
         "0.0",
         "a town hall in Austin, Texas",
         "0",
         "4"
        ],
        [
         "16",
         "620.json",
         "true",
         "McCain opposed a requirement that the government buy American-made motorcycles. And he said all buy-American provisions were quote 'disgraceful.' ",
         "federal-budget",
         "barack-obama",
         "President",
         "Illinois",
         "democrat",
         "70.0",
         "71.0",
         "160.0",
         "163.0",
         "9.0",
         "a radio ad",
         "0",
         "6"
        ],
        [
         "17",
         "3863.json",
         "barely-true",
         "U.S. Rep. Ron Kind, D-Wis., and his fellow Democrats went on a spending spree and now their credit card is maxed out",
         "federal-budget",
         "national-republican-congressional-committee",
         "Unknown",
         "Unknown",
         "republican",
         "18.0",
         "9.0",
         "8.0",
         "5.0",
         "8.0",
         "a news release",
         "1",
         "3"
        ],
        [
         "18",
         "12372.json",
         "half-true",
         "Water rates in Manila, Philippines, were raised up to 845 percent when a subsidiary of the World Bank became a partial owner.",
         "financial-regulation,foreign-policy,water",
         "gwen-moore",
         "U.S. House member -- 4th District",
         "Wisconsin",
         "democrat",
         "3.0",
         "4.0",
         "4.0",
         "3.0",
         "1.0",
         "a congressional hearing",
         "0",
         "4"
        ],
        [
         "19",
         "12385.json",
         "mostly-true",
         "Almost 100,000 people left Puerto Rico last year.",
         "bankruptcy,economy,population",
         "jack-lew",
         "Treasury secretary ",
         "Washington, D.C. ",
         "democrat",
         "0.0",
         "1.0",
         "0.0",
         "1.0",
         "0.0",
         "an interview with Bloomberg News",
         "0",
         "5"
        ],
        [
         "20",
         "10173.json",
         "false",
         "Women and men both are making less when you adjust for inflation than when John Kitzhaber was first elected governor.",
         "economy,income",
         "dennis-richardson",
         "state representative",
         "Oregon",
         "republican",
         "0.0",
         "4.0",
         "1.0",
         "2.0",
         "0.0",
         "a campaign debate",
         "1",
         "2"
        ],
        [
         "21",
         "9867.json",
         "mostly-true",
         "The United States has the highest corporate tax rate in the free world.",
         "corporations,taxes",
         "eric-bolling",
         "Co-host on Fox News Channel's \"The Five\"",
         "Unknown",
         "none",
         "2.0",
         "1.0",
         "1.0",
         "1.0",
         "0.0",
         "a discussion on Fox News' \"The Five\"",
         "0",
         "5"
        ],
        [
         "22",
         "12408.json",
         "mostly-true",
         "We just had the best year for the auto industry in America in history.",
         "economy",
         "hillary-clinton",
         "Presidential candidate",
         "New York",
         "democrat",
         "40.0",
         "29.0",
         "69.0",
         "76.0",
         "7.0",
         "remarks at a Kentucky rally",
         "0",
         "5"
        ],
        [
         "23",
         "2673.json",
         "half-true",
         "Says Scott Walker favors cutting up to 350,000 families and children off health care.",
         "health-care,message-machine",
         "greater-wisconsin-political-fund",
         "Unknown",
         "Wisconsin",
         "none",
         "3.0",
         "3.0",
         "3.0",
         "1.0",
         "1.0",
         "a campaign TV ad",
         "0",
         "4"
        ],
        [
         "24",
         "7057.json",
         "barely-true",
         "Says Mitt Romney wants to get rid of Planned Parenthood.",
         "abortion,federal-budget,health-care",
         "planned-parenthood-action-fund",
         "Advocacy group",
         "Washington, D.C.",
         "none",
         "1.0",
         "0.0",
         "0.0",
         "0.0",
         "0.0",
         "a radio ad",
         "1",
         "3"
        ],
        [
         "25",
         "10215.json",
         "false",
         "I dont know who (Jonathan Gruber) is.",
         "health-care",
         "nancy-pelosi",
         "House Minority Leader",
         "California",
         "democrat",
         "3.0",
         "7.0",
         "11.0",
         "2.0",
         "3.0",
         "a news conference",
         "1",
         "2"
        ],
        [
         "26",
         "12517.json",
         "mostly-true",
         "Hate crimes against American Muslims and mosques have tripled after Paris and San Bernardino.",
         "crime,diversity,homeland-security,terrorism",
         "hillary-clinton",
         "Presidential candidate",
         "New York",
         "democrat",
         "40.0",
         "29.0",
         "69.0",
         "76.0",
         "7.0",
         "a speech after a terrorist attack in Orlando",
         "0",
         "5"
        ],
        [
         "27",
         "3910.json",
         "half-true",
         "Rick Perry has never lost an election and remains the only person to have won the Texas governorship three times in landslide elections.",
         "candidates-biography",
         "ted-nugent",
         "musician",
         "Texas",
         "republican",
         "0.0",
         "0.0",
         "2.0",
         "0.0",
         "2.0",
         "an oped column.",
         "0",
         "4"
        ],
        [
         "28",
         "11092.json",
         "false",
         "ISIS supporter tweeted at 10:34 a.m. Shooting began at 10:45 a.m. in Chattanooga, Tenn.",
         "technology,terrorism",
         "pamela-geller",
         "President of American Freedom Defense Intitiative",
         "New York",
         "activist",
         "0.0",
         "1.0",
         "1.0",
         "0.0",
         "0.0",
         "a tweet ",
         "1",
         "2"
        ],
        [
         "29",
         "12163.json",
         "mostly-true",
         "Youth unemployment in minority communities is about 40 to 45 percent.",
         "diversity,economy,jobs",
         "peter-kinder",
         "Lieutenant governor",
         "Missouri",
         "republican",
         "0.0",
         "0.0",
         "0.0",
         "1.0",
         "1.0",
         "a gubernatorial debate",
         "0",
         "5"
        ],
        [
         "30",
         "13237.json",
         "true",
         "Says Paul Ryan is still endorsing Trump.",
         "candidates-biography,elections,campaign-advertising",
         "hillary-clinton",
         "Presidential candidate",
         "New York",
         "democrat",
         "40.0",
         "29.0",
         "69.0",
         "76.0",
         "7.0",
         "a tweet",
         "0",
         "6"
        ],
        [
         "31",
         "5383.json",
         "barely-true",
         "If you look at states that are right to work, they constantly do not have budget deficits and they have very good business climates.",
         "economy,labor,states,unions,workers",
         "nicholas-kettle",
         "State senator",
         "Rhode Island",
         "republican",
         "1.0",
         "0.0",
         "0.0",
         "0.0",
         "0.0",
         "a radio talk show",
         "1",
         "3"
        ],
        [
         "32",
         "9727.json",
         "false",
         "What (the Obama administration is) going to come out with in the next several months is youre not even going to be able to burn coal very limitedly in the existing plants.",
         "climate-change,energy,environment,government-regulation",
         "shelley-moore-capito",
         "U.S. House of Representative",
         "West Virginia",
         "republican",
         "1.0",
         "1.0",
         "0.0",
         "0.0",
         "0.0",
         "a campaign ad",
         "1",
         "2"
        ],
        [
         "33",
         "8239.json",
         "mostly-true",
         "We cut business taxes so today 70 percent of our businesses dont pay a business tax.",
         "small-business,taxes",
         "rick-scott",
         "Governor",
         "Florida",
         "republican",
         "28.0",
         "23.0",
         "38.0",
         "34.0",
         "7.0",
         "a speech at an Americans for Prosperity Foundation conference",
         "0",
         "5"
        ],
        [
         "34",
         "10121.json",
         "mostly-true",
         "Says Mark Pryor votes with Obama 93 percent of the time.",
         "bipartisanship,voting-record",
         "tom-cotton",
         "U.S. House of Representatives",
         "Arkansas",
         "republican",
         "3.0",
         "4.0",
         "2.0",
         "3.0",
         "1.0",
         "a debate",
         "0",
         "5"
        ],
        [
         "35",
         "7550.json",
         "true",
         "We have a federal government that thinks they have the authority to regulate our toilet seats.",
         "consumer-safety,corrections-and-updates,government-regulation,market-regulation,states,supreme-court,workers",
         "ted-cruz",
         "Senator",
         "Texas",
         "republican",
         "36.0",
         "33.0",
         "15.0",
         "19.0",
         "8.0",
         "a speech at CPAC",
         "0",
         "6"
        ],
        [
         "36",
         "9018.json",
         "true",
         "Austin is a city that has basically doubled in size every 25 years or so since it was founded.",
         "city-government,population",
         "lee-leffingwell",
         "Austin mayor",
         "Texas",
         "democrat",
         "1.0",
         "0.0",
         "4.0",
         "1.0",
         "0.0",
         "his \"State of the City\" address",
         "0",
         "6"
        ],
        [
         "37",
         "1038.json",
         "true",
         "The nuclear test conducted in our nation this time is the Earth's 2,054th nuclear test. The five permanent members of the U.N. Security Council have conducted 99.99 percent of the total nuclear tests.",
         "military",
         "north-korea",
         "Unknown",
         "Unknown",
         "none",
         "0.0",
         "0.0",
         "0.0",
         "0.0",
         "0.0",
         "a released statement",
         "0",
         "6"
        ],
        [
         "38",
         "2940.json",
         "pants-fire",
         "In the case of a catastrophic event, the Atlanta-area offices of the Centers for Disease Control and Prevention will self-destruct.",
         "health-care,pop-culture",
         "walking-dead",
         "Unknown",
         "Unknown",
         "none",
         "0.0",
         "0.0",
         "0.0",
         "0.0",
         "1.0",
         "the TV show's season finale",
         "1",
         "1"
        ],
        [
         "39",
         "8492.json",
         "true",
         "Under President George W. Bush, we added $4.9 trillion to the debt. Under President Obama weve added $6.5 trillion to the debt.",
         "debt",
         "kelly-ayotte",
         "U.S. Senator",
         "New Hampshire",
         "republican",
         "2.0",
         "1.0",
         "1.0",
         "4.0",
         "0.0",
         "a town hall meeting in Hudson, N.H.",
         "0",
         "6"
        ],
        [
         "40",
         "5352.json",
         "false",
         "Says a U.S. Supreme Court justice suggested that some U.S. cases will be decided based on South African law.",
         "legal-issues,supreme-court",
         "marco-rubio",
         "U.S. Senator",
         "Florida",
         "republican",
         "33.0",
         "24.0",
         "32.0",
         "35.0",
         "5.0",
         "a speech at the CPAC conference",
         "1",
         "2"
        ],
        [
         "41",
         "12027.json",
         "half-true",
         "Says Marco Rubio skipped 18 defense votes including one to arm the Kurds to fight ISIS.",
         "military,voting-record",
         "keep-promise-1-pac",
         "Unknown",
         "Unknown",
         "republican",
         "0.0",
         "1.0",
         "1.0",
         "0.0",
         "0.0",
         "a TV ad",
         "0",
         "4"
        ],
        [
         "42",
         "5210.json",
         "pants-fire",
         "Rep. David Cicilline is responsible for the federal loan guarantee to Solyndra, the failed solar company",
         "energy,stimulus",
         "national-republican-congressional-committee",
         "Unknown",
         "Unknown",
         "republican",
         "18.0",
         "9.0",
         "8.0",
         "5.0",
         "8.0",
         "a news release",
         "1",
         "1"
        ],
        [
         "43",
         "7993.json",
         "pants-fire",
         "Says Ohio budget item later signed into law by Gov. John Kasich requires women seeking an abortion to undergo a mandatory vaginal probe.",
         "abortion,pundits,women",
         "rachel-maddow",
         "MSNBC host",
         "Unknown",
         "none",
         "6.0",
         "6.0",
         "4.0",
         "6.0",
         "1.0",
         "On “The Rachel Maddow Show,” broadcast on MSNBC",
         "1",
         "1"
        ],
        [
         "44",
         "1926.json",
         "false",
         "We have a director of homeland security who cannot use and will not use the term 'terrorist attack' but instead substitutes 'man-made disaster.' ",
         "homeland-security,terrorism",
         "jerry-patterson",
         "state land commissioner",
         "Texas",
         "republican",
         "1.0",
         "1.0",
         "1.0",
         "3.0",
         "0.0",
         "a speech at the Texas Republican Party Convention",
         "1",
         "2"
        ],
        [
         "45",
         "11418.json",
         "half-true",
         "African-American youth unemployment is 51 percent. Hispanic youth unemployment is 36 percent.",
         "diversity,economy,jobs",
         "bernie-s",
         "U.S. Senator",
         "Vermont",
         "independent",
         "18.0",
         "12.0",
         "22.0",
         "41.0",
         "0.0",
         "a Democratic presidential debate in Las Vegas",
         "0",
         "4"
        ],
        [
         "46",
         "7990.json",
         "pants-fire",
         "Obamacare will provide insurance to all non-U.S. residents, even if they are here illegally.",
         "health-care,immigration",
         "chain-email",
         "Unknown",
         "Unknown",
         "none",
         "11.0",
         "43.0",
         "8.0",
         "5.0",
         "105.0",
         "a long-running chain email",
         "1",
         "1"
        ],
        [
         "47",
         "3652.json",
         "false",
         "President Barack Obama took exactly none of his own deficit reduction commissions ideas. Not one.",
         "deficit,federal-budget",
         "john-boehner",
         "Speaker of the House of Representatives",
         "Ohio",
         "republican",
         "13.0",
         "22.0",
         "11.0",
         "4.0",
         "2.0",
         "an interview with ABC news",
         "1",
         "2"
        ],
        [
         "48",
         "12848.json",
         "pants-fire",
         "It was under Barack Obama and Hillary Clinton that changed the rules of engagement that probably cost (Capt. Humayun Khans) life.",
         "iraq,military",
         "katrina-pierson",
         "Unknown",
         "Unknown",
         "republican",
         "0.0",
         "0.0",
         "0.0",
         "0.0",
         "1.0",
         "an interview on CNN.",
         "1",
         "1"
        ],
        [
         "49",
         "13503.json",
         "true",
         "Hillary Clinton in 2005 co-sponsored legislation that would jail flag burners.",
         "patriotism",
         "blog-posting",
         "Unknown",
         "Unknown",
         "none",
         "7.0",
         "19.0",
         "3.0",
         "5.0",
         "44.0",
         "Townhall.com ",
         "0",
         "6"
        ]
       ],
       "shape": {
        "columns": 16,
        "rows": 12789
       }
      },
      "text/html": [
       "<div>\n",
       "<style scoped>\n",
       "    .dataframe tbody tr th:only-of-type {\n",
       "        vertical-align: middle;\n",
       "    }\n",
       "\n",
       "    .dataframe tbody tr th {\n",
       "        vertical-align: top;\n",
       "    }\n",
       "\n",
       "    .dataframe thead th {\n",
       "        text-align: right;\n",
       "    }\n",
       "</style>\n",
       "<table border=\"1\" class=\"dataframe\">\n",
       "  <thead>\n",
       "    <tr style=\"text-align: right;\">\n",
       "      <th></th>\n",
       "      <th>ID</th>\n",
       "      <th>label</th>\n",
       "      <th>statement</th>\n",
       "      <th>subject</th>\n",
       "      <th>speaker</th>\n",
       "      <th>job_title</th>\n",
       "      <th>state_info</th>\n",
       "      <th>party_affiliation</th>\n",
       "      <th>barely_true_counts</th>\n",
       "      <th>false_counts</th>\n",
       "      <th>half_true_counts</th>\n",
       "      <th>mostly_true_counts</th>\n",
       "      <th>pants_on_fire_counts</th>\n",
       "      <th>context</th>\n",
       "      <th>label_binary</th>\n",
       "      <th>m_label</th>\n",
       "    </tr>\n",
       "  </thead>\n",
       "  <tbody>\n",
       "    <tr>\n",
       "      <th>0</th>\n",
       "      <td>2635.json</td>\n",
       "      <td>false</td>\n",
       "      <td>Says the Annies List political group supports ...</td>\n",
       "      <td>abortion</td>\n",
       "      <td>dwayne-bohac</td>\n",
       "      <td>State representative</td>\n",
       "      <td>Texas</td>\n",
       "      <td>republican</td>\n",
       "      <td>0.0</td>\n",
       "      <td>1.0</td>\n",
       "      <td>0.0</td>\n",
       "      <td>0.0</td>\n",
       "      <td>0.0</td>\n",
       "      <td>a mailer</td>\n",
       "      <td>1</td>\n",
       "      <td>2</td>\n",
       "    </tr>\n",
       "    <tr>\n",
       "      <th>1</th>\n",
       "      <td>10540.json</td>\n",
       "      <td>half-true</td>\n",
       "      <td>When did the decline of coal start? It started...</td>\n",
       "      <td>energy,history,job-accomplishments</td>\n",
       "      <td>scott-surovell</td>\n",
       "      <td>State delegate</td>\n",
       "      <td>Virginia</td>\n",
       "      <td>democrat</td>\n",
       "      <td>0.0</td>\n",
       "      <td>0.0</td>\n",
       "      <td>1.0</td>\n",
       "      <td>1.0</td>\n",
       "      <td>0.0</td>\n",
       "      <td>a floor speech.</td>\n",
       "      <td>0</td>\n",
       "      <td>4</td>\n",
       "    </tr>\n",
       "    <tr>\n",
       "      <th>2</th>\n",
       "      <td>324.json</td>\n",
       "      <td>mostly-true</td>\n",
       "      <td>Hillary Clinton agrees with John McCain \"by vo...</td>\n",
       "      <td>foreign-policy</td>\n",
       "      <td>barack-obama</td>\n",
       "      <td>President</td>\n",
       "      <td>Illinois</td>\n",
       "      <td>democrat</td>\n",
       "      <td>70.0</td>\n",
       "      <td>71.0</td>\n",
       "      <td>160.0</td>\n",
       "      <td>163.0</td>\n",
       "      <td>9.0</td>\n",
       "      <td>Denver</td>\n",
       "      <td>0</td>\n",
       "      <td>5</td>\n",
       "    </tr>\n",
       "    <tr>\n",
       "      <th>3</th>\n",
       "      <td>1123.json</td>\n",
       "      <td>false</td>\n",
       "      <td>Health care reform legislation is likely to ma...</td>\n",
       "      <td>health-care</td>\n",
       "      <td>blog-posting</td>\n",
       "      <td>Unknown</td>\n",
       "      <td>Unknown</td>\n",
       "      <td>none</td>\n",
       "      <td>7.0</td>\n",
       "      <td>19.0</td>\n",
       "      <td>3.0</td>\n",
       "      <td>5.0</td>\n",
       "      <td>44.0</td>\n",
       "      <td>a news release</td>\n",
       "      <td>1</td>\n",
       "      <td>2</td>\n",
       "    </tr>\n",
       "    <tr>\n",
       "      <th>4</th>\n",
       "      <td>9028.json</td>\n",
       "      <td>half-true</td>\n",
       "      <td>The economic turnaround started at the end of ...</td>\n",
       "      <td>economy,jobs</td>\n",
       "      <td>charlie-crist</td>\n",
       "      <td>Unknown</td>\n",
       "      <td>Florida</td>\n",
       "      <td>democrat</td>\n",
       "      <td>15.0</td>\n",
       "      <td>9.0</td>\n",
       "      <td>20.0</td>\n",
       "      <td>19.0</td>\n",
       "      <td>2.0</td>\n",
       "      <td>an interview on CNN</td>\n",
       "      <td>0</td>\n",
       "      <td>4</td>\n",
       "    </tr>\n",
       "    <tr>\n",
       "      <th>...</th>\n",
       "      <td>...</td>\n",
       "      <td>...</td>\n",
       "      <td>...</td>\n",
       "      <td>...</td>\n",
       "      <td>...</td>\n",
       "      <td>...</td>\n",
       "      <td>...</td>\n",
       "      <td>...</td>\n",
       "      <td>...</td>\n",
       "      <td>...</td>\n",
       "      <td>...</td>\n",
       "      <td>...</td>\n",
       "      <td>...</td>\n",
       "      <td>...</td>\n",
       "      <td>...</td>\n",
       "      <td>...</td>\n",
       "    </tr>\n",
       "    <tr>\n",
       "      <th>12786</th>\n",
       "      <td>3419.json</td>\n",
       "      <td>half-true</td>\n",
       "      <td>For the first time in more than a decade, impo...</td>\n",
       "      <td>energy,oil-spill,trade</td>\n",
       "      <td>barack-obama</td>\n",
       "      <td>President</td>\n",
       "      <td>Illinois</td>\n",
       "      <td>democrat</td>\n",
       "      <td>70.0</td>\n",
       "      <td>71.0</td>\n",
       "      <td>160.0</td>\n",
       "      <td>163.0</td>\n",
       "      <td>9.0</td>\n",
       "      <td>a press conference</td>\n",
       "      <td>0</td>\n",
       "      <td>4</td>\n",
       "    </tr>\n",
       "    <tr>\n",
       "      <th>12787</th>\n",
       "      <td>12548.json</td>\n",
       "      <td>mostly-true</td>\n",
       "      <td>Says Donald Trump has bankrupted his companies...</td>\n",
       "      <td>candidates-biography</td>\n",
       "      <td>hillary-clinton</td>\n",
       "      <td>Presidential candidate</td>\n",
       "      <td>New York</td>\n",
       "      <td>democrat</td>\n",
       "      <td>40.0</td>\n",
       "      <td>29.0</td>\n",
       "      <td>69.0</td>\n",
       "      <td>76.0</td>\n",
       "      <td>7.0</td>\n",
       "      <td>a speech on the economy</td>\n",
       "      <td>0</td>\n",
       "      <td>5</td>\n",
       "    </tr>\n",
       "    <tr>\n",
       "      <th>12788</th>\n",
       "      <td>401.json</td>\n",
       "      <td>true</td>\n",
       "      <td>John McCain and George Bush have \"absolutely n...</td>\n",
       "      <td>health-care</td>\n",
       "      <td>campaign-defend-america</td>\n",
       "      <td>Unknown</td>\n",
       "      <td>Washington, D.C.</td>\n",
       "      <td>none</td>\n",
       "      <td>0.0</td>\n",
       "      <td>1.0</td>\n",
       "      <td>0.0</td>\n",
       "      <td>2.0</td>\n",
       "      <td>0.0</td>\n",
       "      <td>a television ad</td>\n",
       "      <td>0</td>\n",
       "      <td>6</td>\n",
       "    </tr>\n",
       "    <tr>\n",
       "      <th>12789</th>\n",
       "      <td>1055.json</td>\n",
       "      <td>false</td>\n",
       "      <td>A new poll shows 62 percent support the presid...</td>\n",
       "      <td>health-care</td>\n",
       "      <td>americans-united-change</td>\n",
       "      <td>Unknown</td>\n",
       "      <td>Unknown</td>\n",
       "      <td>none</td>\n",
       "      <td>1.0</td>\n",
       "      <td>4.0</td>\n",
       "      <td>4.0</td>\n",
       "      <td>1.0</td>\n",
       "      <td>0.0</td>\n",
       "      <td>an Internet ad.</td>\n",
       "      <td>1</td>\n",
       "      <td>2</td>\n",
       "    </tr>\n",
       "    <tr>\n",
       "      <th>12790</th>\n",
       "      <td>9117.json</td>\n",
       "      <td>barely-true</td>\n",
       "      <td>No one claims the report vindicating New Jerse...</td>\n",
       "      <td>candidates-biography,infrastructure</td>\n",
       "      <td>rudy-giuliani</td>\n",
       "      <td>Attorney</td>\n",
       "      <td>New York</td>\n",
       "      <td>republican</td>\n",
       "      <td>9.0</td>\n",
       "      <td>11.0</td>\n",
       "      <td>10.0</td>\n",
       "      <td>7.0</td>\n",
       "      <td>3.0</td>\n",
       "      <td>comments on NBC's \"Meet the Press\"</td>\n",
       "      <td>1</td>\n",
       "      <td>3</td>\n",
       "    </tr>\n",
       "  </tbody>\n",
       "</table>\n",
       "<p>12789 rows × 16 columns</p>\n",
       "</div>"
      ],
      "text/plain": [
       "               ID        label  \\\n",
       "0       2635.json        false   \n",
       "1      10540.json    half-true   \n",
       "2        324.json  mostly-true   \n",
       "3       1123.json        false   \n",
       "4       9028.json    half-true   \n",
       "...           ...          ...   \n",
       "12786   3419.json    half-true   \n",
       "12787  12548.json  mostly-true   \n",
       "12788    401.json         true   \n",
       "12789   1055.json        false   \n",
       "12790   9117.json  barely-true   \n",
       "\n",
       "                                               statement  \\\n",
       "0      Says the Annies List political group supports ...   \n",
       "1      When did the decline of coal start? It started...   \n",
       "2      Hillary Clinton agrees with John McCain \"by vo...   \n",
       "3      Health care reform legislation is likely to ma...   \n",
       "4      The economic turnaround started at the end of ...   \n",
       "...                                                  ...   \n",
       "12786  For the first time in more than a decade, impo...   \n",
       "12787  Says Donald Trump has bankrupted his companies...   \n",
       "12788  John McCain and George Bush have \"absolutely n...   \n",
       "12789  A new poll shows 62 percent support the presid...   \n",
       "12790  No one claims the report vindicating New Jerse...   \n",
       "\n",
       "                                   subject                  speaker  \\\n",
       "0                                 abortion             dwayne-bohac   \n",
       "1       energy,history,job-accomplishments           scott-surovell   \n",
       "2                           foreign-policy             barack-obama   \n",
       "3                              health-care             blog-posting   \n",
       "4                             economy,jobs            charlie-crist   \n",
       "...                                    ...                      ...   \n",
       "12786               energy,oil-spill,trade             barack-obama   \n",
       "12787                 candidates-biography          hillary-clinton   \n",
       "12788                          health-care  campaign-defend-america   \n",
       "12789                          health-care  americans-united-change   \n",
       "12790  candidates-biography,infrastructure            rudy-giuliani   \n",
       "\n",
       "                    job_title        state_info party_affiliation  \\\n",
       "0        State representative             Texas        republican   \n",
       "1              State delegate          Virginia          democrat   \n",
       "2                   President          Illinois          democrat   \n",
       "3                     Unknown           Unknown              none   \n",
       "4                     Unknown           Florida          democrat   \n",
       "...                       ...               ...               ...   \n",
       "12786               President          Illinois          democrat   \n",
       "12787  Presidential candidate          New York          democrat   \n",
       "12788                 Unknown  Washington, D.C.              none   \n",
       "12789                 Unknown           Unknown              none   \n",
       "12790                Attorney          New York        republican   \n",
       "\n",
       "       barely_true_counts  false_counts  half_true_counts  mostly_true_counts  \\\n",
       "0                     0.0           1.0               0.0                 0.0   \n",
       "1                     0.0           0.0               1.0                 1.0   \n",
       "2                    70.0          71.0             160.0               163.0   \n",
       "3                     7.0          19.0               3.0                 5.0   \n",
       "4                    15.0           9.0              20.0                19.0   \n",
       "...                   ...           ...               ...                 ...   \n",
       "12786                70.0          71.0             160.0               163.0   \n",
       "12787                40.0          29.0              69.0                76.0   \n",
       "12788                 0.0           1.0               0.0                 2.0   \n",
       "12789                 1.0           4.0               4.0                 1.0   \n",
       "12790                 9.0          11.0              10.0                 7.0   \n",
       "\n",
       "       pants_on_fire_counts                             context  label_binary  \\\n",
       "0                       0.0                            a mailer             1   \n",
       "1                       0.0                     a floor speech.             0   \n",
       "2                       9.0                              Denver             0   \n",
       "3                      44.0                      a news release             1   \n",
       "4                       2.0                 an interview on CNN             0   \n",
       "...                     ...                                 ...           ...   \n",
       "12786                   9.0                  a press conference             0   \n",
       "12787                   7.0             a speech on the economy             0   \n",
       "12788                   0.0                     a television ad             0   \n",
       "12789                   0.0                     an Internet ad.             1   \n",
       "12790                   3.0  comments on NBC's \"Meet the Press\"             1   \n",
       "\n",
       "       m_label  \n",
       "0            2  \n",
       "1            4  \n",
       "2            5  \n",
       "3            2  \n",
       "4            4  \n",
       "...        ...  \n",
       "12786        4  \n",
       "12787        5  \n",
       "12788        6  \n",
       "12789        2  \n",
       "12790        3  \n",
       "\n",
       "[12789 rows x 16 columns]"
      ]
     },
     "execution_count": 201,
     "metadata": {},
     "output_type": "execute_result"
    }
   ],
   "source": [
    "df"
   ]
  },
  {
   "cell_type": "code",
   "execution_count": 202,
   "id": "6598df98",
   "metadata": {},
   "outputs": [
    {
     "name": "stdout",
     "output_type": "stream",
     "text": [
      "<class 'pandas.core.frame.DataFrame'>\n",
      "Index: 12789 entries, 0 to 12790\n",
      "Data columns (total 16 columns):\n",
      " #   Column                Non-Null Count  Dtype \n",
      "---  ------                --------------  ----- \n",
      " 0   ID                    12789 non-null  object\n",
      " 1   label                 12789 non-null  object\n",
      " 2   statement             12789 non-null  object\n",
      " 3   subject               12789 non-null  object\n",
      " 4   speaker               12789 non-null  object\n",
      " 5   job_title             12789 non-null  object\n",
      " 6   state_info            12789 non-null  object\n",
      " 7   party_affiliation     12789 non-null  object\n",
      " 8   barely_true_counts    12789 non-null  int64 \n",
      " 9   false_counts          12789 non-null  int64 \n",
      " 10  half_true_counts      12789 non-null  int64 \n",
      " 11  mostly_true_counts    12789 non-null  int64 \n",
      " 12  pants_on_fire_counts  12789 non-null  int64 \n",
      " 13  context               12789 non-null  object\n",
      " 14  label_binary          12789 non-null  int64 \n",
      " 15  m_label               12789 non-null  int64 \n",
      "dtypes: int64(7), object(9)\n",
      "memory usage: 1.7+ MB\n"
     ]
    }
   ],
   "source": [
    "#  Changing types to proper format\n",
    "df['barely_true_counts'] = df['barely_true_counts'].astype(int)\n",
    "df['false_counts'] = df['false_counts'].astype(int)\n",
    "df['half_true_counts'] = df['half_true_counts'].astype(int)\n",
    "df['mostly_true_counts'] = df['mostly_true_counts'].astype(int)\n",
    "df['pants_on_fire_counts'] = df['pants_on_fire_counts'].astype(int)\n",
    "\n",
    "df.info()"
   ]
  },
  {
   "cell_type": "code",
   "execution_count": 203,
   "id": "a4d6c8f7",
   "metadata": {},
   "outputs": [
    {
     "data": {
      "application/vnd.microsoft.datawrangler.viewer.v0+json": {
       "columns": [
        {
         "name": "party_affiliation",
         "rawType": "object",
         "type": "string"
        },
        {
         "name": "count",
         "rawType": "int64",
         "type": "integer"
        }
       ],
       "ref": "9f29fbb4-68bc-44a5-bfaa-3e7ba9482c27",
       "rows": [
        [
         "republican",
         "5665"
        ],
        [
         "democrat",
         "4137"
        ],
        [
         "none",
         "2181"
        ],
        [
         "organization",
         "264"
        ],
        [
         "independent",
         "180"
        ],
        [
         "newsmaker",
         "64"
        ],
        [
         "libertarian",
         "51"
        ],
        [
         "journalist",
         "49"
        ],
        [
         "activist",
         "45"
        ],
        [
         "columnist",
         "44"
        ],
        [
         "talk-show-host",
         "32"
        ],
        [
         "state-official",
         "24"
        ],
        [
         "labor-leader",
         "15"
        ],
        [
         "business-leader",
         "11"
        ],
        [
         "tea-party-member",
         "10"
        ],
        [
         "education-official",
         "3"
        ],
        [
         "green",
         "3"
        ],
        [
         "constitution-party",
         "3"
        ],
        [
         "county-commissioner",
         "2"
        ],
        [
         "government-body",
         "2"
        ],
        [
         "Moderate",
         "1"
        ],
        [
         "liberal-party-canada",
         "1"
        ],
        [
         "ocean-state-tea-party-action",
         "1"
        ],
        [
         "democratic-farmer-labor",
         "1"
        ]
       ],
       "shape": {
        "columns": 1,
        "rows": 24
       }
      },
      "text/plain": [
       "party_affiliation\n",
       "republican                      5665\n",
       "democrat                        4137\n",
       "none                            2181\n",
       "organization                     264\n",
       "independent                      180\n",
       "newsmaker                         64\n",
       "libertarian                       51\n",
       "journalist                        49\n",
       "activist                          45\n",
       "columnist                         44\n",
       "talk-show-host                    32\n",
       "state-official                    24\n",
       "labor-leader                      15\n",
       "business-leader                   11\n",
       "tea-party-member                  10\n",
       "education-official                 3\n",
       "green                              3\n",
       "constitution-party                 3\n",
       "county-commissioner                2\n",
       "government-body                    2\n",
       "Moderate                           1\n",
       "liberal-party-canada               1\n",
       "ocean-state-tea-party-action       1\n",
       "democratic-farmer-labor            1\n",
       "Name: count, dtype: int64"
      ]
     },
     "execution_count": 203,
     "metadata": {},
     "output_type": "execute_result"
    }
   ],
   "source": [
    "# Checking party affiliation distribution\n",
    "df['party_affiliation'].value_counts()"
   ]
  },
  {
   "cell_type": "code",
   "execution_count": 204,
   "id": "cd4e9f31",
   "metadata": {},
   "outputs": [],
   "source": [
    "# Replacing 'none' with 'no affiliation' & dropping rest values\n",
    "df['party_affiliation'].unique()\n",
    "\n",
    "df.drop(df[df['party_affiliation'].isin(['democrat','republican','none'])==False].index, inplace=True)\n",
    "\n",
    "df['party_affiliation'] = df['party_affiliation'].replace('none', 'no affiliation')\n",
    "\n"
   ]
  },
  {
   "cell_type": "markdown",
   "id": "df77b8d6",
   "metadata": {},
   "source": [
    "Exploratory Data Analysis (EDA)"
   ]
  },
  {
   "cell_type": "code",
   "execution_count": 205,
   "id": "35a512be",
   "metadata": {},
   "outputs": [
    {
     "data": {
      "text/plain": [
       "(array([0, 1, 2]),\n",
       " [Text(0, 0, 'republican'),\n",
       "  Text(1, 0, 'democrat'),\n",
       "  Text(2, 0, 'no affiliation')])"
      ]
     },
     "execution_count": 205,
     "metadata": {},
     "output_type": "execute_result"
    },
    {
     "data": {
      "image/png": "[encoded data removed]",
      "text/plain": [
       "<Figure size 1000x500 with 1 Axes>"
      ]
     },
     "metadata": {},
     "output_type": "display_data"
    }
   ],
   "source": [
    "#Checking if the 'party_affiliation' changes worked\n",
    "df['party_affiliation'].value_counts().plot(kind='bar', figsize=(10, 5))\n",
    "plt.title('Party Affiliation Distribution')\n",
    "plt.xticks(rotation=0)"
   ]
  },
  {
   "cell_type": "code",
   "execution_count": 206,
   "id": "f905907f",
   "metadata": {},
   "outputs": [
    {
     "data": {
      "text/plain": [
       "(array([0, 1, 2, 3, 4, 5]),\n",
       " [Text(0, 0, 'half-true'),\n",
       "  Text(1, 0, 'false'),\n",
       "  Text(2, 0, 'mostly-true'),\n",
       "  Text(3, 0, 'barely-true'),\n",
       "  Text(4, 0, 'true'),\n",
       "  Text(5, 0, 'pants-fire')])"
      ]
     },
     "execution_count": 206,
     "metadata": {},
     "output_type": "execute_result"
    },
    {
     "data": {
      "image/png": "[encoded data removed]",
      "text/plain": [
       "<Figure size 640x480 with 1 Axes>"
      ]
     },
     "metadata": {},
     "output_type": "display_data"
    }
   ],
   "source": [
    "# Distribution of labels\n",
    "df['label'].value_counts().plot(kind='bar')\n",
    "plt.title('Label Distribution')\n",
    "plt.xticks(rotation=30)"
   ]
  },
  {
   "cell_type": "code",
   "execution_count": 207,
   "id": "63222aa3",
   "metadata": {},
   "outputs": [
    {
     "data": {
      "text/plain": [
       "Text(0, 0.5, 'Count')"
      ]
     },
     "execution_count": 207,
     "metadata": {},
     "output_type": "execute_result"
    },
    {
     "data": {
      "image/png": "[encoded data removed]",
      "text/plain": [
       "<Figure size 640x480 with 1 Axes>"
      ]
     },
     "metadata": {},
     "output_type": "display_data"
    }
   ],
   "source": [
    "df['label_binary'].value_counts().plot(kind='bar')\n",
    "plt.title('True-False Distribution')\n",
    "plt.xticks(rotation=0, ha='center')\n",
    "plt.xlabel('True-False')\n",
    "plt.ylabel('Count')"
   ]
  },
  {
   "cell_type": "code",
   "execution_count": 208,
   "id": "6e282c6f",
   "metadata": {},
   "outputs": [
    {
     "data": {
      "application/vnd.microsoft.datawrangler.viewer.v0+json": {
       "columns": [
        {
         "name": "index",
         "rawType": "object",
         "type": "string"
        },
        {
         "name": "statement",
         "rawType": "float64",
         "type": "float"
        }
       ],
       "ref": "c842aa8d-307f-46df-ab2a-86b41f914fe7",
       "rows": [
        [
         "count",
         "11983.0"
        ],
        [
         "mean",
         "107.03755320036719"
        ],
        [
         "std",
         "64.47101177112994"
        ],
        [
         "min",
         "11.0"
        ],
        [
         "25%",
         "73.0"
        ],
        [
         "50%",
         "98.0"
        ],
        [
         "75%",
         "133.0"
        ],
        [
         "max",
         "3192.0"
        ]
       ],
       "shape": {
        "columns": 1,
        "rows": 8
       }
      },
      "text/plain": [
       "count    11983.000000\n",
       "mean       107.037553\n",
       "std         64.471012\n",
       "min         11.000000\n",
       "25%         73.000000\n",
       "50%         98.000000\n",
       "75%        133.000000\n",
       "max       3192.000000\n",
       "Name: statement, dtype: float64"
      ]
     },
     "execution_count": 208,
     "metadata": {},
     "output_type": "execute_result"
    }
   ],
   "source": [
    "# Checking length of statements\n",
    "df['statement'].str.len().describe()"
   ]
  },
  {
   "cell_type": "code",
   "execution_count": 209,
   "id": "e1aa8daf",
   "metadata": {},
   "outputs": [
    {
     "data": {
      "image/png": "[encoded data removed]",
      "text/plain": [
       "<Figure size 640x480 with 1 Axes>"
      ]
     },
     "metadata": {},
     "output_type": "display_data"
    }
   ],
   "source": [
    "statement_length = df['statement'].apply(len)\n",
    "statement_length.plot()\n",
    "plt.show()"
   ]
  },
  {
   "cell_type": "code",
   "execution_count": 210,
   "id": "6060a75a",
   "metadata": {},
   "outputs": [],
   "source": [
    "# Clearing outliers \n",
    "Q1 = statement_length.quantile(0.25)\n",
    "Q3 = statement_length.quantile(0.75)\n",
    "IQR = Q3 - Q1\n",
    "\n",
    "upper_bound = Q3 + 1.5 * IQR\n",
    "\n",
    "df = df[statement_length < upper_bound]\n",
    "statement_length = statement_length[statement_length < upper_bound]"
   ]
  },
  {
   "cell_type": "code",
   "execution_count": 211,
   "id": "d1ab8204",
   "metadata": {},
   "outputs": [
    {
     "data": {
      "application/vnd.microsoft.datawrangler.viewer.v0+json": {
       "columns": [
        {
         "name": "index",
         "rawType": "object",
         "type": "string"
        },
        {
         "name": "statement",
         "rawType": "float64",
         "type": "float"
        }
       ],
       "ref": "88a8c04d-b44d-4ae3-8799-546c4eb01670",
       "rows": [
        [
         "count",
         "11783.0"
        ],
        [
         "mean",
         "103.74200118815243"
        ],
        [
         "std",
         "41.28207171669733"
        ],
        [
         "min",
         "11.0"
        ],
        [
         "25%",
         "73.0"
        ],
        [
         "50%",
         "98.0"
        ],
        [
         "75%",
         "131.0"
        ],
        [
         "max",
         "222.0"
        ]
       ],
       "shape": {
        "columns": 1,
        "rows": 8
       }
      },
      "text/plain": [
       "count    11783.000000\n",
       "mean       103.742001\n",
       "std         41.282072\n",
       "min         11.000000\n",
       "25%         73.000000\n",
       "50%         98.000000\n",
       "75%        131.000000\n",
       "max        222.000000\n",
       "Name: statement, dtype: float64"
      ]
     },
     "execution_count": 211,
     "metadata": {},
     "output_type": "execute_result"
    }
   ],
   "source": [
    "statement_length.describe()\n"
   ]
  },
  {
   "cell_type": "code",
   "execution_count": 212,
   "id": "18adb562",
   "metadata": {},
   "outputs": [
    {
     "data": {
      "image/png": "[encoded data removed]",
      "text/plain": [
       "<Figure size 640x480 with 1 Axes>"
      ]
     },
     "metadata": {},
     "output_type": "display_data"
    }
   ],
   "source": [
    "statement_length.hist(bins=40)\n",
    "plt.title(\"Filtered Statement Length Distribution\")\n",
    "plt.show()"
   ]
  },
  {
   "cell_type": "code",
   "execution_count": 213,
   "id": "9ba32342",
   "metadata": {},
   "outputs": [
    {
     "data": {
      "application/vnd.microsoft.datawrangler.viewer.v0+json": {
       "columns": [
        {
         "name": "speaker",
         "rawType": "object",
         "type": "string"
        },
        {
         "name": "count",
         "rawType": "int64",
         "type": "integer"
        }
       ],
       "ref": "43ba2383-34fc-4ba0-a632-ba23f4b21416",
       "rows": [
        [
         "barack-obama",
         "606"
        ],
        [
         "donald-trump",
         "339"
        ],
        [
         "hillary-clinton",
         "289"
        ],
        [
         "mitt-romney",
         "211"
        ],
        [
         "john-mccain",
         "187"
        ],
        [
         "scott-walker",
         "177"
        ],
        [
         "chain-email",
         "174"
        ],
        [
         "rick-perry",
         "169"
        ],
        [
         "marco-rubio",
         "153"
        ],
        [
         "rick-scott",
         "148"
        ],
        [
         "ted-cruz",
         "117"
        ],
        [
         "chris-christie",
         "101"
        ],
        [
         "facebook-posts",
         "100"
        ],
        [
         "charlie-crist",
         "89"
        ],
        [
         "newt-gingrich",
         "82"
        ],
        [
         "blog-posting",
         "81"
        ],
        [
         "jeb-bush",
         "79"
        ],
        [
         "joe-biden",
         "76"
        ],
        [
         "paul-ryan",
         "69"
        ],
        [
         "john-boehner",
         "67"
        ],
        [
         "sarah-palin",
         "64"
        ],
        [
         "john-kasich",
         "64"
        ],
        [
         "michele-bachmann",
         "61"
        ],
        [
         "rick-santorum",
         "58"
        ],
        [
         "tim-kaine",
         "53"
        ],
        [
         "rand-paul",
         "52"
        ],
        [
         "nathan-deal",
         "52"
        ],
        [
         "national-republican-congressional-committee",
         "52"
        ],
        [
         "rudy-giuliani",
         "46"
        ],
        [
         "ron-johnson",
         "45"
        ],
        [
         "rob-portman",
         "45"
        ],
        [
         "debbie-wasserman-schultz",
         "44"
        ],
        [
         "greg-abbott",
         "43"
        ],
        [
         "bill-clinton",
         "41"
        ],
        [
         "ron-paul",
         "40"
        ],
        [
         "david-dewhurst",
         "40"
        ],
        [
         "bob-mcdonnell",
         "39"
        ],
        [
         "mike-huckabee",
         "39"
        ],
        [
         "mike-pence",
         "39"
        ],
        [
         "eric-cantor",
         "36"
        ],
        [
         "mary-burke",
         "34"
        ],
        [
         "rush-limbaugh",
         "34"
        ],
        [
         "republican-national-committee-republican",
         "34"
        ],
        [
         "democratic-congressional-campaign-committee",
         "33"
        ],
        [
         "republican-party-florida",
         "33"
        ],
        [
         "alan-grayson",
         "33"
        ],
        [
         "sherrod-brown",
         "33"
        ],
        [
         "terry-mcauliffe",
         "33"
        ],
        [
         "democratic-national-committee",
         "31"
        ],
        [
         "glenn-beck",
         "31"
        ]
       ],
       "shape": {
        "columns": 1,
        "rows": 2855
       }
      },
      "text/plain": [
       "speaker\n",
       "barack-obama       606\n",
       "donald-trump       339\n",
       "hillary-clinton    289\n",
       "mitt-romney        211\n",
       "john-mccain        187\n",
       "                  ... \n",
       "alan-essig           1\n",
       "vincent-prieto       1\n",
       "bill-mcraven         1\n",
       "rebecca-blank        1\n",
       "john-whitmire        1\n",
       "Name: count, Length: 2855, dtype: int64"
      ]
     },
     "execution_count": 213,
     "metadata": {},
     "output_type": "execute_result"
    }
   ],
   "source": [
    "df['speaker'].value_counts()"
   ]
  },
  {
   "cell_type": "code",
   "execution_count": 214,
   "id": "e0f79fe2",
   "metadata": {},
   "outputs": [
    {
     "data": {
      "text/plain": [
       "<Axes: ylabel='job_title'>"
      ]
     },
     "execution_count": 214,
     "metadata": {},
     "output_type": "execute_result"
    },
    {
     "data": {
      "image/png": "[encoded data removed]",
      "text/plain": [
       "<Figure size 640x480 with 1 Axes>"
      ]
     },
     "metadata": {},
     "output_type": "display_data"
    }
   ],
   "source": [
    "pd.crosstab(df['job_title'], df['label']).sort_values(by='false', ascending=False).head(10).plot(kind='barh', stacked=True)"
   ]
  },
  {
   "cell_type": "code",
   "execution_count": 215,
   "id": "2305796d",
   "metadata": {},
   "outputs": [
    {
     "data": {
      "text/plain": [
       "<Axes: ylabel='job_title'>"
      ]
     },
     "execution_count": 215,
     "metadata": {},
     "output_type": "execute_result"
    },
    {
     "data": {
      "image/png": "[encoded data removed]",
      "text/plain": [
       "<Figure size 640x480 with 1 Axes>"
      ]
     },
     "metadata": {},
     "output_type": "display_data"
    }
   ],
   "source": [
    "pd.crosstab(df['job_title'], df['label_binary']).sort_values(by=0, ascending=False).head(10).plot(kind='barh', stacked=True)"
   ]
  },
  {
   "cell_type": "code",
   "execution_count": 216,
   "id": "1de98d44",
   "metadata": {},
   "outputs": [
    {
     "data": {
      "text/plain": [
       "<Axes: title={'center': 'Party-wise Label Distribution'}, xlabel='party_affiliation'>"
      ]
     },
     "execution_count": 216,
     "metadata": {},
     "output_type": "execute_result"
    },
    {
     "data": {
      "image/png": "[encoded data removed]",
      "text/plain": [
       "<Figure size 640x480 with 1 Axes>"
      ]
     },
     "metadata": {},
     "output_type": "display_data"
    }
   ],
   "source": [
    "df.groupby('party_affiliation')['label'].value_counts(normalize=True).unstack().plot(kind='bar', stacked=True, title='Party-wise Label Distribution')\n"
   ]
  },
  {
   "cell_type": "code",
   "execution_count": 217,
   "id": "bf2ec709",
   "metadata": {},
   "outputs": [
    {
     "data": {
      "text/plain": [
       "<Axes: title={'center': 'Party-wise Label Distribution'}, xlabel='party_affiliation'>"
      ]
     },
     "execution_count": 217,
     "metadata": {},
     "output_type": "execute_result"
    },
    {
     "data": {
      "image/png": "[encoded data removed]",
      "text/plain": [
       "<Figure size 640x480 with 1 Axes>"
      ]
     },
     "metadata": {},
     "output_type": "display_data"
    }
   ],
   "source": [
    "df.groupby('party_affiliation')['label_binary'].value_counts(normalize=True).unstack().plot(kind='bar', stacked=True, title='Party-wise Label Distribution')\n"
   ]
  },
  {
   "cell_type": "code",
   "execution_count": 218,
   "id": "3696da1b",
   "metadata": {},
   "outputs": [
    {
     "name": "stderr",
     "output_type": "stream",
     "text": [
      "C:\\Users\\elena\\AppData\\Local\\Temp\\ipykernel_23820\\1950592622.py:2: SettingWithCopyWarning: \n",
      "A value is trying to be set on a copy of a slice from a DataFrame.\n",
      "Try using .loc[row_indexer,col_indexer] = value instead\n",
      "\n",
      "See the caveats in the documentation: https://pandas.pydata.org/pandas-docs/stable/user_guide/indexing.html#returning-a-view-versus-a-copy\n",
      "  df['total_hist'] = df[['barely_true_counts', 'false_counts', 'half_true_counts', 'mostly_true_counts', 'pants_on_fire_counts']].sum(axis=1)\n",
      "C:\\Users\\elena\\AppData\\Local\\Temp\\ipykernel_23820\\1950592622.py:3: SettingWithCopyWarning: \n",
      "A value is trying to be set on a copy of a slice from a DataFrame.\n",
      "Try using .loc[row_indexer,col_indexer] = value instead\n",
      "\n",
      "See the caveats in the documentation: https://pandas.pydata.org/pandas-docs/stable/user_guide/indexing.html#returning-a-view-versus-a-copy\n",
      "  df['fake_ratio'] = (df['half_true_counts'] + df['false_counts'] + df['pants_on_fire_counts']) / df['total_hist']\n",
      "C:\\Users\\elena\\AppData\\Local\\Temp\\ipykernel_23820\\1950592622.py:4: SettingWithCopyWarning: \n",
      "A value is trying to be set on a copy of a slice from a DataFrame.\n",
      "Try using .loc[row_indexer,col_indexer] = value instead\n",
      "\n",
      "See the caveats in the documentation: https://pandas.pydata.org/pandas-docs/stable/user_guide/indexing.html#returning-a-view-versus-a-copy\n",
      "  df['real_ratio'] = 1 - df['fake_ratio']\n"
     ]
    }
   ],
   "source": [
    "#speaker credibility ratio\n",
    "df['total_hist'] = df[['barely_true_counts', 'false_counts', 'half_true_counts', 'mostly_true_counts', 'pants_on_fire_counts']].sum(axis=1)\n",
    "df['fake_ratio'] = (df['half_true_counts'] + df['false_counts'] + df['pants_on_fire_counts']) / df['total_hist']\n",
    "df['real_ratio'] = 1 - df['fake_ratio']"
   ]
  },
  {
   "cell_type": "code",
   "execution_count": 219,
   "id": "533a6630",
   "metadata": {},
   "outputs": [
    {
     "data": {
      "image/png": "[encoded data removed]",
      "text/plain": [
       "<Figure size 640x480 with 1 Axes>"
      ]
     },
     "metadata": {},
     "output_type": "display_data"
    }
   ],
   "source": [
    "#box plot of fake ratio by labels\n",
    "sns.boxplot(data=df, x='label', y='fake_ratio')\n",
    "plt.title('Fake Ratio vs. Label')\n",
    "plt.show()"
   ]
  },
  {
   "cell_type": "code",
   "execution_count": 220,
   "id": "47af0b6e",
   "metadata": {},
   "outputs": [
    {
     "data": {
      "image/png": "[encoded data removed]",
      "text/plain": [
       "<Figure size 800x600 with 1 Axes>"
      ]
     },
     "metadata": {},
     "output_type": "display_data"
    }
   ],
   "source": [
    "#box plot of fake ratio by political party\n",
    "\n",
    "plt.figure(figsize=(8, 6))\n",
    "sns.boxplot(data=df, x='party_affiliation', y='fake_ratio')\n",
    "plt.title('Distribution of Fake Ratio by Political Party')\n",
    "plt.xlabel('Party')\n",
    "plt.ylabel('Fake Ratio')\n",
    "plt.xticks(rotation=45)\n",
    "plt.tight_layout()\n",
    "plt.show()"
   ]
  },
  {
   "cell_type": "code",
   "execution_count": 221,
   "id": "0b10e721",
   "metadata": {},
   "outputs": [
    {
     "data": {
      "image/png": "[encoded data removed]",
      "text/plain": [
       "<Figure size 1200x600 with 1 Axes>"
      ]
     },
     "metadata": {},
     "output_type": "display_data"
    }
   ],
   "source": [
    "#box plot for fake ratio on speaker job\n",
    "top_10_jobs = df['job_title'].value_counts().head(10).index\n",
    "df_top_jobs = df[df['job_title'].isin(top_10_jobs)]\n",
    "\n",
    "plt.figure(figsize=(12, 6))\n",
    "sns.boxplot(data=df_top_jobs, x='job_title', y='fake_ratio')\n",
    "plt.title('Distribution of Fake Ratio by Top 10 Speaker Job Titles')\n",
    "plt.xlabel('Speaker Job Title')\n",
    "plt.ylabel('Fake Ratio')\n",
    "plt.xticks(rotation=45, ha='right')\n",
    "plt.tight_layout()\n",
    "plt.show()"
   ]
  },
  {
   "cell_type": "markdown",
   "id": "e69ebb0c",
   "metadata": {},
   "source": [
    "Text Preprocessing"
   ]
  },
  {
   "cell_type": "code",
   "execution_count": 222,
   "id": "9016d936",
   "metadata": {},
   "outputs": [
    {
     "data": {
      "application/vnd.microsoft.datawrangler.viewer.v0+json": {
       "columns": [
        {
         "name": "index",
         "rawType": "int64",
         "type": "integer"
        },
        {
         "name": "ID",
         "rawType": "object",
         "type": "string"
        },
        {
         "name": "label",
         "rawType": "object",
         "type": "string"
        },
        {
         "name": "statement",
         "rawType": "object",
         "type": "string"
        },
        {
         "name": "subject",
         "rawType": "object",
         "type": "string"
        },
        {
         "name": "speaker",
         "rawType": "object",
         "type": "string"
        },
        {
         "name": "job_title",
         "rawType": "object",
         "type": "string"
        },
        {
         "name": "state_info",
         "rawType": "object",
         "type": "string"
        },
        {
         "name": "party_affiliation",
         "rawType": "object",
         "type": "string"
        },
        {
         "name": "barely_true_counts",
         "rawType": "int64",
         "type": "integer"
        },
        {
         "name": "false_counts",
         "rawType": "int64",
         "type": "integer"
        },
        {
         "name": "half_true_counts",
         "rawType": "int64",
         "type": "integer"
        },
        {
         "name": "mostly_true_counts",
         "rawType": "int64",
         "type": "integer"
        },
        {
         "name": "pants_on_fire_counts",
         "rawType": "int64",
         "type": "integer"
        },
        {
         "name": "context",
         "rawType": "object",
         "type": "string"
        },
        {
         "name": "label_binary",
         "rawType": "int64",
         "type": "integer"
        },
        {
         "name": "m_label",
         "rawType": "int64",
         "type": "integer"
        },
        {
         "name": "total_hist",
         "rawType": "int64",
         "type": "integer"
        },
        {
         "name": "fake_ratio",
         "rawType": "float64",
         "type": "float"
        },
        {
         "name": "real_ratio",
         "rawType": "float64",
         "type": "float"
        },
        {
         "name": "processed_text",
         "rawType": "object",
         "type": "string"
        }
       ],
       "ref": "f858d535-2a4b-4f8c-857e-e007439fc66f",
       "rows": [
        [
         "0",
         "2635.json",
         "false",
         "Says the Annies List political group supports third-trimester abortions on demand.",
         "abortion",
         "dwayne-bohac",
         "State representative",
         "Texas",
         "republican",
         "0",
         "1",
         "0",
         "0",
         "0",
         "a mailer",
         "1",
         "2",
         "1",
         "1.0",
         "0.0",
         "says annies list political group supports third-trimester abortions demand"
        ],
        [
         "1",
         "10540.json",
         "half-true",
         "When did the decline of coal start? It started when natural gas took off that started to begin in (President George W.) Bushs administration.",
         "energy,history,job-accomplishments",
         "scott-surovell",
         "State delegate",
         "Virginia",
         "democrat",
         "0",
         "0",
         "1",
         "1",
         "0",
         "a floor speech.",
         "0",
         "4",
         "2",
         "0.5",
         "0.5",
         "decline coal start started natural gas took started begin president george w. bushs administration"
        ],
        [
         "2",
         "324.json",
         "mostly-true",
         "Hillary Clinton agrees with John McCain \"by voting to give George Bush the benefit of the doubt on Iran.\"",
         "foreign-policy",
         "barack-obama",
         "President",
         "Illinois",
         "democrat",
         "70",
         "71",
         "160",
         "163",
         "9",
         "Denver",
         "0",
         "5",
         "473",
         "0.507399577167019",
         "0.492600422832981",
         "hillary clinton agrees john mccain voting give george bush benefit doubt iran"
        ],
        [
         "3",
         "1123.json",
         "false",
         "Health care reform legislation is likely to mandate free sex change surgeries.",
         "health-care",
         "blog-posting",
         "Unknown",
         "Unknown",
         "no affiliation",
         "7",
         "19",
         "3",
         "5",
         "44",
         "a news release",
         "1",
         "2",
         "78",
         "0.8461538461538461",
         "0.15384615384615385",
         "health care reform legislation likely mandate free sex change surgeries"
        ],
        [
         "4",
         "9028.json",
         "half-true",
         "The economic turnaround started at the end of my term.",
         "economy,jobs",
         "charlie-crist",
         "Unknown",
         "Florida",
         "democrat",
         "15",
         "9",
         "20",
         "19",
         "2",
         "an interview on CNN",
         "0",
         "4",
         "65",
         "0.47692307692307695",
         "0.523076923076923",
         "economic turnaround started end term"
        ]
       ],
       "shape": {
        "columns": 20,
        "rows": 5
       }
      },
      "text/html": [
       "<div>\n",
       "<style scoped>\n",
       "    .dataframe tbody tr th:only-of-type {\n",
       "        vertical-align: middle;\n",
       "    }\n",
       "\n",
       "    .dataframe tbody tr th {\n",
       "        vertical-align: top;\n",
       "    }\n",
       "\n",
       "    .dataframe thead th {\n",
       "        text-align: right;\n",
       "    }\n",
       "</style>\n",
       "<table border=\"1\" class=\"dataframe\">\n",
       "  <thead>\n",
       "    <tr style=\"text-align: right;\">\n",
       "      <th></th>\n",
       "      <th>ID</th>\n",
       "      <th>label</th>\n",
       "      <th>statement</th>\n",
       "      <th>subject</th>\n",
       "      <th>speaker</th>\n",
       "      <th>job_title</th>\n",
       "      <th>state_info</th>\n",
       "      <th>party_affiliation</th>\n",
       "      <th>barely_true_counts</th>\n",
       "      <th>false_counts</th>\n",
       "      <th>half_true_counts</th>\n",
       "      <th>mostly_true_counts</th>\n",
       "      <th>pants_on_fire_counts</th>\n",
       "      <th>context</th>\n",
       "      <th>label_binary</th>\n",
       "      <th>m_label</th>\n",
       "      <th>total_hist</th>\n",
       "      <th>fake_ratio</th>\n",
       "      <th>real_ratio</th>\n",
       "      <th>processed_text</th>\n",
       "    </tr>\n",
       "  </thead>\n",
       "  <tbody>\n",
       "    <tr>\n",
       "      <th>0</th>\n",
       "      <td>2635.json</td>\n",
       "      <td>false</td>\n",
       "      <td>Says the Annies List political group supports ...</td>\n",
       "      <td>abortion</td>\n",
       "      <td>dwayne-bohac</td>\n",
       "      <td>State representative</td>\n",
       "      <td>Texas</td>\n",
       "      <td>republican</td>\n",
       "      <td>0</td>\n",
       "      <td>1</td>\n",
       "      <td>0</td>\n",
       "      <td>0</td>\n",
       "      <td>0</td>\n",
       "      <td>a mailer</td>\n",
       "      <td>1</td>\n",
       "      <td>2</td>\n",
       "      <td>1</td>\n",
       "      <td>1.000000</td>\n",
       "      <td>0.000000</td>\n",
       "      <td>says annies list political group supports thir...</td>\n",
       "    </tr>\n",
       "    <tr>\n",
       "      <th>1</th>\n",
       "      <td>10540.json</td>\n",
       "      <td>half-true</td>\n",
       "      <td>When did the decline of coal start? It started...</td>\n",
       "      <td>energy,history,job-accomplishments</td>\n",
       "      <td>scott-surovell</td>\n",
       "      <td>State delegate</td>\n",
       "      <td>Virginia</td>\n",
       "      <td>democrat</td>\n",
       "      <td>0</td>\n",
       "      <td>0</td>\n",
       "      <td>1</td>\n",
       "      <td>1</td>\n",
       "      <td>0</td>\n",
       "      <td>a floor speech.</td>\n",
       "      <td>0</td>\n",
       "      <td>4</td>\n",
       "      <td>2</td>\n",
       "      <td>0.500000</td>\n",
       "      <td>0.500000</td>\n",
       "      <td>decline coal start started natural gas took st...</td>\n",
       "    </tr>\n",
       "    <tr>\n",
       "      <th>2</th>\n",
       "      <td>324.json</td>\n",
       "      <td>mostly-true</td>\n",
       "      <td>Hillary Clinton agrees with John McCain \"by vo...</td>\n",
       "      <td>foreign-policy</td>\n",
       "      <td>barack-obama</td>\n",
       "      <td>President</td>\n",
       "      <td>Illinois</td>\n",
       "      <td>democrat</td>\n",
       "      <td>70</td>\n",
       "      <td>71</td>\n",
       "      <td>160</td>\n",
       "      <td>163</td>\n",
       "      <td>9</td>\n",
       "      <td>Denver</td>\n",
       "      <td>0</td>\n",
       "      <td>5</td>\n",
       "      <td>473</td>\n",
       "      <td>0.507400</td>\n",
       "      <td>0.492600</td>\n",
       "      <td>hillary clinton agrees john mccain voting give...</td>\n",
       "    </tr>\n",
       "    <tr>\n",
       "      <th>3</th>\n",
       "      <td>1123.json</td>\n",
       "      <td>false</td>\n",
       "      <td>Health care reform legislation is likely to ma...</td>\n",
       "      <td>health-care</td>\n",
       "      <td>blog-posting</td>\n",
       "      <td>Unknown</td>\n",
       "      <td>Unknown</td>\n",
       "      <td>no affiliation</td>\n",
       "      <td>7</td>\n",
       "      <td>19</td>\n",
       "      <td>3</td>\n",
       "      <td>5</td>\n",
       "      <td>44</td>\n",
       "      <td>a news release</td>\n",
       "      <td>1</td>\n",
       "      <td>2</td>\n",
       "      <td>78</td>\n",
       "      <td>0.846154</td>\n",
       "      <td>0.153846</td>\n",
       "      <td>health care reform legislation likely mandate ...</td>\n",
       "    </tr>\n",
       "    <tr>\n",
       "      <th>4</th>\n",
       "      <td>9028.json</td>\n",
       "      <td>half-true</td>\n",
       "      <td>The economic turnaround started at the end of ...</td>\n",
       "      <td>economy,jobs</td>\n",
       "      <td>charlie-crist</td>\n",
       "      <td>Unknown</td>\n",
       "      <td>Florida</td>\n",
       "      <td>democrat</td>\n",
       "      <td>15</td>\n",
       "      <td>9</td>\n",
       "      <td>20</td>\n",
       "      <td>19</td>\n",
       "      <td>2</td>\n",
       "      <td>an interview on CNN</td>\n",
       "      <td>0</td>\n",
       "      <td>4</td>\n",
       "      <td>65</td>\n",
       "      <td>0.476923</td>\n",
       "      <td>0.523077</td>\n",
       "      <td>economic turnaround started end term</td>\n",
       "    </tr>\n",
       "  </tbody>\n",
       "</table>\n",
       "</div>"
      ],
      "text/plain": [
       "           ID        label                                          statement  \\\n",
       "0   2635.json        false  Says the Annies List political group supports ...   \n",
       "1  10540.json    half-true  When did the decline of coal start? It started...   \n",
       "2    324.json  mostly-true  Hillary Clinton agrees with John McCain \"by vo...   \n",
       "3   1123.json        false  Health care reform legislation is likely to ma...   \n",
       "4   9028.json    half-true  The economic turnaround started at the end of ...   \n",
       "\n",
       "                              subject         speaker             job_title  \\\n",
       "0                            abortion    dwayne-bohac  State representative   \n",
       "1  energy,history,job-accomplishments  scott-surovell        State delegate   \n",
       "2                      foreign-policy    barack-obama             President   \n",
       "3                         health-care    blog-posting               Unknown   \n",
       "4                        economy,jobs   charlie-crist               Unknown   \n",
       "\n",
       "  state_info party_affiliation  barely_true_counts  false_counts  \\\n",
       "0      Texas        republican                   0             1   \n",
       "1   Virginia          democrat                   0             0   \n",
       "2   Illinois          democrat                  70            71   \n",
       "3    Unknown    no affiliation                   7            19   \n",
       "4    Florida          democrat                  15             9   \n",
       "\n",
       "   half_true_counts  mostly_true_counts  pants_on_fire_counts  \\\n",
       "0                 0                   0                     0   \n",
       "1                 1                   1                     0   \n",
       "2               160                 163                     9   \n",
       "3                 3                   5                    44   \n",
       "4                20                  19                     2   \n",
       "\n",
       "               context  label_binary  m_label  total_hist  fake_ratio  \\\n",
       "0             a mailer             1        2           1    1.000000   \n",
       "1      a floor speech.             0        4           2    0.500000   \n",
       "2               Denver             0        5         473    0.507400   \n",
       "3       a news release             1        2          78    0.846154   \n",
       "4  an interview on CNN             0        4          65    0.476923   \n",
       "\n",
       "   real_ratio                                     processed_text  \n",
       "0    0.000000  says annies list political group supports thir...  \n",
       "1    0.500000  decline coal start started natural gas took st...  \n",
       "2    0.492600  hillary clinton agrees john mccain voting give...  \n",
       "3    0.153846  health care reform legislation likely mandate ...  \n",
       "4    0.523077               economic turnaround started end term  "
      ]
     },
     "execution_count": 222,
     "metadata": {},
     "output_type": "execute_result"
    }
   ],
   "source": [
    "# tokenize, tokenize, lowercase, remove stop words\n",
    "stop_words = set(stopwords.words('english'))\n",
    "custom_punctuations = set(string.punctuation) | {\"``\", \"''\", \"“\", \"”\", \"‘\", \"’\", \"`\", \"–\", \"—\", \"...\", \"…\"}\n",
    "\n",
    "df2=df.copy()\n",
    "def preprocess_text(text):\n",
    "    # Tokenization\n",
    "    tokens = word_tokenize(text)\n",
    "    # Lowercase\n",
    "    tokens = [token.lower() for token in tokens]\n",
    "    # Remove punctuation\n",
    "    tokens = [token for token in tokens if token not in string.punctuation]\n",
    "    tokens=[token for token in tokens if token not in custom_punctuations]\n",
    "    # Remove stop words\n",
    "    tokens = [token for token in tokens if token not in stop_words]\n",
    "    # Join tokens back into a single string\n",
    "    return ' '.join(tokens)\n",
    "\n",
    "df2['processed_text'] = df2['statement'].apply(preprocess_text)\n",
    "df2.head()"
   ]
  },
  {
   "cell_type": "code",
   "execution_count": 223,
   "id": "bb58ec5a",
   "metadata": {},
   "outputs": [
    {
     "data": {
      "application/vnd.microsoft.datawrangler.viewer.v0+json": {
       "columns": [
        {
         "name": "index",
         "rawType": "int64",
         "type": "integer"
        },
        {
         "name": "statement",
         "rawType": "object",
         "type": "string"
        },
        {
         "name": "processed_text",
         "rawType": "object",
         "type": "string"
        }
       ],
       "ref": "543de5df-d754-4bfc-815b-8be23617c617",
       "rows": [
        [
         "0",
         "Says the Annies List political group supports third-trimester abortions on demand.",
         "says annies list political group supports third-trimester abortions demand"
        ],
        [
         "1",
         "When did the decline of coal start? It started when natural gas took off that started to begin in (President George W.) Bushs administration.",
         "decline coal start started natural gas took started begin president george w. bushs administration"
        ],
        [
         "2",
         "Hillary Clinton agrees with John McCain \"by voting to give George Bush the benefit of the doubt on Iran.\"",
         "hillary clinton agrees john mccain voting give george bush benefit doubt iran"
        ],
        [
         "3",
         "Health care reform legislation is likely to mandate free sex change surgeries.",
         "health care reform legislation likely mandate free sex change surgeries"
        ],
        [
         "4",
         "The economic turnaround started at the end of my term.",
         "economic turnaround started end term"
        ]
       ],
       "shape": {
        "columns": 2,
        "rows": 5
       }
      },
      "text/html": [
       "<div>\n",
       "<style scoped>\n",
       "    .dataframe tbody tr th:only-of-type {\n",
       "        vertical-align: middle;\n",
       "    }\n",
       "\n",
       "    .dataframe tbody tr th {\n",
       "        vertical-align: top;\n",
       "    }\n",
       "\n",
       "    .dataframe thead th {\n",
       "        text-align: right;\n",
       "    }\n",
       "</style>\n",
       "<table border=\"1\" class=\"dataframe\">\n",
       "  <thead>\n",
       "    <tr style=\"text-align: right;\">\n",
       "      <th></th>\n",
       "      <th>statement</th>\n",
       "      <th>processed_text</th>\n",
       "    </tr>\n",
       "  </thead>\n",
       "  <tbody>\n",
       "    <tr>\n",
       "      <th>0</th>\n",
       "      <td>Says the Annies List political group supports ...</td>\n",
       "      <td>says annies list political group supports thir...</td>\n",
       "    </tr>\n",
       "    <tr>\n",
       "      <th>1</th>\n",
       "      <td>When did the decline of coal start? It started...</td>\n",
       "      <td>decline coal start started natural gas took st...</td>\n",
       "    </tr>\n",
       "    <tr>\n",
       "      <th>2</th>\n",
       "      <td>Hillary Clinton agrees with John McCain \"by vo...</td>\n",
       "      <td>hillary clinton agrees john mccain voting give...</td>\n",
       "    </tr>\n",
       "    <tr>\n",
       "      <th>3</th>\n",
       "      <td>Health care reform legislation is likely to ma...</td>\n",
       "      <td>health care reform legislation likely mandate ...</td>\n",
       "    </tr>\n",
       "    <tr>\n",
       "      <th>4</th>\n",
       "      <td>The economic turnaround started at the end of ...</td>\n",
       "      <td>economic turnaround started end term</td>\n",
       "    </tr>\n",
       "  </tbody>\n",
       "</table>\n",
       "</div>"
      ],
      "text/plain": [
       "                                           statement  \\\n",
       "0  Says the Annies List political group supports ...   \n",
       "1  When did the decline of coal start? It started...   \n",
       "2  Hillary Clinton agrees with John McCain \"by vo...   \n",
       "3  Health care reform legislation is likely to ma...   \n",
       "4  The economic turnaround started at the end of ...   \n",
       "\n",
       "                                      processed_text  \n",
       "0  says annies list political group supports thir...  \n",
       "1  decline coal start started natural gas took st...  \n",
       "2  hillary clinton agrees john mccain voting give...  \n",
       "3  health care reform legislation likely mandate ...  \n",
       "4               economic turnaround started end term  "
      ]
     },
     "execution_count": 223,
     "metadata": {},
     "output_type": "execute_result"
    }
   ],
   "source": [
    "df2[['statement', 'processed_text']].head()"
   ]
  },
  {
   "cell_type": "code",
   "execution_count": 224,
   "id": "873eafd6",
   "metadata": {},
   "outputs": [
    {
     "name": "stdout",
     "output_type": "stream",
     "text": [
      "+------------+-------+\n",
      "|    Word    | Count |\n",
      "+------------+-------+\n",
      "|    says    |  2759 |\n",
      "|  percent   |  1316 |\n",
      "|   state    |  905  |\n",
      "|   obama    |  878  |\n",
      "|    tax     |  750  |\n",
      "|   health   |  720  |\n",
      "|   years    |  698  |\n",
      "| president  |  684  |\n",
      "|   people   |  652  |\n",
      "|    year    |  617  |\n",
      "|    care    |  612  |\n",
      "|   states   |  606  |\n",
      "|   would    |  603  |\n",
      "|  million   |  576  |\n",
      "|    jobs    |  575  |\n",
      "|    new     |  533  |\n",
      "|    one     |  515  |\n",
      "|    bill    |  470  |\n",
      "|   texas    |  455  |\n",
      "|    u.s.    |  439  |\n",
      "|    said    |  437  |\n",
      "|  federal   |  433  |\n",
      "|  billion   |  430  |\n",
      "|   barack   |  427  |\n",
      "|   every    |  421  |\n",
      "|   voted    |  418  |\n",
      "|   taxes    |  406  |\n",
      "|   since    |  404  |\n",
      "|   budget   |  392  |\n",
      "| government |  375  |\n",
      "+------------+-------+\n"
     ]
    }
   ],
   "source": [
    "all_words = ' '.join(df2['processed_text']).split()\n",
    "\n",
    "\n",
    "word_counts = Counter(all_words)\n",
    "\n",
    "top20=word_counts.most_common(30)\n",
    "table= PrettyTable(['Word','Count'])\n",
    "for word,count in top20:\n",
    "    table.add_row([word,count])\n",
    "print(table)"
   ]
  },
  {
   "cell_type": "code",
   "execution_count": 225,
   "id": "8c93d8ba",
   "metadata": {},
   "outputs": [],
   "source": [
    "#dropping unnecessary columns\n",
    "df2.drop(['ID', 'barely_true_counts', 'false_counts', 'half_true_counts', 'mostly_true_counts', 'pants_on_fire_counts', 'total_hist', 'fake_ratio',\n",
    "        'real_ratio', 'label'], axis=1, inplace=True)"
   ]
  },
  {
   "cell_type": "code",
   "execution_count": 226,
   "id": "40574e7d",
   "metadata": {},
   "outputs": [
    {
     "data": {
      "text/plain": [
       "Index(['statement', 'subject', 'speaker', 'job_title', 'state_info',\n",
       "       'party_affiliation', 'context', 'label_binary', 'm_label',\n",
       "       'processed_text'],\n",
       "      dtype='object')"
      ]
     },
     "execution_count": 226,
     "metadata": {},
     "output_type": "execute_result"
    }
   ],
   "source": [
    "df2.columns"
   ]
  },
  {
   "cell_type": "markdown",
   "id": "265df627",
   "metadata": {},
   "source": [
    "Logistic Regression"
   ]
  },
  {
   "cell_type": "code",
   "execution_count": 227,
   "id": "63edb4f2",
   "metadata": {},
   "outputs": [],
   "source": [
    "vectorizer = TfidfVectorizer()\n",
    "X = vectorizer.fit_transform(df2['processed_text'])\n",
    "y = df2['label_binary']\n",
    "\n",
    "#Data slpit\n",
    "X_temp, X_test, y_temp, y_test = train_test_split(\n",
    "    X, y, test_size=0.15, random_state=42\n",
    ")\n",
    "\n",
    "X_train, X_val, y_train, y_val = train_test_split(\n",
    "    X_temp, y_temp, test_size=0.1764, random_state=42\n",
    ")"
   ]
  },
  {
   "cell_type": "code",
   "execution_count": null,
   "id": "8cf3c8b7",
   "metadata": {},
   "outputs": [
    {
     "name": "stdout",
     "output_type": "stream",
     "text": [
      "Best Parameters: {'C': 1, 'penalty': 'l2', 'solver': 'liblinear'}\n",
      "Best Score: 0.5942026205046217\n",
      "              precision    recall  f1-score   support\n",
      "\n",
      "           0       0.64      0.77      0.70       987\n",
      "           1       0.60      0.45      0.51       780\n",
      "\n",
      "    accuracy                           0.63      1767\n",
      "   macro avg       0.62      0.61      0.60      1767\n",
      "weighted avg       0.62      0.63      0.61      1767\n",
      "\n"
     ]
    }
   ],
   "source": [
    "param_grid = {\n",
    "    'C': [0.01, 0.1, 1, 10],\n",
    "    'penalty': ['l2'],\n",
    "    'solver': ['liblinear', 'saga']\n",
    "    }\n",
    "\n",
    "grid = GridSearchCV(LogisticRegression(max_iter=1000), param_grid, cv=5, scoring='accuracy')\n",
    "\n",
    "grid.fit(X_train, y_train)\n",
    "\n",
    "print(\"Best Parameters:\", grid.best_params_)\n",
    "print(\"Best Score:\", grid.best_score_)\n",
    "\n",
    "# Evaluate on validation set\n",
    "best_lr = grid.best_estimator_\n",
    "y_pred_lr = best_lr.predict(X_val)\n",
    "print(classification_report(y_val, y_pred_lr))"
   ]
  }
 ],
 "metadata": {
  "kernelspec": {
   "display_name": "Python 3",
   "language": "python",
   "name": "python3"
  },
  "language_info": {
   "codemirror_mode": {
    "name": "ipython",
    "version": 3
   },
   "file_extension": ".py",
   "mimetype": "text/x-python",
   "name": "python",
   "nbconvert_exporter": "python",
   "pygments_lexer": "ipython3",
   "version": "3.13.0"
  }
 },
 "nbformat": 4,
 "nbformat_minor": 5
}
