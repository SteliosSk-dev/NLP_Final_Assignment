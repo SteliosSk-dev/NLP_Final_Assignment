{
 "cells": [
  {
   "cell_type": "code",
   "execution_count": 1,
   "id": "e20beb5f",
   "metadata": {},
   "outputs": [
    {
     "name": "stderr",
     "output_type": "stream",
     "text": [
      "[nltk_data] Downloading package punkt_tab to C:\\Users\\Stelios\n",
      "[nltk_data]     PC\\AppData\\Roaming\\nltk_data...\n",
      "[nltk_data]   Package punkt_tab is already up-to-date!\n",
      "[nltk_data] Downloading package stopwords to C:\\Users\\Stelios\n",
      "[nltk_data]     PC\\AppData\\Roaming\\nltk_data...\n",
      "[nltk_data]   Package stopwords is already up-to-date!\n"
     ]
    },
    {
     "data": {
      "text/plain": [
       "True"
      ]
     },
     "execution_count": 1,
     "metadata": {},
     "output_type": "execute_result"
    }
   ],
   "source": [
    "import pandas as pd\n",
    "import os\n",
    "import matplotlib.pyplot as plt\n",
    "import seaborn as sns\n",
    "import numpy as np\n",
    "from sklearn.model_selection import train_test_split\n",
    "from sklearn.feature_extraction.text import TfidfVectorizer\n",
    "import pandas as pd\n",
    "import matplotlib.pyplot as plt\n",
    "import nltk\n",
    "from nltk.corpus import stopwords\n",
    "from nltk.tokenize import word_tokenize\n",
    "import string\n",
    "from sklearn.model_selection import train_test_split, GridSearchCV\n",
    "from sklearn.feature_extraction.text import CountVectorizer, TfidfVectorizer\n",
    "from sklearn.naive_bayes import ComplementNB\n",
    "from sklearn.metrics import classification_report, confusion_matrix, ConfusionMatrixDisplay\n",
    "from sklearn.linear_model import LogisticRegression\n",
    "from prettytable import PrettyTable\n",
    "from sklearn.feature_extraction.text import CountVectorizer\n",
    "from collections import Counter\n",
    "nltk.download('punkt_tab')\n",
    "nltk.download('stopwords')"
   ]
  },
  {
   "cell_type": "code",
   "execution_count": 2,
   "id": "087dea70",
   "metadata": {},
   "outputs": [
    {
     "name": "stderr",
     "output_type": "stream",
     "text": [
      "C:\\Users\\Stelios PC\\AppData\\Local\\Temp\\ipykernel_7152\\2673619387.py:12: FutureWarning: The behavior of DataFrame concatenation with empty or all-NA entries is deprecated. In a future version, this will no longer exclude empty or all-NA columns when determining the result dtypes. To retain the old behavior, exclude the relevant entries before the concat operation.\n",
      "  df=pd.concat([df,df_temp],ignore_index=True)\n"
     ]
    },
    {
     "data": {
      "text/html": [
       "<div>\n",
       "<style scoped>\n",
       "    .dataframe tbody tr th:only-of-type {\n",
       "        vertical-align: middle;\n",
       "    }\n",
       "\n",
       "    .dataframe tbody tr th {\n",
       "        vertical-align: top;\n",
       "    }\n",
       "\n",
       "    .dataframe thead th {\n",
       "        text-align: right;\n",
       "    }\n",
       "</style>\n",
       "<table border=\"1\" class=\"dataframe\">\n",
       "  <thead>\n",
       "    <tr style=\"text-align: right;\">\n",
       "      <th></th>\n",
       "      <th>label</th>\n",
       "      <th>statement</th>\n",
       "      <th>subject</th>\n",
       "      <th>speaker</th>\n",
       "      <th>job_title</th>\n",
       "      <th>state_info</th>\n",
       "      <th>party_affiliation</th>\n",
       "      <th>barely_true_counts</th>\n",
       "      <th>false_counts</th>\n",
       "      <th>half_true_counts</th>\n",
       "      <th>mostly_true_counts</th>\n",
       "      <th>pants_on_fire_counts</th>\n",
       "      <th>context</th>\n",
       "    </tr>\n",
       "  </thead>\n",
       "  <tbody>\n",
       "    <tr>\n",
       "      <th>0</th>\n",
       "      <td>false</td>\n",
       "      <td>Says the Annies List political group supports ...</td>\n",
       "      <td>abortion</td>\n",
       "      <td>dwayne-bohac</td>\n",
       "      <td>State representative</td>\n",
       "      <td>Texas</td>\n",
       "      <td>republican</td>\n",
       "      <td>0.0</td>\n",
       "      <td>1.0</td>\n",
       "      <td>0.0</td>\n",
       "      <td>0.0</td>\n",
       "      <td>0.0</td>\n",
       "      <td>a mailer</td>\n",
       "    </tr>\n",
       "    <tr>\n",
       "      <th>1</th>\n",
       "      <td>half-true</td>\n",
       "      <td>When did the decline of coal start? It started...</td>\n",
       "      <td>energy,history,job-accomplishments</td>\n",
       "      <td>scott-surovell</td>\n",
       "      <td>State delegate</td>\n",
       "      <td>Virginia</td>\n",
       "      <td>democrat</td>\n",
       "      <td>0.0</td>\n",
       "      <td>0.0</td>\n",
       "      <td>1.0</td>\n",
       "      <td>1.0</td>\n",
       "      <td>0.0</td>\n",
       "      <td>a floor speech.</td>\n",
       "    </tr>\n",
       "    <tr>\n",
       "      <th>2</th>\n",
       "      <td>mostly-true</td>\n",
       "      <td>Hillary Clinton agrees with John McCain \"by vo...</td>\n",
       "      <td>foreign-policy</td>\n",
       "      <td>barack-obama</td>\n",
       "      <td>President</td>\n",
       "      <td>Illinois</td>\n",
       "      <td>democrat</td>\n",
       "      <td>70.0</td>\n",
       "      <td>71.0</td>\n",
       "      <td>160.0</td>\n",
       "      <td>163.0</td>\n",
       "      <td>9.0</td>\n",
       "      <td>Denver</td>\n",
       "    </tr>\n",
       "    <tr>\n",
       "      <th>3</th>\n",
       "      <td>false</td>\n",
       "      <td>Health care reform legislation is likely to ma...</td>\n",
       "      <td>health-care</td>\n",
       "      <td>blog-posting</td>\n",
       "      <td>NaN</td>\n",
       "      <td>NaN</td>\n",
       "      <td>none</td>\n",
       "      <td>7.0</td>\n",
       "      <td>19.0</td>\n",
       "      <td>3.0</td>\n",
       "      <td>5.0</td>\n",
       "      <td>44.0</td>\n",
       "      <td>a news release</td>\n",
       "    </tr>\n",
       "    <tr>\n",
       "      <th>4</th>\n",
       "      <td>half-true</td>\n",
       "      <td>The economic turnaround started at the end of ...</td>\n",
       "      <td>economy,jobs</td>\n",
       "      <td>charlie-crist</td>\n",
       "      <td>NaN</td>\n",
       "      <td>Florida</td>\n",
       "      <td>democrat</td>\n",
       "      <td>15.0</td>\n",
       "      <td>9.0</td>\n",
       "      <td>20.0</td>\n",
       "      <td>19.0</td>\n",
       "      <td>2.0</td>\n",
       "      <td>an interview on CNN</td>\n",
       "    </tr>\n",
       "  </tbody>\n",
       "</table>\n",
       "</div>"
      ],
      "text/plain": [
       "         label                                          statement  \\\n",
       "0        false  Says the Annies List political group supports ...   \n",
       "1    half-true  When did the decline of coal start? It started...   \n",
       "2  mostly-true  Hillary Clinton agrees with John McCain \"by vo...   \n",
       "3        false  Health care reform legislation is likely to ma...   \n",
       "4    half-true  The economic turnaround started at the end of ...   \n",
       "\n",
       "                              subject         speaker             job_title  \\\n",
       "0                            abortion    dwayne-bohac  State representative   \n",
       "1  energy,history,job-accomplishments  scott-surovell        State delegate   \n",
       "2                      foreign-policy    barack-obama             President   \n",
       "3                         health-care    blog-posting                   NaN   \n",
       "4                        economy,jobs   charlie-crist                   NaN   \n",
       "\n",
       "  state_info party_affiliation  barely_true_counts  false_counts  \\\n",
       "0      Texas        republican                 0.0           1.0   \n",
       "1   Virginia          democrat                 0.0           0.0   \n",
       "2   Illinois          democrat                70.0          71.0   \n",
       "3        NaN              none                 7.0          19.0   \n",
       "4    Florida          democrat                15.0           9.0   \n",
       "\n",
       "   half_true_counts  mostly_true_counts  pants_on_fire_counts  \\\n",
       "0               0.0                 0.0                   0.0   \n",
       "1               1.0                 1.0                   0.0   \n",
       "2             160.0               163.0                   9.0   \n",
       "3               3.0                 5.0                  44.0   \n",
       "4              20.0                19.0                   2.0   \n",
       "\n",
       "               context  \n",
       "0             a mailer  \n",
       "1      a floor speech.  \n",
       "2               Denver  \n",
       "3       a news release  \n",
       "4  an interview on CNN  "
      ]
     },
     "execution_count": 2,
     "metadata": {},
     "output_type": "execute_result"
    }
   ],
   "source": [
    "# Loading the data and bringing it to form.\n",
    "paths={\n",
    "    'train':'C:/Users/Stelios PC/Desktop/Stelios/Filles/CBS/2nd semester/Natural Language Processing/Final Assignment/liar_dataset/train.tsv',\n",
    "    'test':'C:/Users/Stelios PC/Desktop/Stelios/Filles/CBS/2nd semester/Natural Language Processing/Final Assignment/liar_dataset/test.tsv',\n",
    "    'valid':'C:/Users/Stelios PC/Desktop/Stelios/Filles/CBS/2nd semester/Natural Language Processing/Final Assignment/liar_dataset/valid.tsv'}\n",
    "\n",
    "titles=['ID','label','statement','subject','speaker','job_title','state_info','party_affiliation','barely_true_counts','false_counts','half_true_counts','mostly_true_counts','pants_on_fire_counts','context']\n",
    "\n",
    "df=pd.DataFrame(columns=titles)\n",
    "for path in paths.values():\n",
    "    df_temp=pd.read_csv(path,sep='\\t',header=None,names=titles)\n",
    "    df=pd.concat([df,df_temp],ignore_index=True)\n",
    "\n",
    "df.drop(columns=['ID'], inplace=True)\n",
    "df.head()"
   ]
  },
  {
   "cell_type": "code",
   "execution_count": 3,
   "id": "3ce6a3b2",
   "metadata": {},
   "outputs": [
    {
     "name": "stderr",
     "output_type": "stream",
     "text": [
      "C:\\Users\\Stelios PC\\AppData\\Local\\Temp\\ipykernel_7152\\337670209.py:13: FutureWarning: Downcasting behavior in `replace` is deprecated and will be removed in a future version. To retain the old behavior, explicitly call `result.infer_objects(copy=False)`. To opt-in to the future behavior, set `pd.set_option('future.no_silent_downcasting', True)`\n",
      "  df['m_label'] = df['label'].replace(label_mapping)\n"
     ]
    }
   ],
   "source": [
    "# boolean masking, adding 0-1 label for true/false\n",
    "truth=['true','mostly-true','half-true','barely-true']\n",
    "df['ft']=df['label'].isin(truth).astype(int)\n",
    "\n",
    "label_mapping = {\n",
    "    'pants-fire': 1,\n",
    "    'false': 2,\n",
    "    'barely-true': 3,\n",
    "    'half-true': 4,\n",
    "    'mostly-true': 5,\n",
    "    'true': 6}\n",
    "\n",
    "df['m_label'] = df['label'].replace(label_mapping)"
   ]
  },
  {
   "cell_type": "markdown",
   "id": "cf642474",
   "metadata": {},
   "source": [
    "Exploratory Data Analysis"
   ]
  },
  {
   "cell_type": "code",
   "execution_count": 4,
   "id": "1f0643e7",
   "metadata": {},
   "outputs": [
    {
     "name": "stdout",
     "output_type": "stream",
     "text": [
      "<class 'pandas.core.frame.DataFrame'>\n",
      "RangeIndex: 12791 entries, 0 to 12790\n",
      "Data columns (total 15 columns):\n",
      " #   Column                Non-Null Count  Dtype  \n",
      "---  ------                --------------  -----  \n",
      " 0   label                 12791 non-null  object \n",
      " 1   statement             12791 non-null  object \n",
      " 2   subject               12789 non-null  object \n",
      " 3   speaker               12789 non-null  object \n",
      " 4   job_title             9223 non-null   object \n",
      " 5   state_info            10040 non-null  object \n",
      " 6   party_affiliation     12789 non-null  object \n",
      " 7   barely_true_counts    12789 non-null  float64\n",
      " 8   false_counts          12789 non-null  float64\n",
      " 9   half_true_counts      12789 non-null  float64\n",
      " 10  mostly_true_counts    12789 non-null  float64\n",
      " 11  pants_on_fire_counts  12789 non-null  float64\n",
      " 12  context               12660 non-null  object \n",
      " 13  ft                    12791 non-null  int32  \n",
      " 14  m_label               12791 non-null  int64  \n",
      "dtypes: float64(5), int32(1), int64(1), object(8)\n",
      "memory usage: 1.4+ MB\n"
     ]
    }
   ],
   "source": [
    "df.info()"
   ]
  },
  {
   "cell_type": "code",
   "execution_count": 5,
   "id": "8a56f6f6",
   "metadata": {},
   "outputs": [
    {
     "data": {
      "text/html": [
       "<div>\n",
       "<style scoped>\n",
       "    .dataframe tbody tr th:only-of-type {\n",
       "        vertical-align: middle;\n",
       "    }\n",
       "\n",
       "    .dataframe tbody tr th {\n",
       "        vertical-align: top;\n",
       "    }\n",
       "\n",
       "    .dataframe thead th {\n",
       "        text-align: right;\n",
       "    }\n",
       "</style>\n",
       "<table border=\"1\" class=\"dataframe\">\n",
       "  <thead>\n",
       "    <tr style=\"text-align: right;\">\n",
       "      <th></th>\n",
       "      <th>label</th>\n",
       "      <th>statement</th>\n",
       "      <th>subject</th>\n",
       "      <th>speaker</th>\n",
       "      <th>job_title</th>\n",
       "      <th>state_info</th>\n",
       "      <th>party_affiliation</th>\n",
       "      <th>barely_true_counts</th>\n",
       "      <th>false_counts</th>\n",
       "      <th>half_true_counts</th>\n",
       "      <th>mostly_true_counts</th>\n",
       "      <th>pants_on_fire_counts</th>\n",
       "      <th>context</th>\n",
       "      <th>ft</th>\n",
       "      <th>m_label</th>\n",
       "    </tr>\n",
       "  </thead>\n",
       "  <tbody>\n",
       "    <tr>\n",
       "      <th>count</th>\n",
       "      <td>12791</td>\n",
       "      <td>12791</td>\n",
       "      <td>12789</td>\n",
       "      <td>12789</td>\n",
       "      <td>9223</td>\n",
       "      <td>10040</td>\n",
       "      <td>12789</td>\n",
       "      <td>12789.000000</td>\n",
       "      <td>12789.000000</td>\n",
       "      <td>12789.000000</td>\n",
       "      <td>12789.000000</td>\n",
       "      <td>12789.000000</td>\n",
       "      <td>12660</td>\n",
       "      <td>12791.000000</td>\n",
       "      <td>12791.00000</td>\n",
       "    </tr>\n",
       "    <tr>\n",
       "      <th>unique</th>\n",
       "      <td>6</td>\n",
       "      <td>12765</td>\n",
       "      <td>4534</td>\n",
       "      <td>3309</td>\n",
       "      <td>1354</td>\n",
       "      <td>84</td>\n",
       "      <td>24</td>\n",
       "      <td>NaN</td>\n",
       "      <td>NaN</td>\n",
       "      <td>NaN</td>\n",
       "      <td>NaN</td>\n",
       "      <td>NaN</td>\n",
       "      <td>5142</td>\n",
       "      <td>NaN</td>\n",
       "      <td>NaN</td>\n",
       "    </tr>\n",
       "    <tr>\n",
       "      <th>top</th>\n",
       "      <td>half-true</td>\n",
       "      <td>On a cap-and-trade plan.</td>\n",
       "      <td>health-care</td>\n",
       "      <td>barack-obama</td>\n",
       "      <td>President</td>\n",
       "      <td>Texas</td>\n",
       "      <td>republican</td>\n",
       "      <td>NaN</td>\n",
       "      <td>NaN</td>\n",
       "      <td>NaN</td>\n",
       "      <td>NaN</td>\n",
       "      <td>NaN</td>\n",
       "      <td>a news release</td>\n",
       "      <td>NaN</td>\n",
       "      <td>NaN</td>\n",
       "    </tr>\n",
       "    <tr>\n",
       "      <th>freq</th>\n",
       "      <td>2627</td>\n",
       "      <td>3</td>\n",
       "      <td>474</td>\n",
       "      <td>611</td>\n",
       "      <td>615</td>\n",
       "      <td>1260</td>\n",
       "      <td>5665</td>\n",
       "      <td>NaN</td>\n",
       "      <td>NaN</td>\n",
       "      <td>NaN</td>\n",
       "      <td>NaN</td>\n",
       "      <td>NaN</td>\n",
       "      <td>309</td>\n",
       "      <td>NaN</td>\n",
       "      <td>NaN</td>\n",
       "    </tr>\n",
       "    <tr>\n",
       "      <th>mean</th>\n",
       "      <td>NaN</td>\n",
       "      <td>NaN</td>\n",
       "      <td>NaN</td>\n",
       "      <td>NaN</td>\n",
       "      <td>NaN</td>\n",
       "      <td>NaN</td>\n",
       "      <td>NaN</td>\n",
       "      <td>11.583939</td>\n",
       "      <td>13.359059</td>\n",
       "      <td>17.185785</td>\n",
       "      <td>16.497850</td>\n",
       "      <td>6.251388</td>\n",
       "      <td>NaN</td>\n",
       "      <td>0.722148</td>\n",
       "      <td>3.71089</td>\n",
       "    </tr>\n",
       "    <tr>\n",
       "      <th>std</th>\n",
       "      <td>NaN</td>\n",
       "      <td>NaN</td>\n",
       "      <td>NaN</td>\n",
       "      <td>NaN</td>\n",
       "      <td>NaN</td>\n",
       "      <td>NaN</td>\n",
       "      <td>NaN</td>\n",
       "      <td>18.978037</td>\n",
       "      <td>24.140086</td>\n",
       "      <td>35.847678</td>\n",
       "      <td>36.165276</td>\n",
       "      <td>16.180777</td>\n",
       "      <td>NaN</td>\n",
       "      <td>0.447957</td>\n",
       "      <td>1.56063</td>\n",
       "    </tr>\n",
       "    <tr>\n",
       "      <th>min</th>\n",
       "      <td>NaN</td>\n",
       "      <td>NaN</td>\n",
       "      <td>NaN</td>\n",
       "      <td>NaN</td>\n",
       "      <td>NaN</td>\n",
       "      <td>NaN</td>\n",
       "      <td>NaN</td>\n",
       "      <td>0.000000</td>\n",
       "      <td>0.000000</td>\n",
       "      <td>0.000000</td>\n",
       "      <td>0.000000</td>\n",
       "      <td>0.000000</td>\n",
       "      <td>NaN</td>\n",
       "      <td>0.000000</td>\n",
       "      <td>1.00000</td>\n",
       "    </tr>\n",
       "    <tr>\n",
       "      <th>25%</th>\n",
       "      <td>NaN</td>\n",
       "      <td>NaN</td>\n",
       "      <td>NaN</td>\n",
       "      <td>NaN</td>\n",
       "      <td>NaN</td>\n",
       "      <td>NaN</td>\n",
       "      <td>NaN</td>\n",
       "      <td>0.000000</td>\n",
       "      <td>0.000000</td>\n",
       "      <td>0.000000</td>\n",
       "      <td>0.000000</td>\n",
       "      <td>0.000000</td>\n",
       "      <td>NaN</td>\n",
       "      <td>0.000000</td>\n",
       "      <td>2.00000</td>\n",
       "    </tr>\n",
       "    <tr>\n",
       "      <th>50%</th>\n",
       "      <td>NaN</td>\n",
       "      <td>NaN</td>\n",
       "      <td>NaN</td>\n",
       "      <td>NaN</td>\n",
       "      <td>NaN</td>\n",
       "      <td>NaN</td>\n",
       "      <td>NaN</td>\n",
       "      <td>2.000000</td>\n",
       "      <td>2.000000</td>\n",
       "      <td>3.000000</td>\n",
       "      <td>3.000000</td>\n",
       "      <td>1.000000</td>\n",
       "      <td>NaN</td>\n",
       "      <td>1.000000</td>\n",
       "      <td>4.00000</td>\n",
       "    </tr>\n",
       "    <tr>\n",
       "      <th>75%</th>\n",
       "      <td>NaN</td>\n",
       "      <td>NaN</td>\n",
       "      <td>NaN</td>\n",
       "      <td>NaN</td>\n",
       "      <td>NaN</td>\n",
       "      <td>NaN</td>\n",
       "      <td>NaN</td>\n",
       "      <td>12.000000</td>\n",
       "      <td>15.000000</td>\n",
       "      <td>13.000000</td>\n",
       "      <td>12.000000</td>\n",
       "      <td>5.000000</td>\n",
       "      <td>NaN</td>\n",
       "      <td>1.000000</td>\n",
       "      <td>5.00000</td>\n",
       "    </tr>\n",
       "    <tr>\n",
       "      <th>max</th>\n",
       "      <td>NaN</td>\n",
       "      <td>NaN</td>\n",
       "      <td>NaN</td>\n",
       "      <td>NaN</td>\n",
       "      <td>NaN</td>\n",
       "      <td>NaN</td>\n",
       "      <td>NaN</td>\n",
       "      <td>70.000000</td>\n",
       "      <td>114.000000</td>\n",
       "      <td>160.000000</td>\n",
       "      <td>163.000000</td>\n",
       "      <td>105.000000</td>\n",
       "      <td>NaN</td>\n",
       "      <td>1.000000</td>\n",
       "      <td>6.00000</td>\n",
       "    </tr>\n",
       "  </tbody>\n",
       "</table>\n",
       "</div>"
      ],
      "text/plain": [
       "            label                 statement      subject       speaker  \\\n",
       "count       12791                     12791        12789         12789   \n",
       "unique          6                     12765         4534          3309   \n",
       "top     half-true  On a cap-and-trade plan.  health-care  barack-obama   \n",
       "freq         2627                         3          474           611   \n",
       "mean          NaN                       NaN          NaN           NaN   \n",
       "std           NaN                       NaN          NaN           NaN   \n",
       "min           NaN                       NaN          NaN           NaN   \n",
       "25%           NaN                       NaN          NaN           NaN   \n",
       "50%           NaN                       NaN          NaN           NaN   \n",
       "75%           NaN                       NaN          NaN           NaN   \n",
       "max           NaN                       NaN          NaN           NaN   \n",
       "\n",
       "        job_title state_info party_affiliation  barely_true_counts  \\\n",
       "count        9223      10040             12789        12789.000000   \n",
       "unique       1354         84                24                 NaN   \n",
       "top     President      Texas        republican                 NaN   \n",
       "freq          615       1260              5665                 NaN   \n",
       "mean          NaN        NaN               NaN           11.583939   \n",
       "std           NaN        NaN               NaN           18.978037   \n",
       "min           NaN        NaN               NaN            0.000000   \n",
       "25%           NaN        NaN               NaN            0.000000   \n",
       "50%           NaN        NaN               NaN            2.000000   \n",
       "75%           NaN        NaN               NaN           12.000000   \n",
       "max           NaN        NaN               NaN           70.000000   \n",
       "\n",
       "        false_counts  half_true_counts  mostly_true_counts  \\\n",
       "count   12789.000000      12789.000000        12789.000000   \n",
       "unique           NaN               NaN                 NaN   \n",
       "top              NaN               NaN                 NaN   \n",
       "freq             NaN               NaN                 NaN   \n",
       "mean       13.359059         17.185785           16.497850   \n",
       "std        24.140086         35.847678           36.165276   \n",
       "min         0.000000          0.000000            0.000000   \n",
       "25%         0.000000          0.000000            0.000000   \n",
       "50%         2.000000          3.000000            3.000000   \n",
       "75%        15.000000         13.000000           12.000000   \n",
       "max       114.000000        160.000000          163.000000   \n",
       "\n",
       "        pants_on_fire_counts         context            ft      m_label  \n",
       "count           12789.000000           12660  12791.000000  12791.00000  \n",
       "unique                   NaN            5142           NaN          NaN  \n",
       "top                      NaN  a news release           NaN          NaN  \n",
       "freq                     NaN             309           NaN          NaN  \n",
       "mean                6.251388             NaN      0.722148      3.71089  \n",
       "std                16.180777             NaN      0.447957      1.56063  \n",
       "min                 0.000000             NaN      0.000000      1.00000  \n",
       "25%                 0.000000             NaN      0.000000      2.00000  \n",
       "50%                 1.000000             NaN      1.000000      4.00000  \n",
       "75%                 5.000000             NaN      1.000000      5.00000  \n",
       "max               105.000000             NaN      1.000000      6.00000  "
      ]
     },
     "execution_count": 5,
     "metadata": {},
     "output_type": "execute_result"
    }
   ],
   "source": [
    "df.describe(include='all')"
   ]
  },
  {
   "cell_type": "code",
   "execution_count": 6,
   "id": "db2650a7",
   "metadata": {},
   "outputs": [
    {
     "data": {
      "text/plain": [
       "label                      0\n",
       "statement                  0\n",
       "subject                    2\n",
       "speaker                    2\n",
       "job_title               3568\n",
       "state_info              2751\n",
       "party_affiliation          2\n",
       "barely_true_counts         2\n",
       "false_counts               2\n",
       "half_true_counts           2\n",
       "mostly_true_counts         2\n",
       "pants_on_fire_counts       2\n",
       "context                  131\n",
       "ft                         0\n",
       "m_label                    0\n",
       "dtype: int64"
      ]
     },
     "execution_count": 6,
     "metadata": {},
     "output_type": "execute_result"
    }
   ],
   "source": [
    "df.isnull().sum()"
   ]
  },
  {
   "cell_type": "code",
   "execution_count": 7,
   "id": "50eb8445",
   "metadata": {},
   "outputs": [
    {
     "data": {
      "text/html": [
       "<div>\n",
       "<style scoped>\n",
       "    .dataframe tbody tr th:only-of-type {\n",
       "        vertical-align: middle;\n",
       "    }\n",
       "\n",
       "    .dataframe tbody tr th {\n",
       "        vertical-align: top;\n",
       "    }\n",
       "\n",
       "    .dataframe thead th {\n",
       "        text-align: right;\n",
       "    }\n",
       "</style>\n",
       "<table border=\"1\" class=\"dataframe\">\n",
       "  <thead>\n",
       "    <tr style=\"text-align: right;\">\n",
       "      <th></th>\n",
       "      <th>label</th>\n",
       "      <th>statement</th>\n",
       "      <th>subject</th>\n",
       "      <th>speaker</th>\n",
       "      <th>job_title</th>\n",
       "      <th>state_info</th>\n",
       "      <th>party_affiliation</th>\n",
       "      <th>barely_true_counts</th>\n",
       "      <th>false_counts</th>\n",
       "      <th>half_true_counts</th>\n",
       "      <th>mostly_true_counts</th>\n",
       "      <th>pants_on_fire_counts</th>\n",
       "      <th>context</th>\n",
       "      <th>ft</th>\n",
       "      <th>m_label</th>\n",
       "    </tr>\n",
       "  </thead>\n",
       "  <tbody>\n",
       "    <tr>\n",
       "      <th>2142</th>\n",
       "      <td>false</td>\n",
       "      <td>The fact is that although we have had a presid...</td>\n",
       "      <td>NaN</td>\n",
       "      <td>NaN</td>\n",
       "      <td>NaN</td>\n",
       "      <td>NaN</td>\n",
       "      <td>NaN</td>\n",
       "      <td>NaN</td>\n",
       "      <td>NaN</td>\n",
       "      <td>NaN</td>\n",
       "      <td>NaN</td>\n",
       "      <td>NaN</td>\n",
       "      <td>NaN</td>\n",
       "      <td>0</td>\n",
       "      <td>2</td>\n",
       "    </tr>\n",
       "    <tr>\n",
       "      <th>9375</th>\n",
       "      <td>false</td>\n",
       "      <td>Joe, I keep hearing you every morning talking ...</td>\n",
       "      <td>NaN</td>\n",
       "      <td>NaN</td>\n",
       "      <td>NaN</td>\n",
       "      <td>NaN</td>\n",
       "      <td>NaN</td>\n",
       "      <td>NaN</td>\n",
       "      <td>NaN</td>\n",
       "      <td>NaN</td>\n",
       "      <td>NaN</td>\n",
       "      <td>NaN</td>\n",
       "      <td>NaN</td>\n",
       "      <td>0</td>\n",
       "      <td>2</td>\n",
       "    </tr>\n",
       "  </tbody>\n",
       "</table>\n",
       "</div>"
      ],
      "text/plain": [
       "      label                                          statement subject  \\\n",
       "2142  false  The fact is that although we have had a presid...     NaN   \n",
       "9375  false  Joe, I keep hearing you every morning talking ...     NaN   \n",
       "\n",
       "     speaker job_title state_info party_affiliation  barely_true_counts  \\\n",
       "2142     NaN       NaN        NaN               NaN                 NaN   \n",
       "9375     NaN       NaN        NaN               NaN                 NaN   \n",
       "\n",
       "      false_counts  half_true_counts  mostly_true_counts  \\\n",
       "2142           NaN               NaN                 NaN   \n",
       "9375           NaN               NaN                 NaN   \n",
       "\n",
       "      pants_on_fire_counts context  ft  m_label  \n",
       "2142                   NaN     NaN   0        2  \n",
       "9375                   NaN     NaN   0        2  "
      ]
     },
     "execution_count": 7,
     "metadata": {},
     "output_type": "execute_result"
    }
   ],
   "source": [
    "df[df['barely_true_counts'].isnull()]"
   ]
  },
  {
   "cell_type": "code",
   "execution_count": 8,
   "id": "932de230",
   "metadata": {},
   "outputs": [],
   "source": [
    "# Dropping these 2 as they are not useful for our analysis\n",
    "df.drop(df[df['barely_true_counts'].isnull()].index, inplace=True)"
   ]
  },
  {
   "cell_type": "code",
   "execution_count": 9,
   "id": "70162f48",
   "metadata": {},
   "outputs": [
    {
     "name": "stderr",
     "output_type": "stream",
     "text": [
      "C:\\Users\\Stelios PC\\AppData\\Local\\Temp\\ipykernel_7152\\2280307884.py:2: FutureWarning: A value is trying to be set on a copy of a DataFrame or Series through chained assignment using an inplace method.\n",
      "The behavior will change in pandas 3.0. This inplace method will never work because the intermediate object on which we are setting values always behaves as a copy.\n",
      "\n",
      "For example, when doing 'df[col].method(value, inplace=True)', try using 'df.method({col: value}, inplace=True)' or df[col] = df[col].method(value) instead, to perform the operation inplace on the original object.\n",
      "\n",
      "\n",
      "  df['job_title'].fillna('Unknown', inplace=True)\n",
      "C:\\Users\\Stelios PC\\AppData\\Local\\Temp\\ipykernel_7152\\2280307884.py:3: FutureWarning: A value is trying to be set on a copy of a DataFrame or Series through chained assignment using an inplace method.\n",
      "The behavior will change in pandas 3.0. This inplace method will never work because the intermediate object on which we are setting values always behaves as a copy.\n",
      "\n",
      "For example, when doing 'df[col].method(value, inplace=True)', try using 'df.method({col: value}, inplace=True)' or df[col] = df[col].method(value) instead, to perform the operation inplace on the original object.\n",
      "\n",
      "\n",
      "  df['state_info'].fillna('Unknown', inplace=True)\n",
      "C:\\Users\\Stelios PC\\AppData\\Local\\Temp\\ipykernel_7152\\2280307884.py:4: FutureWarning: A value is trying to be set on a copy of a DataFrame or Series through chained assignment using an inplace method.\n",
      "The behavior will change in pandas 3.0. This inplace method will never work because the intermediate object on which we are setting values always behaves as a copy.\n",
      "\n",
      "For example, when doing 'df[col].method(value, inplace=True)', try using 'df.method({col: value}, inplace=True)' or df[col] = df[col].method(value) instead, to perform the operation inplace on the original object.\n",
      "\n",
      "\n",
      "  df['context'].fillna('Unknown', inplace=True)\n"
     ]
    }
   ],
   "source": [
    "# For job title and state info, and context replacing with Unknown\n",
    "df['job_title'].fillna('Unknown', inplace=True)\n",
    "df['state_info'].fillna('Unknown', inplace=True)\n",
    "df['context'].fillna('Unknown', inplace=True)"
   ]
  },
  {
   "cell_type": "code",
   "execution_count": 10,
   "id": "80def408",
   "metadata": {},
   "outputs": [
    {
     "name": "stdout",
     "output_type": "stream",
     "text": [
      "<class 'pandas.core.frame.DataFrame'>\n",
      "Index: 12789 entries, 0 to 12790\n",
      "Data columns (total 15 columns):\n",
      " #   Column                Non-Null Count  Dtype \n",
      "---  ------                --------------  ----- \n",
      " 0   label                 12789 non-null  object\n",
      " 1   statement             12789 non-null  object\n",
      " 2   subject               12789 non-null  object\n",
      " 3   speaker               12789 non-null  object\n",
      " 4   job_title             12789 non-null  object\n",
      " 5   state_info            12789 non-null  object\n",
      " 6   party_affiliation     12789 non-null  object\n",
      " 7   barely_true_counts    12789 non-null  int32 \n",
      " 8   false_counts          12789 non-null  int32 \n",
      " 9   half_true_counts      12789 non-null  int32 \n",
      " 10  mostly_true_counts    12789 non-null  int32 \n",
      " 11  pants_on_fire_counts  12789 non-null  int32 \n",
      " 12  context               12789 non-null  object\n",
      " 13  ft                    12789 non-null  int32 \n",
      " 14  m_label               12789 non-null  int64 \n",
      "dtypes: int32(6), int64(1), object(8)\n",
      "memory usage: 1.3+ MB\n"
     ]
    }
   ],
   "source": [
    "#  Changing types to proper format\n",
    "df['barely_true_counts'] = df['barely_true_counts'].astype(int)\n",
    "df['false_counts'] = df['false_counts'].astype(int)\n",
    "df['half_true_counts'] = df['half_true_counts'].astype(int)\n",
    "df['mostly_true_counts'] = df['mostly_true_counts'].astype(int)\n",
    "df['pants_on_fire_counts'] = df['pants_on_fire_counts'].astype(int)\n",
    "\n",
    "df.info()"
   ]
  },
  {
   "cell_type": "code",
   "execution_count": 11,
   "id": "2cf48846",
   "metadata": {},
   "outputs": [
    {
     "data": {
      "text/plain": [
       "label                   0\n",
       "statement               0\n",
       "subject                 0\n",
       "speaker                 0\n",
       "job_title               0\n",
       "state_info              0\n",
       "party_affiliation       0\n",
       "barely_true_counts      0\n",
       "false_counts            0\n",
       "half_true_counts        0\n",
       "mostly_true_counts      0\n",
       "pants_on_fire_counts    0\n",
       "context                 0\n",
       "ft                      0\n",
       "m_label                 0\n",
       "dtype: int64"
      ]
     },
     "execution_count": 11,
     "metadata": {},
     "output_type": "execute_result"
    }
   ],
   "source": [
    "df.isnull().sum()"
   ]
  },
  {
   "cell_type": "code",
   "execution_count": 12,
   "id": "b9f1c5ff",
   "metadata": {},
   "outputs": [
    {
     "data": {
      "text/plain": [
       "party_affiliation\n",
       "republican                      5665\n",
       "democrat                        4137\n",
       "none                            2181\n",
       "organization                     264\n",
       "independent                      180\n",
       "newsmaker                         64\n",
       "libertarian                       51\n",
       "journalist                        49\n",
       "activist                          45\n",
       "columnist                         44\n",
       "talk-show-host                    32\n",
       "state-official                    24\n",
       "labor-leader                      15\n",
       "business-leader                   11\n",
       "tea-party-member                  10\n",
       "education-official                 3\n",
       "green                              3\n",
       "constitution-party                 3\n",
       "government-body                    2\n",
       "county-commissioner                2\n",
       "liberal-party-canada               1\n",
       "Moderate                           1\n",
       "democratic-farmer-labor            1\n",
       "ocean-state-tea-party-action       1\n",
       "Name: count, dtype: int64"
      ]
     },
     "execution_count": 12,
     "metadata": {},
     "output_type": "execute_result"
    }
   ],
   "source": [
    "# Checking party affiliation distribution\n",
    "df['party_affiliation'].value_counts()\n"
   ]
  },
  {
   "cell_type": "code",
   "execution_count": 13,
   "id": "542cf0bf",
   "metadata": {},
   "outputs": [
    {
     "name": "stderr",
     "output_type": "stream",
     "text": [
      "C:\\Users\\Stelios PC\\AppData\\Local\\Temp\\ipykernel_7152\\2944156783.py:5: FutureWarning: A value is trying to be set on a copy of a DataFrame or Series through chained assignment using an inplace method.\n",
      "The behavior will change in pandas 3.0. This inplace method will never work because the intermediate object on which we are setting values always behaves as a copy.\n",
      "\n",
      "For example, when doing 'df[col].method(value, inplace=True)', try using 'df.method({col: value}, inplace=True)' or df[col] = df[col].method(value) instead, to perform the operation inplace on the original object.\n",
      "\n",
      "\n",
      "  df['party_affiliation'].replace('none','no affiliation', inplace=True)\n"
     ]
    },
    {
     "data": {
      "text/plain": [
       "(array([0, 1, 2]),\n",
       " [Text(0, 0, 'republican'),\n",
       "  Text(1, 0, 'democrat'),\n",
       "  Text(2, 0, 'no affiliation')])"
      ]
     },
     "execution_count": 13,
     "metadata": {},
     "output_type": "execute_result"
    },
    {
     "data": {
      "image/png": "[encoded data removed]",
      "text/plain": [
       "<Figure size 1000x500 with 1 Axes>"
      ]
     },
     "metadata": {},
     "output_type": "display_data"
    }
   ],
   "source": [
    "# There is a big difference between the top 3 and the rest. Dropping all columns and keeping only the top 3\n",
    "# Replacing none with no affiliation\n",
    "df['party_affiliation'].unique()\n",
    "df.drop(df[df['party_affiliation'].isin(['democrat','republican','none'])==False].index, inplace=True)\n",
    "df['party_affiliation'].replace('none','no affiliation', inplace=True)\n",
    "df['party_affiliation'].value_counts().plot(kind='bar', figsize=(10, 5))\n",
    "plt.title('Party Affiliation Distribution')\n",
    "plt.xticks(rotation=0)"
   ]
  },
  {
   "cell_type": "code",
   "execution_count": 14,
   "id": "7e8e6e07",
   "metadata": {},
   "outputs": [
    {
     "data": {
      "text/plain": [
       "(array([0, 1, 2, 3, 4, 5]),\n",
       " [Text(0, 0, 'half-true'),\n",
       "  Text(1, 0, 'false'),\n",
       "  Text(2, 0, 'mostly-true'),\n",
       "  Text(3, 0, 'barely-true'),\n",
       "  Text(4, 0, 'true'),\n",
       "  Text(5, 0, 'pants-fire')])"
      ]
     },
     "execution_count": 14,
     "metadata": {},
     "output_type": "execute_result"
    },
    {
     "data": {
      "image/png": "[encoded data removed]",
      "text/plain": [
       "<Figure size 640x480 with 1 Axes>"
      ]
     },
     "metadata": {},
     "output_type": "display_data"
    }
   ],
   "source": [
    "# Distribution of labels\n",
    "df['label'].value_counts().plot(kind='bar')\n",
    "plt.title('Label Distribution')\n",
    "plt.xticks(rotation=30)"
   ]
  },
  {
   "cell_type": "code",
   "execution_count": 15,
   "id": "0750ac89",
   "metadata": {},
   "outputs": [
    {
     "data": {
      "text/plain": [
       "Text(0, 0.5, 'Count')"
      ]
     },
     "execution_count": 15,
     "metadata": {},
     "output_type": "execute_result"
    },
    {
     "data": {
      "image/png": "[encoded data removed]",
      "text/plain": [
       "<Figure size 640x480 with 1 Axes>"
      ]
     },
     "metadata": {},
     "output_type": "display_data"
    }
   ],
   "source": [
    "df['ft'].value_counts().plot(kind='bar')\n",
    "plt.title('True-False Distribution')\n",
    "plt.xticks(rotation=0, ha='center')\n",
    "plt.xlabel('True-False')\n",
    "plt.ylabel('Count')"
   ]
  },
  {
   "cell_type": "code",
   "execution_count": 16,
   "id": "7588edc3",
   "metadata": {},
   "outputs": [
    {
     "data": {
      "text/plain": [
       "count    11983.000000\n",
       "mean       107.037553\n",
       "std         64.471012\n",
       "min         11.000000\n",
       "25%         73.000000\n",
       "50%         98.000000\n",
       "75%        133.000000\n",
       "max       3192.000000\n",
       "Name: statement, dtype: float64"
      ]
     },
     "execution_count": 16,
     "metadata": {},
     "output_type": "execute_result"
    }
   ],
   "source": [
    "# Checking length of statements\n",
    "df['statement'].str.len().describe()"
   ]
  },
  {
   "cell_type": "code",
   "execution_count": 17,
   "id": "4d1d75ac",
   "metadata": {},
   "outputs": [
    {
     "data": {
      "image/png": "[encoded data removed]",
      "text/plain": [
       "<Figure size 640x480 with 1 Axes>"
      ]
     },
     "metadata": {},
     "output_type": "display_data"
    }
   ],
   "source": [
    "statement_length = df['statement'].apply(len)\n",
    "statement_length.plot()\n",
    "plt.show()"
   ]
  },
  {
   "cell_type": "code",
   "execution_count": 18,
   "id": "0929c41a",
   "metadata": {},
   "outputs": [
    {
     "data": {
      "text/plain": [
       "count    11983.000000\n",
       "mean       107.037553\n",
       "std         64.471012\n",
       "min         11.000000\n",
       "25%         73.000000\n",
       "50%         98.000000\n",
       "75%        133.000000\n",
       "max       3192.000000\n",
       "Name: statement, dtype: float64"
      ]
     },
     "execution_count": 18,
     "metadata": {},
     "output_type": "execute_result"
    }
   ],
   "source": [
    "statement_length.describe()\n"
   ]
  },
  {
   "cell_type": "code",
   "execution_count": 19,
   "id": "7a612579",
   "metadata": {},
   "outputs": [],
   "source": [
    "# Clearing outliers \n",
    "Q1 = statement_length.quantile(0.25)\n",
    "Q3 = statement_length.quantile(0.75)\n",
    "IQR = Q3 - Q1\n",
    "\n",
    "upper_bound = Q3 + 1.5 * IQR\n",
    "\n",
    "df = df[statement_length < upper_bound]\n",
    "statement_length = statement_length[statement_length < upper_bound]"
   ]
  },
  {
   "cell_type": "code",
   "execution_count": 20,
   "id": "44aa74d9",
   "metadata": {},
   "outputs": [
    {
     "data": {
      "image/png": "[encoded data removed]",
      "text/plain": [
       "<Figure size 640x480 with 1 Axes>"
      ]
     },
     "metadata": {},
     "output_type": "display_data"
    }
   ],
   "source": [
    "statement_length.hist(bins=40)\n",
    "plt.title(\"Filtered Statement Length Distribution\")\n",
    "plt.show()"
   ]
  },
  {
   "cell_type": "code",
   "execution_count": 21,
   "id": "71b097cd",
   "metadata": {},
   "outputs": [
    {
     "data": {
      "text/plain": [
       "speaker\n",
       "barack-obama       606\n",
       "donald-trump       339\n",
       "hillary-clinton    289\n",
       "mitt-romney        211\n",
       "john-mccain        187\n",
       "                  ... \n",
       "burger-king          1\n",
       "paul-babeu           1\n",
       "kal-penn             1\n",
       "fred-smith           1\n",
       "sal-esquivel         1\n",
       "Name: count, Length: 2855, dtype: int64"
      ]
     },
     "execution_count": 21,
     "metadata": {},
     "output_type": "execute_result"
    }
   ],
   "source": [
    "df['speaker'].value_counts()"
   ]
  },
  {
   "cell_type": "markdown",
   "id": "124f8be7",
   "metadata": {},
   "source": [
    "Data preprocessing"
   ]
  },
  {
   "cell_type": "code",
   "execution_count": 22,
   "id": "385a2f62",
   "metadata": {},
   "outputs": [
    {
     "data": {
      "text/html": [
       "<div>\n",
       "<style scoped>\n",
       "    .dataframe tbody tr th:only-of-type {\n",
       "        vertical-align: middle;\n",
       "    }\n",
       "\n",
       "    .dataframe tbody tr th {\n",
       "        vertical-align: top;\n",
       "    }\n",
       "\n",
       "    .dataframe thead th {\n",
       "        text-align: right;\n",
       "    }\n",
       "</style>\n",
       "<table border=\"1\" class=\"dataframe\">\n",
       "  <thead>\n",
       "    <tr style=\"text-align: right;\">\n",
       "      <th></th>\n",
       "      <th>label</th>\n",
       "      <th>statement</th>\n",
       "      <th>subject</th>\n",
       "      <th>speaker</th>\n",
       "      <th>job_title</th>\n",
       "      <th>state_info</th>\n",
       "      <th>party_affiliation</th>\n",
       "      <th>barely_true_counts</th>\n",
       "      <th>false_counts</th>\n",
       "      <th>half_true_counts</th>\n",
       "      <th>mostly_true_counts</th>\n",
       "      <th>pants_on_fire_counts</th>\n",
       "      <th>context</th>\n",
       "      <th>ft</th>\n",
       "      <th>m_label</th>\n",
       "      <th>processed_text</th>\n",
       "    </tr>\n",
       "  </thead>\n",
       "  <tbody>\n",
       "    <tr>\n",
       "      <th>0</th>\n",
       "      <td>false</td>\n",
       "      <td>Says the Annies List political group supports ...</td>\n",
       "      <td>abortion</td>\n",
       "      <td>dwayne-bohac</td>\n",
       "      <td>State representative</td>\n",
       "      <td>Texas</td>\n",
       "      <td>republican</td>\n",
       "      <td>0</td>\n",
       "      <td>1</td>\n",
       "      <td>0</td>\n",
       "      <td>0</td>\n",
       "      <td>0</td>\n",
       "      <td>a mailer</td>\n",
       "      <td>0</td>\n",
       "      <td>2</td>\n",
       "      <td>says annies list political group supports thir...</td>\n",
       "    </tr>\n",
       "    <tr>\n",
       "      <th>1</th>\n",
       "      <td>half-true</td>\n",
       "      <td>When did the decline of coal start? It started...</td>\n",
       "      <td>energy,history,job-accomplishments</td>\n",
       "      <td>scott-surovell</td>\n",
       "      <td>State delegate</td>\n",
       "      <td>Virginia</td>\n",
       "      <td>democrat</td>\n",
       "      <td>0</td>\n",
       "      <td>0</td>\n",
       "      <td>1</td>\n",
       "      <td>1</td>\n",
       "      <td>0</td>\n",
       "      <td>a floor speech.</td>\n",
       "      <td>1</td>\n",
       "      <td>4</td>\n",
       "      <td>decline coal start started natural gas took st...</td>\n",
       "    </tr>\n",
       "    <tr>\n",
       "      <th>2</th>\n",
       "      <td>mostly-true</td>\n",
       "      <td>Hillary Clinton agrees with John McCain \"by vo...</td>\n",
       "      <td>foreign-policy</td>\n",
       "      <td>barack-obama</td>\n",
       "      <td>President</td>\n",
       "      <td>Illinois</td>\n",
       "      <td>democrat</td>\n",
       "      <td>70</td>\n",
       "      <td>71</td>\n",
       "      <td>160</td>\n",
       "      <td>163</td>\n",
       "      <td>9</td>\n",
       "      <td>Denver</td>\n",
       "      <td>1</td>\n",
       "      <td>5</td>\n",
       "      <td>hillary clinton agrees john mccain voting give...</td>\n",
       "    </tr>\n",
       "    <tr>\n",
       "      <th>3</th>\n",
       "      <td>false</td>\n",
       "      <td>Health care reform legislation is likely to ma...</td>\n",
       "      <td>health-care</td>\n",
       "      <td>blog-posting</td>\n",
       "      <td>Unknown</td>\n",
       "      <td>Unknown</td>\n",
       "      <td>no affiliation</td>\n",
       "      <td>7</td>\n",
       "      <td>19</td>\n",
       "      <td>3</td>\n",
       "      <td>5</td>\n",
       "      <td>44</td>\n",
       "      <td>a news release</td>\n",
       "      <td>0</td>\n",
       "      <td>2</td>\n",
       "      <td>health care reform legislation likely mandate ...</td>\n",
       "    </tr>\n",
       "    <tr>\n",
       "      <th>4</th>\n",
       "      <td>half-true</td>\n",
       "      <td>The economic turnaround started at the end of ...</td>\n",
       "      <td>economy,jobs</td>\n",
       "      <td>charlie-crist</td>\n",
       "      <td>Unknown</td>\n",
       "      <td>Florida</td>\n",
       "      <td>democrat</td>\n",
       "      <td>15</td>\n",
       "      <td>9</td>\n",
       "      <td>20</td>\n",
       "      <td>19</td>\n",
       "      <td>2</td>\n",
       "      <td>an interview on CNN</td>\n",
       "      <td>1</td>\n",
       "      <td>4</td>\n",
       "      <td>economic turnaround started end term</td>\n",
       "    </tr>\n",
       "  </tbody>\n",
       "</table>\n",
       "</div>"
      ],
      "text/plain": [
       "         label                                          statement  \\\n",
       "0        false  Says the Annies List political group supports ...   \n",
       "1    half-true  When did the decline of coal start? It started...   \n",
       "2  mostly-true  Hillary Clinton agrees with John McCain \"by vo...   \n",
       "3        false  Health care reform legislation is likely to ma...   \n",
       "4    half-true  The economic turnaround started at the end of ...   \n",
       "\n",
       "                              subject         speaker             job_title  \\\n",
       "0                            abortion    dwayne-bohac  State representative   \n",
       "1  energy,history,job-accomplishments  scott-surovell        State delegate   \n",
       "2                      foreign-policy    barack-obama             President   \n",
       "3                         health-care    blog-posting               Unknown   \n",
       "4                        economy,jobs   charlie-crist               Unknown   \n",
       "\n",
       "  state_info party_affiliation  barely_true_counts  false_counts  \\\n",
       "0      Texas        republican                   0             1   \n",
       "1   Virginia          democrat                   0             0   \n",
       "2   Illinois          democrat                  70            71   \n",
       "3    Unknown    no affiliation                   7            19   \n",
       "4    Florida          democrat                  15             9   \n",
       "\n",
       "   half_true_counts  mostly_true_counts  pants_on_fire_counts  \\\n",
       "0                 0                   0                     0   \n",
       "1                 1                   1                     0   \n",
       "2               160                 163                     9   \n",
       "3                 3                   5                    44   \n",
       "4                20                  19                     2   \n",
       "\n",
       "               context  ft  m_label  \\\n",
       "0             a mailer   0        2   \n",
       "1      a floor speech.   1        4   \n",
       "2               Denver   1        5   \n",
       "3       a news release   0        2   \n",
       "4  an interview on CNN   1        4   \n",
       "\n",
       "                                      processed_text  \n",
       "0  says annies list political group supports thir...  \n",
       "1  decline coal start started natural gas took st...  \n",
       "2  hillary clinton agrees john mccain voting give...  \n",
       "3  health care reform legislation likely mandate ...  \n",
       "4               economic turnaround started end term  "
      ]
     },
     "execution_count": 22,
     "metadata": {},
     "output_type": "execute_result"
    }
   ],
   "source": [
    "# tokenize, tokenize, lowercase, remove stop words\n",
    "stop_words = set(stopwords.words('english'))\n",
    "custom_punctuations = set(string.punctuation) | {\"``\", \"''\", \"“\", \"”\", \"‘\", \"’\", \"`\", \"–\", \"—\", \"...\", \"…\"}\n",
    "\n",
    "df2=df.copy()\n",
    "def preprocess_text(text):\n",
    "    # Tokenization\n",
    "    tokens = word_tokenize(text)\n",
    "    # Lowercase\n",
    "    tokens = [token.lower() for token in tokens]\n",
    "    # Remove punctuation\n",
    "    tokens = [token for token in tokens if token not in string.punctuation]\n",
    "    tokens=[token for token in tokens if token not in custom_punctuations]\n",
    "    # Remove stop words\n",
    "    tokens = [token for token in tokens if token not in stop_words]\n",
    "    # Join tokens back into a single string\n",
    "    return ' '.join(tokens)\n",
    "\n",
    "df2['processed_text'] = df2['statement'].apply(preprocess_text)\n",
    "df2.head()"
   ]
  },
  {
   "cell_type": "code",
   "execution_count": 23,
   "id": "8d0cfeb5",
   "metadata": {},
   "outputs": [
    {
     "data": {
      "text/html": [
       "<div>\n",
       "<style scoped>\n",
       "    .dataframe tbody tr th:only-of-type {\n",
       "        vertical-align: middle;\n",
       "    }\n",
       "\n",
       "    .dataframe tbody tr th {\n",
       "        vertical-align: top;\n",
       "    }\n",
       "\n",
       "    .dataframe thead th {\n",
       "        text-align: right;\n",
       "    }\n",
       "</style>\n",
       "<table border=\"1\" class=\"dataframe\">\n",
       "  <thead>\n",
       "    <tr style=\"text-align: right;\">\n",
       "      <th></th>\n",
       "      <th>statement</th>\n",
       "      <th>processed_text</th>\n",
       "    </tr>\n",
       "  </thead>\n",
       "  <tbody>\n",
       "    <tr>\n",
       "      <th>0</th>\n",
       "      <td>Says the Annies List political group supports ...</td>\n",
       "      <td>says annies list political group supports thir...</td>\n",
       "    </tr>\n",
       "    <tr>\n",
       "      <th>1</th>\n",
       "      <td>When did the decline of coal start? It started...</td>\n",
       "      <td>decline coal start started natural gas took st...</td>\n",
       "    </tr>\n",
       "    <tr>\n",
       "      <th>2</th>\n",
       "      <td>Hillary Clinton agrees with John McCain \"by vo...</td>\n",
       "      <td>hillary clinton agrees john mccain voting give...</td>\n",
       "    </tr>\n",
       "    <tr>\n",
       "      <th>3</th>\n",
       "      <td>Health care reform legislation is likely to ma...</td>\n",
       "      <td>health care reform legislation likely mandate ...</td>\n",
       "    </tr>\n",
       "    <tr>\n",
       "      <th>4</th>\n",
       "      <td>The economic turnaround started at the end of ...</td>\n",
       "      <td>economic turnaround started end term</td>\n",
       "    </tr>\n",
       "  </tbody>\n",
       "</table>\n",
       "</div>"
      ],
      "text/plain": [
       "                                           statement  \\\n",
       "0  Says the Annies List political group supports ...   \n",
       "1  When did the decline of coal start? It started...   \n",
       "2  Hillary Clinton agrees with John McCain \"by vo...   \n",
       "3  Health care reform legislation is likely to ma...   \n",
       "4  The economic turnaround started at the end of ...   \n",
       "\n",
       "                                      processed_text  \n",
       "0  says annies list political group supports thir...  \n",
       "1  decline coal start started natural gas took st...  \n",
       "2  hillary clinton agrees john mccain voting give...  \n",
       "3  health care reform legislation likely mandate ...  \n",
       "4               economic turnaround started end term  "
      ]
     },
     "execution_count": 23,
     "metadata": {},
     "output_type": "execute_result"
    }
   ],
   "source": [
    "df2[['statement', 'processed_text']].head()\n"
   ]
  },
  {
   "cell_type": "code",
   "execution_count": 24,
   "id": "f1f50466",
   "metadata": {},
   "outputs": [
    {
     "name": "stdout",
     "output_type": "stream",
     "text": [
      "+------------+-------+\n",
      "|    Word    | Count |\n",
      "+------------+-------+\n",
      "|    says    |  2759 |\n",
      "|  percent   |  1316 |\n",
      "|   state    |  905  |\n",
      "|   obama    |  878  |\n",
      "|    tax     |  750  |\n",
      "|   health   |  720  |\n",
      "|   years    |  698  |\n",
      "| president  |  684  |\n",
      "|   people   |  652  |\n",
      "|    year    |  617  |\n",
      "|    care    |  612  |\n",
      "|   states   |  606  |\n",
      "|   would    |  603  |\n",
      "|  million   |  576  |\n",
      "|    jobs    |  575  |\n",
      "|    new     |  533  |\n",
      "|    one     |  515  |\n",
      "|    bill    |  470  |\n",
      "|   texas    |  455  |\n",
      "|    u.s.    |  439  |\n",
      "|    said    |  437  |\n",
      "|  federal   |  433  |\n",
      "|  billion   |  430  |\n",
      "|   barack   |  427  |\n",
      "|   every    |  421  |\n",
      "|   voted    |  418  |\n",
      "|   taxes    |  406  |\n",
      "|   since    |  404  |\n",
      "|   budget   |  392  |\n",
      "| government |  375  |\n",
      "+------------+-------+\n"
     ]
    }
   ],
   "source": [
    "all_words = ' '.join(df2['processed_text']).split()\n",
    "\n",
    "\n",
    "word_counts = Counter(all_words)\n",
    "\n",
    "top20=word_counts.most_common(30)\n",
    "table= PrettyTable(['Word','Count'])\n",
    "for word,count in top20:\n",
    "    table.add_row([word,count])\n",
    "print(table)"
   ]
  },
  {
   "cell_type": "code",
   "execution_count": 25,
   "id": "061dcb61",
   "metadata": {},
   "outputs": [
    {
     "data": {
      "text/plain": [
       "Index(['label', 'statement', 'subject', 'speaker', 'job_title', 'state_info',\n",
       "       'party_affiliation', 'barely_true_counts', 'false_counts',\n",
       "       'half_true_counts', 'mostly_true_counts', 'pants_on_fire_counts',\n",
       "       'context', 'ft', 'm_label', 'processed_text'],\n",
       "      dtype='object')"
      ]
     },
     "execution_count": 25,
     "metadata": {},
     "output_type": "execute_result"
    }
   ],
   "source": [
    "df2.columns"
   ]
  },
  {
   "cell_type": "markdown",
   "id": "8661519a",
   "metadata": {},
   "source": [
    "*Bayes Classification: Multi - Binary*"
   ]
  },
  {
   "cell_type": "code",
   "execution_count": 26,
   "id": "39edd128",
   "metadata": {},
   "outputs": [],
   "source": [
    "# Bayes Multi Classifier\n",
    "# vectorization with scikit-learn\n",
    "vectorizer = TfidfVectorizer()\n",
    "X = vectorizer.fit_transform(df2['processed_text'])\n",
    "y = df2['m_label']-1\n",
    "\n",
    "#Data slpit\n",
    "X_train, X_test, y_train, y_test = train_test_split(X, y, test_size=0.2, random_state=42)"
   ]
  },
  {
   "cell_type": "code",
   "execution_count": 27,
   "id": "542a7293",
   "metadata": {},
   "outputs": [
    {
     "name": "stdout",
     "output_type": "stream",
     "text": [
      "Best Parameters for ComplementNB: {'alpha': 1.0}\n",
      "              precision    recall  f1-score   support\n",
      "\n",
      "           0       0.23      0.23      0.23       202\n",
      "           1       0.27      0.25      0.26       469\n",
      "           2       0.24      0.24      0.24       378\n",
      "           3       0.24      0.25      0.25       473\n",
      "           4       0.25      0.30      0.27       441\n",
      "           5       0.25      0.21      0.23       394\n",
      "\n",
      "    accuracy                           0.25      2357\n",
      "   macro avg       0.25      0.25      0.25      2357\n",
      "weighted avg       0.25      0.25      0.25      2357\n",
      "\n"
     ]
    }
   ],
   "source": [
    "nb = ComplementNB()\n",
    "\n",
    "# Define parameters\n",
    "param_grid_nb = {\n",
    "    'alpha': [0.1, 0.5, 1.0, 2.0, 5.0]}\n",
    "\n",
    "# Grid Search\n",
    "grid_nb = GridSearchCV(nb, param_grid_nb, cv=5, scoring='f1_macro', n_jobs=-1)\n",
    "\n",
    "grid_nb.fit(X_train, y_train)\n",
    "\n",
    "print(\"Best Parameters for ComplementNB:\", grid_nb.best_params_)\n",
    "\n",
    "# Evaluate on test set\n",
    "y_pred_nb = grid_nb.predict(X_test)\n",
    "print(classification_report(y_test, y_pred_nb))"
   ]
  },
  {
   "cell_type": "code",
   "execution_count": 28,
   "id": "a3d1c4d0",
   "metadata": {},
   "outputs": [
    {
     "data": {
      "image/png": "[encoded data removed]",
      "text/plain": [
       "<Figure size 640x480 with 2 Axes>"
      ]
     },
     "metadata": {},
     "output_type": "display_data"
    }
   ],
   "source": [
    "cm = confusion_matrix(y_test, y_pred_nb)\n",
    "sns.heatmap(cm, annot=True, fmt='d', cmap='Blues')\n",
    "plt.xlabel(\"Predicted\")\n",
    "plt.ylabel(\"Actual\")\n",
    "plt.title(\"Confusion Matrix (Multiclass NB)\")\n",
    "plt.show()"
   ]
  },
  {
   "cell_type": "code",
   "execution_count": 29,
   "id": "d1503c23",
   "metadata": {},
   "outputs": [],
   "source": [
    "# Bayers Binary Classifer\n",
    "X2 = vectorizer.fit_transform(df2['processed_text'])\n",
    "y2 = df2['ft']\n",
    "\n",
    "#Data slpit\n",
    "X_train2, X_test2, y_train2, y_test2 = train_test_split(X2, y2, test_size=0.2, random_state=42)"
   ]
  },
  {
   "cell_type": "code",
   "execution_count": 30,
   "id": "0c5a044e",
   "metadata": {},
   "outputs": [
    {
     "name": "stdout",
     "output_type": "stream",
     "text": [
      "Best Parameters for ComplementNB: {'alpha': 0.5}\n",
      "              precision    recall  f1-score   support\n",
      "\n",
      "           0       0.42      0.44      0.43       671\n",
      "           1       0.77      0.76      0.77      1686\n",
      "\n",
      "    accuracy                           0.67      2357\n",
      "   macro avg       0.60      0.60      0.60      2357\n",
      "weighted avg       0.67      0.67      0.67      2357\n",
      "\n"
     ]
    }
   ],
   "source": [
    "# Define parameters\n",
    "param_grid_nb = {\n",
    "    'alpha': [0.1, 0.5, 1.0, 2.0, 5.0]}\n",
    "\n",
    "# Grid Search\n",
    "grid_nb2 = GridSearchCV(nb, param_grid_nb, cv=5, scoring='f1_macro', n_jobs=-1)\n",
    "\n",
    "grid_nb2.fit(X_train2, y_train2)\n",
    "\n",
    "print(\"Best Parameters for ComplementNB:\", grid_nb2.best_params_)\n",
    "\n",
    "# Evaluate on test set\n",
    "y_pred_nb = grid_nb2.predict(X_test)\n",
    "print(classification_report(y_test2, y_pred_nb))"
   ]
  },
  {
   "cell_type": "code",
   "execution_count": 31,
   "id": "ed5ad45a",
   "metadata": {},
   "outputs": [
    {
     "data": {
      "image/png": "[encoded data removed]",
      "text/plain": [
       "<Figure size 640x480 with 2 Axes>"
      ]
     },
     "metadata": {},
     "output_type": "display_data"
    }
   ],
   "source": [
    "cm2 = confusion_matrix(y_test2, y_pred_nb)\n",
    "sns.heatmap(cm2, annot=True, fmt='d', cmap='Blues')\n",
    "plt.xlabel(\"Predicted\")\n",
    "plt.ylabel(\"Actual\")\n",
    "plt.title(\"Confusion Matrix (Multiclass NB)\")\n",
    "plt.show()"
   ]
  },
  {
   "cell_type": "markdown",
   "id": "35b4d804",
   "metadata": {},
   "source": [
    "*Logistic Regression*"
   ]
  },
  {
   "cell_type": "code",
   "execution_count": 32,
   "id": "e7466f46",
   "metadata": {},
   "outputs": [
    {
     "name": "stdout",
     "output_type": "stream",
     "text": [
      "Best Parameters: {'C': 1, 'penalty': 'l2', 'solver': 'saga'}\n",
      "Best Score: 0.7224695719682372\n",
      "              precision    recall  f1-score   support\n",
      "\n",
      "           0       0.58      0.07      0.12       671\n",
      "           1       0.73      0.98      0.83      1686\n",
      "\n",
      "    accuracy                           0.72      2357\n",
      "   macro avg       0.65      0.52      0.48      2357\n",
      "weighted avg       0.68      0.72      0.63      2357\n",
      "\n"
     ]
    }
   ],
   "source": [
    "param_grid = {\n",
    "    'C': [0.01, 0.1, 1, 10],\n",
    "    'penalty': ['l2'],\n",
    "    'solver': ['liblinear', 'saga']}\n",
    "\n",
    "grid = GridSearchCV(LogisticRegression(max_iter=1000), param_grid, cv=5, scoring='accuracy')\n",
    "\n",
    "grid.fit(X_train2, y_train2)\n",
    "\n",
    "print(\"Best Parameters:\", grid.best_params_)\n",
    "print(\"Best Score:\", grid.best_score_)\n",
    "\n",
    "# Evaluate on test set\n",
    "best_lr = grid.best_estimator_\n",
    "y_pred_lr = best_lr.predict(X_test2)\n",
    "print(classification_report(y_test2, y_pred_lr))"
   ]
  },
  {
   "cell_type": "code",
   "execution_count": 33,
   "id": "0afb1a65",
   "metadata": {},
   "outputs": [
    {
     "data": {
      "image/png": "[encoded data removed]",
      "text/plain": [
       "<Figure size 640x480 with 2 Axes>"
      ]
     },
     "metadata": {},
     "output_type": "display_data"
    }
   ],
   "source": [
    "cm_lr = confusion_matrix(y_test2, y_pred_lr)\n",
    "disp_lr = ConfusionMatrixDisplay(confusion_matrix=cm_lr, display_labels=best_lr.classes_)\n",
    "disp_lr.plot(cmap='Greens')\n",
    "plt.title('Confusion Matrix - Logistic Regression')\n",
    "plt.show()"
   ]
  },
  {
   "cell_type": "code",
   "execution_count": null,
   "id": "b5d8c288",
   "metadata": {},
   "outputs": [
    {
     "data": {
      "application/vnd.jupyter.widget-view+json": {
       "model_id": "f4481e5d88724082a055fabfb9be902a",
       "version_major": 2,
       "version_minor": 0
      },
      "text/plain": [
       "  0%|          | 0/32 [00:00<?, ?it/s]"
      ]
     },
     "metadata": {},
     "output_type": "display_data"
    }
   ],
   "source": [
    "# LAZY CLASSIFIER\n",
    "from sklearn.feature_extraction.text import TfidfVectorizer\n",
    "from sklearn.model_selection import train_test_split\n",
    "from lazypredict.Supervised import LazyClassifier\n",
    "liar_df = df2.copy()\n",
    "\n",
    "# Step 1: Prepare inputs (assuming liar_df already exists with 'processed_text' and 'ft')\n",
    "vectorizer = TfidfVectorizer(max_features=5000, ngram_range=(1, 2))\n",
    "X = vectorizer.fit_transform(liar_df['processed_text'])\n",
    "\n",
    "# Convert to dense DataFrame\n",
    "X = pd.DataFrame(X.toarray(), columns=vectorizer.get_feature_names_out())\n",
    "\n",
    "# Step 2: Target\n",
    "y = liar_df['ft']\n",
    "\n",
    "# Step 3: Split\n",
    "X_train, X_test, y_train, y_test = train_test_split(\n",
    "    X, y, test_size=0.3, random_state=42, stratify=y\n",
    ")\n",
    "\n",
    "# Step 4: LazyClassifier\n",
    "clf = LazyClassifier(verbose=0, ignore_warnings=True, custom_metric=None)\n",
    "models, predictions = clf.fit(X_train, X_test, y_train, y_test)\n",
    "\n",
    "# Step 5: View Results\n",
    "print(models)\n"
   ]
  }
 ],
 "metadata": {
  "kernelspec": {
   "display_name": "newbase",
   "language": "python",
   "name": "python3"
  },
  "language_info": {
   "codemirror_mode": {
    "name": "ipython",
    "version": 3
   },
   "file_extension": ".py",
   "mimetype": "text/x-python",
   "name": "python",
   "nbconvert_exporter": "python",
   "pygments_lexer": "ipython3",
   "version": "3.10.16"
  }
 },
 "nbformat": 4,
 "nbformat_minor": 5
}
