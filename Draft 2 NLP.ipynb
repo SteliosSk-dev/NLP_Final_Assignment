{
 "cells": [
  {
   "cell_type": "code",
   "execution_count": 1,
   "id": "e20beb5f",
   "metadata": {},
   "outputs": [
    {
     "name": "stderr",
     "output_type": "stream",
     "text": [
      "[nltk_data] Downloading package punkt_tab to C:\\Users\\Stelios\n",
      "[nltk_data]     PC\\AppData\\Roaming\\nltk_data...\n",
      "[nltk_data]   Package punkt_tab is already up-to-date!\n",
      "[nltk_data] Downloading package stopwords to C:\\Users\\Stelios\n",
      "[nltk_data]     PC\\AppData\\Roaming\\nltk_data...\n",
      "[nltk_data]   Package stopwords is already up-to-date!\n"
     ]
    },
    {
     "data": {
      "text/plain": [
       "True"
      ]
     },
     "execution_count": 1,
     "metadata": {},
     "output_type": "execute_result"
    }
   ],
   "source": [
    "import pandas as pd\n",
    "import os\n",
    "import matplotlib.pyplot as plt\n",
    "import seaborn as sns\n",
    "import numpy as np\n",
    "from sklearn.model_selection import train_test_split\n",
    "from sklearn.feature_extraction.text import TfidfVectorizer\n",
    "import pandas as pd\n",
    "import matplotlib.pyplot as plt\n",
    "import nltk\n",
    "from nltk.corpus import stopwords\n",
    "from nltk.tokenize import word_tokenize\n",
    "import string\n",
    "from sklearn.model_selection import train_test_split, GridSearchCV\n",
    "from sklearn.feature_extraction.text import CountVectorizer, TfidfVectorizer\n",
    "from sklearn.naive_bayes import ComplementNB\n",
    "from sklearn.metrics import classification_report, confusion_matrix, ConfusionMatrixDisplay\n",
    "from sklearn.linear_model import LogisticRegression\n",
    "from prettytable import PrettyTable\n",
    "from sklearn.feature_extraction.text import CountVectorizer\n",
    "from collections import Counter\n",
    "from sentence_transformers import SentenceTransformer\n",
    "from imblearn.over_sampling import SMOTE\n",
    "from sklearn.svm import SVC\n",
    "from sklearn.model_selection import GridSearchCV\n",
    "from datasets import Dataset, DatasetDict\n",
    "\n",
    "\n",
    "\n",
    "nltk.download('punkt_tab')\n",
    "nltk.download('stopwords')"
   ]
  },
  {
   "cell_type": "code",
   "execution_count": 2,
   "id": "087dea70",
   "metadata": {},
   "outputs": [
    {
     "name": "stderr",
     "output_type": "stream",
     "text": [
      "C:\\Users\\Stelios PC\\AppData\\Local\\Temp\\ipykernel_28596\\2673619387.py:12: FutureWarning: The behavior of DataFrame concatenation with empty or all-NA entries is deprecated. In a future version, this will no longer exclude empty or all-NA columns when determining the result dtypes. To retain the old behavior, exclude the relevant entries before the concat operation.\n",
      "  df=pd.concat([df,df_temp],ignore_index=True)\n"
     ]
    },
    {
     "data": {
      "text/html": [
       "<div>\n",
       "<style scoped>\n",
       "    .dataframe tbody tr th:only-of-type {\n",
       "        vertical-align: middle;\n",
       "    }\n",
       "\n",
       "    .dataframe tbody tr th {\n",
       "        vertical-align: top;\n",
       "    }\n",
       "\n",
       "    .dataframe thead th {\n",
       "        text-align: right;\n",
       "    }\n",
       "</style>\n",
       "<table border=\"1\" class=\"dataframe\">\n",
       "  <thead>\n",
       "    <tr style=\"text-align: right;\">\n",
       "      <th></th>\n",
       "      <th>label</th>\n",
       "      <th>statement</th>\n",
       "      <th>subject</th>\n",
       "      <th>speaker</th>\n",
       "      <th>job_title</th>\n",
       "      <th>state_info</th>\n",
       "      <th>party_affiliation</th>\n",
       "      <th>barely_true_counts</th>\n",
       "      <th>false_counts</th>\n",
       "      <th>half_true_counts</th>\n",
       "      <th>mostly_true_counts</th>\n",
       "      <th>pants_on_fire_counts</th>\n",
       "      <th>context</th>\n",
       "    </tr>\n",
       "  </thead>\n",
       "  <tbody>\n",
       "    <tr>\n",
       "      <th>0</th>\n",
       "      <td>false</td>\n",
       "      <td>Says the Annies List political group supports ...</td>\n",
       "      <td>abortion</td>\n",
       "      <td>dwayne-bohac</td>\n",
       "      <td>State representative</td>\n",
       "      <td>Texas</td>\n",
       "      <td>republican</td>\n",
       "      <td>0.0</td>\n",
       "      <td>1.0</td>\n",
       "      <td>0.0</td>\n",
       "      <td>0.0</td>\n",
       "      <td>0.0</td>\n",
       "      <td>a mailer</td>\n",
       "    </tr>\n",
       "    <tr>\n",
       "      <th>1</th>\n",
       "      <td>half-true</td>\n",
       "      <td>When did the decline of coal start? It started...</td>\n",
       "      <td>energy,history,job-accomplishments</td>\n",
       "      <td>scott-surovell</td>\n",
       "      <td>State delegate</td>\n",
       "      <td>Virginia</td>\n",
       "      <td>democrat</td>\n",
       "      <td>0.0</td>\n",
       "      <td>0.0</td>\n",
       "      <td>1.0</td>\n",
       "      <td>1.0</td>\n",
       "      <td>0.0</td>\n",
       "      <td>a floor speech.</td>\n",
       "    </tr>\n",
       "    <tr>\n",
       "      <th>2</th>\n",
       "      <td>mostly-true</td>\n",
       "      <td>Hillary Clinton agrees with John McCain \"by vo...</td>\n",
       "      <td>foreign-policy</td>\n",
       "      <td>barack-obama</td>\n",
       "      <td>President</td>\n",
       "      <td>Illinois</td>\n",
       "      <td>democrat</td>\n",
       "      <td>70.0</td>\n",
       "      <td>71.0</td>\n",
       "      <td>160.0</td>\n",
       "      <td>163.0</td>\n",
       "      <td>9.0</td>\n",
       "      <td>Denver</td>\n",
       "    </tr>\n",
       "    <tr>\n",
       "      <th>3</th>\n",
       "      <td>false</td>\n",
       "      <td>Health care reform legislation is likely to ma...</td>\n",
       "      <td>health-care</td>\n",
       "      <td>blog-posting</td>\n",
       "      <td>NaN</td>\n",
       "      <td>NaN</td>\n",
       "      <td>none</td>\n",
       "      <td>7.0</td>\n",
       "      <td>19.0</td>\n",
       "      <td>3.0</td>\n",
       "      <td>5.0</td>\n",
       "      <td>44.0</td>\n",
       "      <td>a news release</td>\n",
       "    </tr>\n",
       "    <tr>\n",
       "      <th>4</th>\n",
       "      <td>half-true</td>\n",
       "      <td>The economic turnaround started at the end of ...</td>\n",
       "      <td>economy,jobs</td>\n",
       "      <td>charlie-crist</td>\n",
       "      <td>NaN</td>\n",
       "      <td>Florida</td>\n",
       "      <td>democrat</td>\n",
       "      <td>15.0</td>\n",
       "      <td>9.0</td>\n",
       "      <td>20.0</td>\n",
       "      <td>19.0</td>\n",
       "      <td>2.0</td>\n",
       "      <td>an interview on CNN</td>\n",
       "    </tr>\n",
       "  </tbody>\n",
       "</table>\n",
       "</div>"
      ],
      "text/plain": [
       "         label                                          statement  \\\n",
       "0        false  Says the Annies List political group supports ...   \n",
       "1    half-true  When did the decline of coal start? It started...   \n",
       "2  mostly-true  Hillary Clinton agrees with John McCain \"by vo...   \n",
       "3        false  Health care reform legislation is likely to ma...   \n",
       "4    half-true  The economic turnaround started at the end of ...   \n",
       "\n",
       "                              subject         speaker             job_title  \\\n",
       "0                            abortion    dwayne-bohac  State representative   \n",
       "1  energy,history,job-accomplishments  scott-surovell        State delegate   \n",
       "2                      foreign-policy    barack-obama             President   \n",
       "3                         health-care    blog-posting                   NaN   \n",
       "4                        economy,jobs   charlie-crist                   NaN   \n",
       "\n",
       "  state_info party_affiliation  barely_true_counts  false_counts  \\\n",
       "0      Texas        republican                 0.0           1.0   \n",
       "1   Virginia          democrat                 0.0           0.0   \n",
       "2   Illinois          democrat                70.0          71.0   \n",
       "3        NaN              none                 7.0          19.0   \n",
       "4    Florida          democrat                15.0           9.0   \n",
       "\n",
       "   half_true_counts  mostly_true_counts  pants_on_fire_counts  \\\n",
       "0               0.0                 0.0                   0.0   \n",
       "1               1.0                 1.0                   0.0   \n",
       "2             160.0               163.0                   9.0   \n",
       "3               3.0                 5.0                  44.0   \n",
       "4              20.0                19.0                   2.0   \n",
       "\n",
       "               context  \n",
       "0             a mailer  \n",
       "1      a floor speech.  \n",
       "2               Denver  \n",
       "3       a news release  \n",
       "4  an interview on CNN  "
      ]
     },
     "execution_count": 2,
     "metadata": {},
     "output_type": "execute_result"
    }
   ],
   "source": [
    "# Loading the data and bringing it to form.\n",
    "paths={\n",
    "    'train':'C:/Users/Stelios PC/Desktop/Stelios/Filles/CBS/2nd semester/Natural Language Processing/Final Assignment/liar_dataset/train.tsv',\n",
    "    'test':'C:/Users/Stelios PC/Desktop/Stelios/Filles/CBS/2nd semester/Natural Language Processing/Final Assignment/liar_dataset/test.tsv',\n",
    "    'valid':'C:/Users/Stelios PC/Desktop/Stelios/Filles/CBS/2nd semester/Natural Language Processing/Final Assignment/liar_dataset/valid.tsv'}\n",
    "\n",
    "titles=['ID','label','statement','subject','speaker','job_title','state_info','party_affiliation','barely_true_counts','false_counts','half_true_counts','mostly_true_counts','pants_on_fire_counts','context']\n",
    "\n",
    "df=pd.DataFrame(columns=titles)\n",
    "for path in paths.values():\n",
    "    df_temp=pd.read_csv(path,sep='\\t',header=None,names=titles)\n",
    "    df=pd.concat([df,df_temp],ignore_index=True)\n",
    "\n",
    "df.drop(columns=['ID'], inplace=True)\n",
    "df.head()"
   ]
  },
  {
   "cell_type": "code",
   "execution_count": 3,
   "id": "3ce6a3b2",
   "metadata": {},
   "outputs": [
    {
     "name": "stderr",
     "output_type": "stream",
     "text": [
      "C:\\Users\\Stelios PC\\AppData\\Local\\Temp\\ipykernel_28596\\337670209.py:13: FutureWarning: Downcasting behavior in `replace` is deprecated and will be removed in a future version. To retain the old behavior, explicitly call `result.infer_objects(copy=False)`. To opt-in to the future behavior, set `pd.set_option('future.no_silent_downcasting', True)`\n",
      "  df['m_label'] = df['label'].replace(label_mapping)\n"
     ]
    }
   ],
   "source": [
    "# boolean masking, adding 0-1 label for true/false\n",
    "truth=['true','mostly-true','half-true','barely-true']\n",
    "df['ft']=df['label'].isin(truth).astype(int)\n",
    "\n",
    "label_mapping = {\n",
    "    'pants-fire': 1,\n",
    "    'false': 2,\n",
    "    'barely-true': 3,\n",
    "    'half-true': 4,\n",
    "    'mostly-true': 5,\n",
    "    'true': 6}\n",
    "\n",
    "df['m_label'] = df['label'].replace(label_mapping)"
   ]
  },
  {
   "cell_type": "markdown",
   "id": "cf642474",
   "metadata": {},
   "source": [
    "Exploratory Data Analysis"
   ]
  },
  {
   "cell_type": "code",
   "execution_count": 4,
   "id": "1f0643e7",
   "metadata": {},
   "outputs": [
    {
     "name": "stdout",
     "output_type": "stream",
     "text": [
      "<class 'pandas.core.frame.DataFrame'>\n",
      "RangeIndex: 12791 entries, 0 to 12790\n",
      "Data columns (total 15 columns):\n",
      " #   Column                Non-Null Count  Dtype  \n",
      "---  ------                --------------  -----  \n",
      " 0   label                 12791 non-null  object \n",
      " 1   statement             12791 non-null  object \n",
      " 2   subject               12789 non-null  object \n",
      " 3   speaker               12789 non-null  object \n",
      " 4   job_title             9223 non-null   object \n",
      " 5   state_info            10040 non-null  object \n",
      " 6   party_affiliation     12789 non-null  object \n",
      " 7   barely_true_counts    12789 non-null  float64\n",
      " 8   false_counts          12789 non-null  float64\n",
      " 9   half_true_counts      12789 non-null  float64\n",
      " 10  mostly_true_counts    12789 non-null  float64\n",
      " 11  pants_on_fire_counts  12789 non-null  float64\n",
      " 12  context               12660 non-null  object \n",
      " 13  ft                    12791 non-null  int32  \n",
      " 14  m_label               12791 non-null  int64  \n",
      "dtypes: float64(5), int32(1), int64(1), object(8)\n",
      "memory usage: 1.4+ MB\n"
     ]
    }
   ],
   "source": [
    "df.info()"
   ]
  },
  {
   "cell_type": "code",
   "execution_count": 5,
   "id": "8a56f6f6",
   "metadata": {},
   "outputs": [
    {
     "data": {
      "text/html": [
       "<div>\n",
       "<style scoped>\n",
       "    .dataframe tbody tr th:only-of-type {\n",
       "        vertical-align: middle;\n",
       "    }\n",
       "\n",
       "    .dataframe tbody tr th {\n",
       "        vertical-align: top;\n",
       "    }\n",
       "\n",
       "    .dataframe thead th {\n",
       "        text-align: right;\n",
       "    }\n",
       "</style>\n",
       "<table border=\"1\" class=\"dataframe\">\n",
       "  <thead>\n",
       "    <tr style=\"text-align: right;\">\n",
       "      <th></th>\n",
       "      <th>label</th>\n",
       "      <th>statement</th>\n",
       "      <th>subject</th>\n",
       "      <th>speaker</th>\n",
       "      <th>job_title</th>\n",
       "      <th>state_info</th>\n",
       "      <th>party_affiliation</th>\n",
       "      <th>barely_true_counts</th>\n",
       "      <th>false_counts</th>\n",
       "      <th>half_true_counts</th>\n",
       "      <th>mostly_true_counts</th>\n",
       "      <th>pants_on_fire_counts</th>\n",
       "      <th>context</th>\n",
       "      <th>ft</th>\n",
       "      <th>m_label</th>\n",
       "    </tr>\n",
       "  </thead>\n",
       "  <tbody>\n",
       "    <tr>\n",
       "      <th>count</th>\n",
       "      <td>12791</td>\n",
       "      <td>12791</td>\n",
       "      <td>12789</td>\n",
       "      <td>12789</td>\n",
       "      <td>9223</td>\n",
       "      <td>10040</td>\n",
       "      <td>12789</td>\n",
       "      <td>12789.000000</td>\n",
       "      <td>12789.000000</td>\n",
       "      <td>12789.000000</td>\n",
       "      <td>12789.000000</td>\n",
       "      <td>12789.000000</td>\n",
       "      <td>12660</td>\n",
       "      <td>12791.000000</td>\n",
       "      <td>12791.00000</td>\n",
       "    </tr>\n",
       "    <tr>\n",
       "      <th>unique</th>\n",
       "      <td>6</td>\n",
       "      <td>12765</td>\n",
       "      <td>4534</td>\n",
       "      <td>3309</td>\n",
       "      <td>1354</td>\n",
       "      <td>84</td>\n",
       "      <td>24</td>\n",
       "      <td>NaN</td>\n",
       "      <td>NaN</td>\n",
       "      <td>NaN</td>\n",
       "      <td>NaN</td>\n",
       "      <td>NaN</td>\n",
       "      <td>5142</td>\n",
       "      <td>NaN</td>\n",
       "      <td>NaN</td>\n",
       "    </tr>\n",
       "    <tr>\n",
       "      <th>top</th>\n",
       "      <td>half-true</td>\n",
       "      <td>On a cap-and-trade plan.</td>\n",
       "      <td>health-care</td>\n",
       "      <td>barack-obama</td>\n",
       "      <td>President</td>\n",
       "      <td>Texas</td>\n",
       "      <td>republican</td>\n",
       "      <td>NaN</td>\n",
       "      <td>NaN</td>\n",
       "      <td>NaN</td>\n",
       "      <td>NaN</td>\n",
       "      <td>NaN</td>\n",
       "      <td>a news release</td>\n",
       "      <td>NaN</td>\n",
       "      <td>NaN</td>\n",
       "    </tr>\n",
       "    <tr>\n",
       "      <th>freq</th>\n",
       "      <td>2627</td>\n",
       "      <td>3</td>\n",
       "      <td>474</td>\n",
       "      <td>611</td>\n",
       "      <td>615</td>\n",
       "      <td>1260</td>\n",
       "      <td>5665</td>\n",
       "      <td>NaN</td>\n",
       "      <td>NaN</td>\n",
       "      <td>NaN</td>\n",
       "      <td>NaN</td>\n",
       "      <td>NaN</td>\n",
       "      <td>309</td>\n",
       "      <td>NaN</td>\n",
       "      <td>NaN</td>\n",
       "    </tr>\n",
       "    <tr>\n",
       "      <th>mean</th>\n",
       "      <td>NaN</td>\n",
       "      <td>NaN</td>\n",
       "      <td>NaN</td>\n",
       "      <td>NaN</td>\n",
       "      <td>NaN</td>\n",
       "      <td>NaN</td>\n",
       "      <td>NaN</td>\n",
       "      <td>11.583939</td>\n",
       "      <td>13.359059</td>\n",
       "      <td>17.185785</td>\n",
       "      <td>16.497850</td>\n",
       "      <td>6.251388</td>\n",
       "      <td>NaN</td>\n",
       "      <td>0.722148</td>\n",
       "      <td>3.71089</td>\n",
       "    </tr>\n",
       "    <tr>\n",
       "      <th>std</th>\n",
       "      <td>NaN</td>\n",
       "      <td>NaN</td>\n",
       "      <td>NaN</td>\n",
       "      <td>NaN</td>\n",
       "      <td>NaN</td>\n",
       "      <td>NaN</td>\n",
       "      <td>NaN</td>\n",
       "      <td>18.978037</td>\n",
       "      <td>24.140086</td>\n",
       "      <td>35.847678</td>\n",
       "      <td>36.165276</td>\n",
       "      <td>16.180777</td>\n",
       "      <td>NaN</td>\n",
       "      <td>0.447957</td>\n",
       "      <td>1.56063</td>\n",
       "    </tr>\n",
       "    <tr>\n",
       "      <th>min</th>\n",
       "      <td>NaN</td>\n",
       "      <td>NaN</td>\n",
       "      <td>NaN</td>\n",
       "      <td>NaN</td>\n",
       "      <td>NaN</td>\n",
       "      <td>NaN</td>\n",
       "      <td>NaN</td>\n",
       "      <td>0.000000</td>\n",
       "      <td>0.000000</td>\n",
       "      <td>0.000000</td>\n",
       "      <td>0.000000</td>\n",
       "      <td>0.000000</td>\n",
       "      <td>NaN</td>\n",
       "      <td>0.000000</td>\n",
       "      <td>1.00000</td>\n",
       "    </tr>\n",
       "    <tr>\n",
       "      <th>25%</th>\n",
       "      <td>NaN</td>\n",
       "      <td>NaN</td>\n",
       "      <td>NaN</td>\n",
       "      <td>NaN</td>\n",
       "      <td>NaN</td>\n",
       "      <td>NaN</td>\n",
       "      <td>NaN</td>\n",
       "      <td>0.000000</td>\n",
       "      <td>0.000000</td>\n",
       "      <td>0.000000</td>\n",
       "      <td>0.000000</td>\n",
       "      <td>0.000000</td>\n",
       "      <td>NaN</td>\n",
       "      <td>0.000000</td>\n",
       "      <td>2.00000</td>\n",
       "    </tr>\n",
       "    <tr>\n",
       "      <th>50%</th>\n",
       "      <td>NaN</td>\n",
       "      <td>NaN</td>\n",
       "      <td>NaN</td>\n",
       "      <td>NaN</td>\n",
       "      <td>NaN</td>\n",
       "      <td>NaN</td>\n",
       "      <td>NaN</td>\n",
       "      <td>2.000000</td>\n",
       "      <td>2.000000</td>\n",
       "      <td>3.000000</td>\n",
       "      <td>3.000000</td>\n",
       "      <td>1.000000</td>\n",
       "      <td>NaN</td>\n",
       "      <td>1.000000</td>\n",
       "      <td>4.00000</td>\n",
       "    </tr>\n",
       "    <tr>\n",
       "      <th>75%</th>\n",
       "      <td>NaN</td>\n",
       "      <td>NaN</td>\n",
       "      <td>NaN</td>\n",
       "      <td>NaN</td>\n",
       "      <td>NaN</td>\n",
       "      <td>NaN</td>\n",
       "      <td>NaN</td>\n",
       "      <td>12.000000</td>\n",
       "      <td>15.000000</td>\n",
       "      <td>13.000000</td>\n",
       "      <td>12.000000</td>\n",
       "      <td>5.000000</td>\n",
       "      <td>NaN</td>\n",
       "      <td>1.000000</td>\n",
       "      <td>5.00000</td>\n",
       "    </tr>\n",
       "    <tr>\n",
       "      <th>max</th>\n",
       "      <td>NaN</td>\n",
       "      <td>NaN</td>\n",
       "      <td>NaN</td>\n",
       "      <td>NaN</td>\n",
       "      <td>NaN</td>\n",
       "      <td>NaN</td>\n",
       "      <td>NaN</td>\n",
       "      <td>70.000000</td>\n",
       "      <td>114.000000</td>\n",
       "      <td>160.000000</td>\n",
       "      <td>163.000000</td>\n",
       "      <td>105.000000</td>\n",
       "      <td>NaN</td>\n",
       "      <td>1.000000</td>\n",
       "      <td>6.00000</td>\n",
       "    </tr>\n",
       "  </tbody>\n",
       "</table>\n",
       "</div>"
      ],
      "text/plain": [
       "            label                 statement      subject       speaker  \\\n",
       "count       12791                     12791        12789         12789   \n",
       "unique          6                     12765         4534          3309   \n",
       "top     half-true  On a cap-and-trade plan.  health-care  barack-obama   \n",
       "freq         2627                         3          474           611   \n",
       "mean          NaN                       NaN          NaN           NaN   \n",
       "std           NaN                       NaN          NaN           NaN   \n",
       "min           NaN                       NaN          NaN           NaN   \n",
       "25%           NaN                       NaN          NaN           NaN   \n",
       "50%           NaN                       NaN          NaN           NaN   \n",
       "75%           NaN                       NaN          NaN           NaN   \n",
       "max           NaN                       NaN          NaN           NaN   \n",
       "\n",
       "        job_title state_info party_affiliation  barely_true_counts  \\\n",
       "count        9223      10040             12789        12789.000000   \n",
       "unique       1354         84                24                 NaN   \n",
       "top     President      Texas        republican                 NaN   \n",
       "freq          615       1260              5665                 NaN   \n",
       "mean          NaN        NaN               NaN           11.583939   \n",
       "std           NaN        NaN               NaN           18.978037   \n",
       "min           NaN        NaN               NaN            0.000000   \n",
       "25%           NaN        NaN               NaN            0.000000   \n",
       "50%           NaN        NaN               NaN            2.000000   \n",
       "75%           NaN        NaN               NaN           12.000000   \n",
       "max           NaN        NaN               NaN           70.000000   \n",
       "\n",
       "        false_counts  half_true_counts  mostly_true_counts  \\\n",
       "count   12789.000000      12789.000000        12789.000000   \n",
       "unique           NaN               NaN                 NaN   \n",
       "top              NaN               NaN                 NaN   \n",
       "freq             NaN               NaN                 NaN   \n",
       "mean       13.359059         17.185785           16.497850   \n",
       "std        24.140086         35.847678           36.165276   \n",
       "min         0.000000          0.000000            0.000000   \n",
       "25%         0.000000          0.000000            0.000000   \n",
       "50%         2.000000          3.000000            3.000000   \n",
       "75%        15.000000         13.000000           12.000000   \n",
       "max       114.000000        160.000000          163.000000   \n",
       "\n",
       "        pants_on_fire_counts         context            ft      m_label  \n",
       "count           12789.000000           12660  12791.000000  12791.00000  \n",
       "unique                   NaN            5142           NaN          NaN  \n",
       "top                      NaN  a news release           NaN          NaN  \n",
       "freq                     NaN             309           NaN          NaN  \n",
       "mean                6.251388             NaN      0.722148      3.71089  \n",
       "std                16.180777             NaN      0.447957      1.56063  \n",
       "min                 0.000000             NaN      0.000000      1.00000  \n",
       "25%                 0.000000             NaN      0.000000      2.00000  \n",
       "50%                 1.000000             NaN      1.000000      4.00000  \n",
       "75%                 5.000000             NaN      1.000000      5.00000  \n",
       "max               105.000000             NaN      1.000000      6.00000  "
      ]
     },
     "execution_count": 5,
     "metadata": {},
     "output_type": "execute_result"
    }
   ],
   "source": [
    "df.describe(include='all')"
   ]
  },
  {
   "cell_type": "code",
   "execution_count": 6,
   "id": "db2650a7",
   "metadata": {},
   "outputs": [
    {
     "data": {
      "text/plain": [
       "label                      0\n",
       "statement                  0\n",
       "subject                    2\n",
       "speaker                    2\n",
       "job_title               3568\n",
       "state_info              2751\n",
       "party_affiliation          2\n",
       "barely_true_counts         2\n",
       "false_counts               2\n",
       "half_true_counts           2\n",
       "mostly_true_counts         2\n",
       "pants_on_fire_counts       2\n",
       "context                  131\n",
       "ft                         0\n",
       "m_label                    0\n",
       "dtype: int64"
      ]
     },
     "execution_count": 6,
     "metadata": {},
     "output_type": "execute_result"
    }
   ],
   "source": [
    "df.isnull().sum()"
   ]
  },
  {
   "cell_type": "code",
   "execution_count": 7,
   "id": "50eb8445",
   "metadata": {},
   "outputs": [
    {
     "data": {
      "text/html": [
       "<div>\n",
       "<style scoped>\n",
       "    .dataframe tbody tr th:only-of-type {\n",
       "        vertical-align: middle;\n",
       "    }\n",
       "\n",
       "    .dataframe tbody tr th {\n",
       "        vertical-align: top;\n",
       "    }\n",
       "\n",
       "    .dataframe thead th {\n",
       "        text-align: right;\n",
       "    }\n",
       "</style>\n",
       "<table border=\"1\" class=\"dataframe\">\n",
       "  <thead>\n",
       "    <tr style=\"text-align: right;\">\n",
       "      <th></th>\n",
       "      <th>label</th>\n",
       "      <th>statement</th>\n",
       "      <th>subject</th>\n",
       "      <th>speaker</th>\n",
       "      <th>job_title</th>\n",
       "      <th>state_info</th>\n",
       "      <th>party_affiliation</th>\n",
       "      <th>barely_true_counts</th>\n",
       "      <th>false_counts</th>\n",
       "      <th>half_true_counts</th>\n",
       "      <th>mostly_true_counts</th>\n",
       "      <th>pants_on_fire_counts</th>\n",
       "      <th>context</th>\n",
       "      <th>ft</th>\n",
       "      <th>m_label</th>\n",
       "    </tr>\n",
       "  </thead>\n",
       "  <tbody>\n",
       "    <tr>\n",
       "      <th>2142</th>\n",
       "      <td>false</td>\n",
       "      <td>The fact is that although we have had a presid...</td>\n",
       "      <td>NaN</td>\n",
       "      <td>NaN</td>\n",
       "      <td>NaN</td>\n",
       "      <td>NaN</td>\n",
       "      <td>NaN</td>\n",
       "      <td>NaN</td>\n",
       "      <td>NaN</td>\n",
       "      <td>NaN</td>\n",
       "      <td>NaN</td>\n",
       "      <td>NaN</td>\n",
       "      <td>NaN</td>\n",
       "      <td>0</td>\n",
       "      <td>2</td>\n",
       "    </tr>\n",
       "    <tr>\n",
       "      <th>9375</th>\n",
       "      <td>false</td>\n",
       "      <td>Joe, I keep hearing you every morning talking ...</td>\n",
       "      <td>NaN</td>\n",
       "      <td>NaN</td>\n",
       "      <td>NaN</td>\n",
       "      <td>NaN</td>\n",
       "      <td>NaN</td>\n",
       "      <td>NaN</td>\n",
       "      <td>NaN</td>\n",
       "      <td>NaN</td>\n",
       "      <td>NaN</td>\n",
       "      <td>NaN</td>\n",
       "      <td>NaN</td>\n",
       "      <td>0</td>\n",
       "      <td>2</td>\n",
       "    </tr>\n",
       "  </tbody>\n",
       "</table>\n",
       "</div>"
      ],
      "text/plain": [
       "      label                                          statement subject  \\\n",
       "2142  false  The fact is that although we have had a presid...     NaN   \n",
       "9375  false  Joe, I keep hearing you every morning talking ...     NaN   \n",
       "\n",
       "     speaker job_title state_info party_affiliation  barely_true_counts  \\\n",
       "2142     NaN       NaN        NaN               NaN                 NaN   \n",
       "9375     NaN       NaN        NaN               NaN                 NaN   \n",
       "\n",
       "      false_counts  half_true_counts  mostly_true_counts  \\\n",
       "2142           NaN               NaN                 NaN   \n",
       "9375           NaN               NaN                 NaN   \n",
       "\n",
       "      pants_on_fire_counts context  ft  m_label  \n",
       "2142                   NaN     NaN   0        2  \n",
       "9375                   NaN     NaN   0        2  "
      ]
     },
     "execution_count": 7,
     "metadata": {},
     "output_type": "execute_result"
    }
   ],
   "source": [
    "df[df['barely_true_counts'].isnull()]"
   ]
  },
  {
   "cell_type": "code",
   "execution_count": 8,
   "id": "932de230",
   "metadata": {},
   "outputs": [],
   "source": [
    "# Dropping these 2 as they are not useful for our analysis\n",
    "df.drop(df[df['barely_true_counts'].isnull()].index, inplace=True)"
   ]
  },
  {
   "cell_type": "code",
   "execution_count": 9,
   "id": "70162f48",
   "metadata": {},
   "outputs": [
    {
     "name": "stderr",
     "output_type": "stream",
     "text": [
      "C:\\Users\\Stelios PC\\AppData\\Local\\Temp\\ipykernel_28596\\2280307884.py:2: FutureWarning: A value is trying to be set on a copy of a DataFrame or Series through chained assignment using an inplace method.\n",
      "The behavior will change in pandas 3.0. This inplace method will never work because the intermediate object on which we are setting values always behaves as a copy.\n",
      "\n",
      "For example, when doing 'df[col].method(value, inplace=True)', try using 'df.method({col: value}, inplace=True)' or df[col] = df[col].method(value) instead, to perform the operation inplace on the original object.\n",
      "\n",
      "\n",
      "  df['job_title'].fillna('Unknown', inplace=True)\n",
      "C:\\Users\\Stelios PC\\AppData\\Local\\Temp\\ipykernel_28596\\2280307884.py:3: FutureWarning: A value is trying to be set on a copy of a DataFrame or Series through chained assignment using an inplace method.\n",
      "The behavior will change in pandas 3.0. This inplace method will never work because the intermediate object on which we are setting values always behaves as a copy.\n",
      "\n",
      "For example, when doing 'df[col].method(value, inplace=True)', try using 'df.method({col: value}, inplace=True)' or df[col] = df[col].method(value) instead, to perform the operation inplace on the original object.\n",
      "\n",
      "\n",
      "  df['state_info'].fillna('Unknown', inplace=True)\n",
      "C:\\Users\\Stelios PC\\AppData\\Local\\Temp\\ipykernel_28596\\2280307884.py:4: FutureWarning: A value is trying to be set on a copy of a DataFrame or Series through chained assignment using an inplace method.\n",
      "The behavior will change in pandas 3.0. This inplace method will never work because the intermediate object on which we are setting values always behaves as a copy.\n",
      "\n",
      "For example, when doing 'df[col].method(value, inplace=True)', try using 'df.method({col: value}, inplace=True)' or df[col] = df[col].method(value) instead, to perform the operation inplace on the original object.\n",
      "\n",
      "\n",
      "  df['context'].fillna('Unknown', inplace=True)\n"
     ]
    }
   ],
   "source": [
    "# For job title and state info, and context replacing with Unknown\n",
    "df['job_title'].fillna('Unknown', inplace=True)\n",
    "df['state_info'].fillna('Unknown', inplace=True)\n",
    "df['context'].fillna('Unknown', inplace=True)"
   ]
  },
  {
   "cell_type": "code",
   "execution_count": 10,
   "id": "80def408",
   "metadata": {},
   "outputs": [
    {
     "name": "stdout",
     "output_type": "stream",
     "text": [
      "<class 'pandas.core.frame.DataFrame'>\n",
      "Index: 12789 entries, 0 to 12790\n",
      "Data columns (total 15 columns):\n",
      " #   Column                Non-Null Count  Dtype \n",
      "---  ------                --------------  ----- \n",
      " 0   label                 12789 non-null  object\n",
      " 1   statement             12789 non-null  object\n",
      " 2   subject               12789 non-null  object\n",
      " 3   speaker               12789 non-null  object\n",
      " 4   job_title             12789 non-null  object\n",
      " 5   state_info            12789 non-null  object\n",
      " 6   party_affiliation     12789 non-null  object\n",
      " 7   barely_true_counts    12789 non-null  int32 \n",
      " 8   false_counts          12789 non-null  int32 \n",
      " 9   half_true_counts      12789 non-null  int32 \n",
      " 10  mostly_true_counts    12789 non-null  int32 \n",
      " 11  pants_on_fire_counts  12789 non-null  int32 \n",
      " 12  context               12789 non-null  object\n",
      " 13  ft                    12789 non-null  int32 \n",
      " 14  m_label               12789 non-null  int64 \n",
      "dtypes: int32(6), int64(1), object(8)\n",
      "memory usage: 1.3+ MB\n"
     ]
    }
   ],
   "source": [
    "#  Changing types to proper format\n",
    "df['barely_true_counts'] = df['barely_true_counts'].astype(int)\n",
    "df['false_counts'] = df['false_counts'].astype(int)\n",
    "df['half_true_counts'] = df['half_true_counts'].astype(int)\n",
    "df['mostly_true_counts'] = df['mostly_true_counts'].astype(int)\n",
    "df['pants_on_fire_counts'] = df['pants_on_fire_counts'].astype(int)\n",
    "\n",
    "df.info()"
   ]
  },
  {
   "cell_type": "code",
   "execution_count": 11,
   "id": "2cf48846",
   "metadata": {},
   "outputs": [
    {
     "data": {
      "text/plain": [
       "label                   0\n",
       "statement               0\n",
       "subject                 0\n",
       "speaker                 0\n",
       "job_title               0\n",
       "state_info              0\n",
       "party_affiliation       0\n",
       "barely_true_counts      0\n",
       "false_counts            0\n",
       "half_true_counts        0\n",
       "mostly_true_counts      0\n",
       "pants_on_fire_counts    0\n",
       "context                 0\n",
       "ft                      0\n",
       "m_label                 0\n",
       "dtype: int64"
      ]
     },
     "execution_count": 11,
     "metadata": {},
     "output_type": "execute_result"
    }
   ],
   "source": [
    "df.isnull().sum()"
   ]
  },
  {
   "cell_type": "code",
   "execution_count": 12,
   "id": "b9f1c5ff",
   "metadata": {},
   "outputs": [
    {
     "data": {
      "text/plain": [
       "party_affiliation\n",
       "republican                      5665\n",
       "democrat                        4137\n",
       "none                            2181\n",
       "organization                     264\n",
       "independent                      180\n",
       "newsmaker                         64\n",
       "libertarian                       51\n",
       "journalist                        49\n",
       "activist                          45\n",
       "columnist                         44\n",
       "talk-show-host                    32\n",
       "state-official                    24\n",
       "labor-leader                      15\n",
       "business-leader                   11\n",
       "tea-party-member                  10\n",
       "education-official                 3\n",
       "green                              3\n",
       "constitution-party                 3\n",
       "government-body                    2\n",
       "county-commissioner                2\n",
       "liberal-party-canada               1\n",
       "Moderate                           1\n",
       "democratic-farmer-labor            1\n",
       "ocean-state-tea-party-action       1\n",
       "Name: count, dtype: int64"
      ]
     },
     "execution_count": 12,
     "metadata": {},
     "output_type": "execute_result"
    }
   ],
   "source": [
    "# Checking party affiliation distribution\n",
    "df['party_affiliation'].value_counts()\n"
   ]
  },
  {
   "cell_type": "code",
   "execution_count": 13,
   "id": "542cf0bf",
   "metadata": {},
   "outputs": [
    {
     "name": "stderr",
     "output_type": "stream",
     "text": [
      "C:\\Users\\Stelios PC\\AppData\\Local\\Temp\\ipykernel_28596\\2944156783.py:5: FutureWarning: A value is trying to be set on a copy of a DataFrame or Series through chained assignment using an inplace method.\n",
      "The behavior will change in pandas 3.0. This inplace method will never work because the intermediate object on which we are setting values always behaves as a copy.\n",
      "\n",
      "For example, when doing 'df[col].method(value, inplace=True)', try using 'df.method({col: value}, inplace=True)' or df[col] = df[col].method(value) instead, to perform the operation inplace on the original object.\n",
      "\n",
      "\n",
      "  df['party_affiliation'].replace('none','no affiliation', inplace=True)\n"
     ]
    },
    {
     "data": {
      "text/plain": [
       "(array([0, 1, 2]),\n",
       " [Text(0, 0, 'republican'),\n",
       "  Text(1, 0, 'democrat'),\n",
       "  Text(2, 0, 'no affiliation')])"
      ]
     },
     "execution_count": 13,
     "metadata": {},
     "output_type": "execute_result"
    },
    {
     "data": {
      "image/png": "[encoded data removed]",
      "text/plain": [
       "<Figure size 1000x500 with 1 Axes>"
      ]
     },
     "metadata": {},
     "output_type": "display_data"
    }
   ],
   "source": [
    "# There is a big difference between the top 3 and the rest. Dropping all columns and keeping only the top 3\n",
    "# Replacing none with no affiliation\n",
    "df['party_affiliation'].unique()\n",
    "df.drop(df[df['party_affiliation'].isin(['democrat','republican','none'])==False].index, inplace=True)\n",
    "df['party_affiliation'].replace('none','no affiliation', inplace=True)\n",
    "df['party_affiliation'].value_counts().plot(kind='bar', figsize=(10, 5))\n",
    "plt.title('Party Affiliation Distribution')\n",
    "plt.xticks(rotation=0)"
   ]
  },
  {
   "cell_type": "code",
   "execution_count": 14,
   "id": "7e8e6e07",
   "metadata": {},
   "outputs": [
    {
     "data": {
      "text/plain": [
       "(array([0, 1, 2, 3, 4, 5]),\n",
       " [Text(0, 0, 'half-true'),\n",
       "  Text(1, 0, 'false'),\n",
       "  Text(2, 0, 'mostly-true'),\n",
       "  Text(3, 0, 'barely-true'),\n",
       "  Text(4, 0, 'true'),\n",
       "  Text(5, 0, 'pants-fire')])"
      ]
     },
     "execution_count": 14,
     "metadata": {},
     "output_type": "execute_result"
    },
    {
     "data": {
      "image/png": "[encoded data removed]",
      "text/plain": [
       "<Figure size 640x480 with 1 Axes>"
      ]
     },
     "metadata": {},
     "output_type": "display_data"
    }
   ],
   "source": [
    "# Distribution of labels\n",
    "df['label'].value_counts().plot(kind='bar')\n",
    "plt.title('Label Distribution')\n",
    "plt.xticks(rotation=30)"
   ]
  },
  {
   "cell_type": "code",
   "execution_count": 15,
   "id": "0750ac89",
   "metadata": {},
   "outputs": [
    {
     "data": {
      "text/plain": [
       "Text(0, 0.5, 'Count')"
      ]
     },
     "execution_count": 15,
     "metadata": {},
     "output_type": "execute_result"
    },
    {
     "data": {
      "image/png": "[encoded data removed]",
      "text/plain": [
       "<Figure size 640x480 with 1 Axes>"
      ]
     },
     "metadata": {},
     "output_type": "display_data"
    }
   ],
   "source": [
    "df['ft'].value_counts().plot(kind='bar')\n",
    "plt.title('True-False Distribution')\n",
    "plt.xticks(rotation=0, ha='center')\n",
    "plt.xlabel('True-False')\n",
    "plt.ylabel('Count')"
   ]
  },
  {
   "cell_type": "code",
   "execution_count": 16,
   "id": "7588edc3",
   "metadata": {},
   "outputs": [
    {
     "data": {
      "text/plain": [
       "count    11983.000000\n",
       "mean       107.037553\n",
       "std         64.471012\n",
       "min         11.000000\n",
       "25%         73.000000\n",
       "50%         98.000000\n",
       "75%        133.000000\n",
       "max       3192.000000\n",
       "Name: statement, dtype: float64"
      ]
     },
     "execution_count": 16,
     "metadata": {},
     "output_type": "execute_result"
    }
   ],
   "source": [
    "# Checking length of statements\n",
    "df['statement'].str.len().describe()"
   ]
  },
  {
   "cell_type": "code",
   "execution_count": 17,
   "id": "4d1d75ac",
   "metadata": {},
   "outputs": [
    {
     "data": {
      "image/png": "[encoded data removed]",
      "text/plain": [
       "<Figure size 640x480 with 1 Axes>"
      ]
     },
     "metadata": {},
     "output_type": "display_data"
    }
   ],
   "source": [
    "statement_length = df['statement'].apply(len)\n",
    "statement_length.plot()\n",
    "plt.show()"
   ]
  },
  {
   "cell_type": "code",
   "execution_count": 18,
   "id": "0929c41a",
   "metadata": {},
   "outputs": [
    {
     "data": {
      "text/plain": [
       "count    11983.000000\n",
       "mean       107.037553\n",
       "std         64.471012\n",
       "min         11.000000\n",
       "25%         73.000000\n",
       "50%         98.000000\n",
       "75%        133.000000\n",
       "max       3192.000000\n",
       "Name: statement, dtype: float64"
      ]
     },
     "execution_count": 18,
     "metadata": {},
     "output_type": "execute_result"
    }
   ],
   "source": [
    "statement_length.describe()\n"
   ]
  },
  {
   "cell_type": "code",
   "execution_count": 19,
   "id": "7a612579",
   "metadata": {},
   "outputs": [],
   "source": [
    "# Clearing outliers \n",
    "Q1 = statement_length.quantile(0.25)\n",
    "Q3 = statement_length.quantile(0.75)\n",
    "IQR = Q3 - Q1\n",
    "\n",
    "upper_bound = Q3 + 1.5 * IQR\n",
    "\n",
    "df = df[statement_length < upper_bound]\n",
    "statement_length = statement_length[statement_length < upper_bound]"
   ]
  },
  {
   "cell_type": "code",
   "execution_count": 20,
   "id": "44aa74d9",
   "metadata": {},
   "outputs": [
    {
     "data": {
      "image/png": "[encoded data removed]",
      "text/plain": [
       "<Figure size 640x480 with 1 Axes>"
      ]
     },
     "metadata": {},
     "output_type": "display_data"
    }
   ],
   "source": [
    "statement_length.hist(bins=40)\n",
    "plt.title(\"Filtered Statement Length Distribution\")\n",
    "plt.show()"
   ]
  },
  {
   "cell_type": "code",
   "execution_count": 21,
   "id": "71b097cd",
   "metadata": {},
   "outputs": [
    {
     "data": {
      "text/plain": [
       "speaker\n",
       "barack-obama       606\n",
       "donald-trump       339\n",
       "hillary-clinton    289\n",
       "mitt-romney        211\n",
       "john-mccain        187\n",
       "                  ... \n",
       "burger-king          1\n",
       "paul-babeu           1\n",
       "kal-penn             1\n",
       "fred-smith           1\n",
       "sal-esquivel         1\n",
       "Name: count, Length: 2855, dtype: int64"
      ]
     },
     "execution_count": 21,
     "metadata": {},
     "output_type": "execute_result"
    }
   ],
   "source": [
    "df['speaker'].value_counts()"
   ]
  },
  {
   "cell_type": "markdown",
   "id": "124f8be7",
   "metadata": {},
   "source": [
    "Data preprocessing"
   ]
  },
  {
   "cell_type": "code",
   "execution_count": 22,
   "id": "385a2f62",
   "metadata": {},
   "outputs": [
    {
     "data": {
      "text/html": [
       "<div>\n",
       "<style scoped>\n",
       "    .dataframe tbody tr th:only-of-type {\n",
       "        vertical-align: middle;\n",
       "    }\n",
       "\n",
       "    .dataframe tbody tr th {\n",
       "        vertical-align: top;\n",
       "    }\n",
       "\n",
       "    .dataframe thead th {\n",
       "        text-align: right;\n",
       "    }\n",
       "</style>\n",
       "<table border=\"1\" class=\"dataframe\">\n",
       "  <thead>\n",
       "    <tr style=\"text-align: right;\">\n",
       "      <th></th>\n",
       "      <th>label</th>\n",
       "      <th>statement</th>\n",
       "      <th>subject</th>\n",
       "      <th>speaker</th>\n",
       "      <th>job_title</th>\n",
       "      <th>state_info</th>\n",
       "      <th>party_affiliation</th>\n",
       "      <th>barely_true_counts</th>\n",
       "      <th>false_counts</th>\n",
       "      <th>half_true_counts</th>\n",
       "      <th>mostly_true_counts</th>\n",
       "      <th>pants_on_fire_counts</th>\n",
       "      <th>context</th>\n",
       "      <th>ft</th>\n",
       "      <th>m_label</th>\n",
       "      <th>processed_text</th>\n",
       "    </tr>\n",
       "  </thead>\n",
       "  <tbody>\n",
       "    <tr>\n",
       "      <th>0</th>\n",
       "      <td>false</td>\n",
       "      <td>Says the Annies List political group supports ...</td>\n",
       "      <td>abortion</td>\n",
       "      <td>dwayne-bohac</td>\n",
       "      <td>State representative</td>\n",
       "      <td>Texas</td>\n",
       "      <td>republican</td>\n",
       "      <td>0</td>\n",
       "      <td>1</td>\n",
       "      <td>0</td>\n",
       "      <td>0</td>\n",
       "      <td>0</td>\n",
       "      <td>a mailer</td>\n",
       "      <td>0</td>\n",
       "      <td>2</td>\n",
       "      <td>says annies list political group supports thir...</td>\n",
       "    </tr>\n",
       "    <tr>\n",
       "      <th>1</th>\n",
       "      <td>half-true</td>\n",
       "      <td>When did the decline of coal start? It started...</td>\n",
       "      <td>energy,history,job-accomplishments</td>\n",
       "      <td>scott-surovell</td>\n",
       "      <td>State delegate</td>\n",
       "      <td>Virginia</td>\n",
       "      <td>democrat</td>\n",
       "      <td>0</td>\n",
       "      <td>0</td>\n",
       "      <td>1</td>\n",
       "      <td>1</td>\n",
       "      <td>0</td>\n",
       "      <td>a floor speech.</td>\n",
       "      <td>1</td>\n",
       "      <td>4</td>\n",
       "      <td>decline coal start started natural gas took st...</td>\n",
       "    </tr>\n",
       "    <tr>\n",
       "      <th>2</th>\n",
       "      <td>mostly-true</td>\n",
       "      <td>Hillary Clinton agrees with John McCain \"by vo...</td>\n",
       "      <td>foreign-policy</td>\n",
       "      <td>barack-obama</td>\n",
       "      <td>President</td>\n",
       "      <td>Illinois</td>\n",
       "      <td>democrat</td>\n",
       "      <td>70</td>\n",
       "      <td>71</td>\n",
       "      <td>160</td>\n",
       "      <td>163</td>\n",
       "      <td>9</td>\n",
       "      <td>Denver</td>\n",
       "      <td>1</td>\n",
       "      <td>5</td>\n",
       "      <td>hillary clinton agrees john mccain voting give...</td>\n",
       "    </tr>\n",
       "    <tr>\n",
       "      <th>3</th>\n",
       "      <td>false</td>\n",
       "      <td>Health care reform legislation is likely to ma...</td>\n",
       "      <td>health-care</td>\n",
       "      <td>blog-posting</td>\n",
       "      <td>Unknown</td>\n",
       "      <td>Unknown</td>\n",
       "      <td>no affiliation</td>\n",
       "      <td>7</td>\n",
       "      <td>19</td>\n",
       "      <td>3</td>\n",
       "      <td>5</td>\n",
       "      <td>44</td>\n",
       "      <td>a news release</td>\n",
       "      <td>0</td>\n",
       "      <td>2</td>\n",
       "      <td>health care reform legislation likely mandate ...</td>\n",
       "    </tr>\n",
       "    <tr>\n",
       "      <th>4</th>\n",
       "      <td>half-true</td>\n",
       "      <td>The economic turnaround started at the end of ...</td>\n",
       "      <td>economy,jobs</td>\n",
       "      <td>charlie-crist</td>\n",
       "      <td>Unknown</td>\n",
       "      <td>Florida</td>\n",
       "      <td>democrat</td>\n",
       "      <td>15</td>\n",
       "      <td>9</td>\n",
       "      <td>20</td>\n",
       "      <td>19</td>\n",
       "      <td>2</td>\n",
       "      <td>an interview on CNN</td>\n",
       "      <td>1</td>\n",
       "      <td>4</td>\n",
       "      <td>economic turnaround started end term</td>\n",
       "    </tr>\n",
       "  </tbody>\n",
       "</table>\n",
       "</div>"
      ],
      "text/plain": [
       "         label                                          statement  \\\n",
       "0        false  Says the Annies List political group supports ...   \n",
       "1    half-true  When did the decline of coal start? It started...   \n",
       "2  mostly-true  Hillary Clinton agrees with John McCain \"by vo...   \n",
       "3        false  Health care reform legislation is likely to ma...   \n",
       "4    half-true  The economic turnaround started at the end of ...   \n",
       "\n",
       "                              subject         speaker             job_title  \\\n",
       "0                            abortion    dwayne-bohac  State representative   \n",
       "1  energy,history,job-accomplishments  scott-surovell        State delegate   \n",
       "2                      foreign-policy    barack-obama             President   \n",
       "3                         health-care    blog-posting               Unknown   \n",
       "4                        economy,jobs   charlie-crist               Unknown   \n",
       "\n",
       "  state_info party_affiliation  barely_true_counts  false_counts  \\\n",
       "0      Texas        republican                   0             1   \n",
       "1   Virginia          democrat                   0             0   \n",
       "2   Illinois          democrat                  70            71   \n",
       "3    Unknown    no affiliation                   7            19   \n",
       "4    Florida          democrat                  15             9   \n",
       "\n",
       "   half_true_counts  mostly_true_counts  pants_on_fire_counts  \\\n",
       "0                 0                   0                     0   \n",
       "1                 1                   1                     0   \n",
       "2               160                 163                     9   \n",
       "3                 3                   5                    44   \n",
       "4                20                  19                     2   \n",
       "\n",
       "               context  ft  m_label  \\\n",
       "0             a mailer   0        2   \n",
       "1      a floor speech.   1        4   \n",
       "2               Denver   1        5   \n",
       "3       a news release   0        2   \n",
       "4  an interview on CNN   1        4   \n",
       "\n",
       "                                      processed_text  \n",
       "0  says annies list political group supports thir...  \n",
       "1  decline coal start started natural gas took st...  \n",
       "2  hillary clinton agrees john mccain voting give...  \n",
       "3  health care reform legislation likely mandate ...  \n",
       "4               economic turnaround started end term  "
      ]
     },
     "execution_count": 22,
     "metadata": {},
     "output_type": "execute_result"
    }
   ],
   "source": [
    "# tokenize, tokenize, lowercase, remove stop words\n",
    "stop_words = set(stopwords.words('english'))\n",
    "custom_punctuations = set(string.punctuation) | {\"``\", \"''\", \"“\", \"”\", \"‘\", \"’\", \"`\", \"–\", \"—\", \"...\", \"…\"}\n",
    "\n",
    "df2=df.copy()\n",
    "def preprocess_text(text):\n",
    "    # Tokenization\n",
    "    tokens = word_tokenize(text)\n",
    "    # Lowercase\n",
    "    tokens = [token.lower() for token in tokens]\n",
    "    # Remove punctuation\n",
    "    tokens = [token for token in tokens if token not in string.punctuation]\n",
    "    tokens=[token for token in tokens if token not in custom_punctuations]\n",
    "    # Remove stop words\n",
    "    tokens = [token for token in tokens if token not in stop_words]\n",
    "    # Join tokens back into a single string\n",
    "    return ' '.join(tokens)\n",
    "\n",
    "df2['processed_text'] = df2['statement'].apply(preprocess_text)\n",
    "df2.head()"
   ]
  },
  {
   "cell_type": "code",
   "execution_count": 23,
   "id": "8d0cfeb5",
   "metadata": {},
   "outputs": [
    {
     "data": {
      "text/html": [
       "<div>\n",
       "<style scoped>\n",
       "    .dataframe tbody tr th:only-of-type {\n",
       "        vertical-align: middle;\n",
       "    }\n",
       "\n",
       "    .dataframe tbody tr th {\n",
       "        vertical-align: top;\n",
       "    }\n",
       "\n",
       "    .dataframe thead th {\n",
       "        text-align: right;\n",
       "    }\n",
       "</style>\n",
       "<table border=\"1\" class=\"dataframe\">\n",
       "  <thead>\n",
       "    <tr style=\"text-align: right;\">\n",
       "      <th></th>\n",
       "      <th>statement</th>\n",
       "      <th>processed_text</th>\n",
       "    </tr>\n",
       "  </thead>\n",
       "  <tbody>\n",
       "    <tr>\n",
       "      <th>0</th>\n",
       "      <td>Says the Annies List political group supports ...</td>\n",
       "      <td>says annies list political group supports thir...</td>\n",
       "    </tr>\n",
       "    <tr>\n",
       "      <th>1</th>\n",
       "      <td>When did the decline of coal start? It started...</td>\n",
       "      <td>decline coal start started natural gas took st...</td>\n",
       "    </tr>\n",
       "    <tr>\n",
       "      <th>2</th>\n",
       "      <td>Hillary Clinton agrees with John McCain \"by vo...</td>\n",
       "      <td>hillary clinton agrees john mccain voting give...</td>\n",
       "    </tr>\n",
       "    <tr>\n",
       "      <th>3</th>\n",
       "      <td>Health care reform legislation is likely to ma...</td>\n",
       "      <td>health care reform legislation likely mandate ...</td>\n",
       "    </tr>\n",
       "    <tr>\n",
       "      <th>4</th>\n",
       "      <td>The economic turnaround started at the end of ...</td>\n",
       "      <td>economic turnaround started end term</td>\n",
       "    </tr>\n",
       "  </tbody>\n",
       "</table>\n",
       "</div>"
      ],
      "text/plain": [
       "                                           statement  \\\n",
       "0  Says the Annies List political group supports ...   \n",
       "1  When did the decline of coal start? It started...   \n",
       "2  Hillary Clinton agrees with John McCain \"by vo...   \n",
       "3  Health care reform legislation is likely to ma...   \n",
       "4  The economic turnaround started at the end of ...   \n",
       "\n",
       "                                      processed_text  \n",
       "0  says annies list political group supports thir...  \n",
       "1  decline coal start started natural gas took st...  \n",
       "2  hillary clinton agrees john mccain voting give...  \n",
       "3  health care reform legislation likely mandate ...  \n",
       "4               economic turnaround started end term  "
      ]
     },
     "execution_count": 23,
     "metadata": {},
     "output_type": "execute_result"
    }
   ],
   "source": [
    "df2[['statement', 'processed_text']].head()"
   ]
  },
  {
   "cell_type": "code",
   "execution_count": 24,
   "id": "f1f50466",
   "metadata": {},
   "outputs": [
    {
     "name": "stdout",
     "output_type": "stream",
     "text": [
      "+------------+-------+\n",
      "|    Word    | Count |\n",
      "+------------+-------+\n",
      "|    says    |  2759 |\n",
      "|  percent   |  1316 |\n",
      "|   state    |  905  |\n",
      "|   obama    |  878  |\n",
      "|    tax     |  750  |\n",
      "|   health   |  720  |\n",
      "|   years    |  698  |\n",
      "| president  |  684  |\n",
      "|   people   |  652  |\n",
      "|    year    |  617  |\n",
      "|    care    |  612  |\n",
      "|   states   |  606  |\n",
      "|   would    |  603  |\n",
      "|  million   |  576  |\n",
      "|    jobs    |  575  |\n",
      "|    new     |  533  |\n",
      "|    one     |  515  |\n",
      "|    bill    |  470  |\n",
      "|   texas    |  455  |\n",
      "|    u.s.    |  439  |\n",
      "|    said    |  437  |\n",
      "|  federal   |  433  |\n",
      "|  billion   |  430  |\n",
      "|   barack   |  427  |\n",
      "|   every    |  421  |\n",
      "|   voted    |  418  |\n",
      "|   taxes    |  406  |\n",
      "|   since    |  404  |\n",
      "|   budget   |  392  |\n",
      "| government |  375  |\n",
      "+------------+-------+\n"
     ]
    }
   ],
   "source": [
    "all_words = ' '.join(df2['processed_text']).split()\n",
    "\n",
    "\n",
    "word_counts = Counter(all_words)\n",
    "\n",
    "top20=word_counts.most_common(30)\n",
    "table= PrettyTable(['Word','Count'])\n",
    "for word,count in top20:\n",
    "    table.add_row([word,count])\n",
    "print(table)"
   ]
  },
  {
   "cell_type": "code",
   "execution_count": 25,
   "id": "061dcb61",
   "metadata": {},
   "outputs": [
    {
     "data": {
      "text/plain": [
       "Index(['label', 'statement', 'subject', 'speaker', 'job_title', 'state_info',\n",
       "       'party_affiliation', 'barely_true_counts', 'false_counts',\n",
       "       'half_true_counts', 'mostly_true_counts', 'pants_on_fire_counts',\n",
       "       'context', 'ft', 'm_label', 'processed_text'],\n",
       "      dtype='object')"
      ]
     },
     "execution_count": 25,
     "metadata": {},
     "output_type": "execute_result"
    }
   ],
   "source": [
    "df2.columns"
   ]
  },
  {
   "cell_type": "code",
   "execution_count": 26,
   "id": "1f8efb1a",
   "metadata": {},
   "outputs": [
    {
     "name": "stdout",
     "output_type": "stream",
     "text": [
      "<class 'pandas.core.frame.DataFrame'>\n",
      "Index: 11783 entries, 0 to 12790\n",
      "Data columns (total 16 columns):\n",
      " #   Column                Non-Null Count  Dtype \n",
      "---  ------                --------------  ----- \n",
      " 0   label                 11783 non-null  object\n",
      " 1   statement             11783 non-null  object\n",
      " 2   subject               11783 non-null  object\n",
      " 3   speaker               11783 non-null  object\n",
      " 4   job_title             11783 non-null  object\n",
      " 5   state_info            11783 non-null  object\n",
      " 6   party_affiliation     11783 non-null  object\n",
      " 7   barely_true_counts    11783 non-null  int32 \n",
      " 8   false_counts          11783 non-null  int32 \n",
      " 9   half_true_counts      11783 non-null  int32 \n",
      " 10  mostly_true_counts    11783 non-null  int32 \n",
      " 11  pants_on_fire_counts  11783 non-null  int32 \n",
      " 12  context               11783 non-null  object\n",
      " 13  ft                    11783 non-null  int32 \n",
      " 14  m_label               11783 non-null  int64 \n",
      " 15  processed_text        11783 non-null  object\n",
      "dtypes: int32(6), int64(1), object(9)\n",
      "memory usage: 1.3+ MB\n"
     ]
    }
   ],
   "source": [
    "df2.info()"
   ]
  },
  {
   "cell_type": "code",
   "execution_count": 27,
   "id": "65981a44",
   "metadata": {},
   "outputs": [],
   "source": [
    "# Splitting and Vectorization\n",
    "# vectorization with scikit-learn\n",
    "vectorizer = TfidfVectorizer()\n",
    "X = vectorizer.fit_transform(df2['processed_text'])\n",
    "y = df2['ft']\n",
    "\n",
    "#Data slpit\n",
    "X_temp, X_test, y_temp, y_test = train_test_split(X, y, test_size=0.15, random_state=42,stratify=y) # test 15%\n",
    "X_train, X_val, y_train, y_val = train_test_split(X_temp, y_temp, test_size=0.1765, random_state=42, stratify=y_temp) # the 15% of the 85% =0.1765"
   ]
  },
  {
   "cell_type": "markdown",
   "id": "8661519a",
   "metadata": {},
   "source": [
    "*Bayes Binary Classification*"
   ]
  },
  {
   "cell_type": "code",
   "execution_count": 28,
   "id": "0c5a044e",
   "metadata": {},
   "outputs": [
    {
     "name": "stdout",
     "output_type": "stream",
     "text": [
      "Best Parameters for ComplementNB: {'alpha': 0.5}\n",
      "              precision    recall  f1-score   support\n",
      "\n",
      "           0       0.39      0.40      0.40       497\n",
      "           1       0.76      0.76      0.76      1271\n",
      "\n",
      "    accuracy                           0.66      1768\n",
      "   macro avg       0.58      0.58      0.58      1768\n",
      "weighted avg       0.66      0.66      0.66      1768\n",
      "\n"
     ]
    }
   ],
   "source": [
    "nb = ComplementNB()\n",
    "\n",
    "# Define parameters\n",
    "param_grid_nb = {\n",
    "    'alpha': [0.1, 0.5, 1.0, 2.0, 5.0]}\n",
    "\n",
    "# Grid Search\n",
    "grid_nb = GridSearchCV(nb, param_grid_nb, cv=5, scoring='f1_macro', n_jobs=-1)\n",
    "\n",
    "grid_nb.fit(X_train, y_train)\n",
    "\n",
    "print(\"Best Parameters for ComplementNB:\", grid_nb.best_params_)\n",
    "\n",
    "# Evaluate on test set\n",
    "y_pred_nb = grid_nb.predict(X_test)\n",
    "print(classification_report(y_test, y_pred_nb))"
   ]
  },
  {
   "cell_type": "code",
   "execution_count": 29,
   "id": "ed5ad45a",
   "metadata": {},
   "outputs": [
    {
     "data": {
      "image/png": "[encoded data removed]",
      "text/plain": [
       "<Figure size 640x480 with 2 Axes>"
      ]
     },
     "metadata": {},
     "output_type": "display_data"
    }
   ],
   "source": [
    "cm = confusion_matrix(y_test, y_pred_nb)\n",
    "sns.heatmap(cm, annot=True, fmt='d', cmap='Blues')\n",
    "plt.xlabel(\"Predicted\")\n",
    "plt.ylabel(\"Actual\")\n",
    "plt.title(\"Confusion Matrix (Multiclass NB)\")\n",
    "plt.show()"
   ]
  },
  {
   "cell_type": "code",
   "execution_count": 30,
   "id": "1a3bda5a",
   "metadata": {},
   "outputs": [
    {
     "data": {
      "application/vnd.jupyter.widget-view+json": {
       "model_id": "17eb219c02c94223821ff09e6bee8fbf",
       "version_major": 2,
       "version_minor": 0
      },
      "text/plain": [
       "Batches:   0%|          | 0/258 [00:00<?, ?it/s]"
      ]
     },
     "metadata": {},
     "output_type": "display_data"
    },
    {
     "data": {
      "application/vnd.jupyter.widget-view+json": {
       "model_id": "69fb4c84c4cb45888a1061441005efcf",
       "version_major": 2,
       "version_minor": 0
      },
      "text/plain": [
       "Batches:   0%|          | 0/56 [00:00<?, ?it/s]"
      ]
     },
     "metadata": {},
     "output_type": "display_data"
    },
    {
     "data": {
      "application/vnd.jupyter.widget-view+json": {
       "model_id": "700ed98a78464bdcb57c317c41c2aa56",
       "version_major": 2,
       "version_minor": 0
      },
      "text/plain": [
       "Batches:   0%|          | 0/56 [00:00<?, ?it/s]"
      ]
     },
     "metadata": {},
     "output_type": "display_data"
    }
   ],
   "source": [
    "# Embedding for LR\n",
    "# Data splitting 70 - 15 -15\n",
    "\n",
    "X = df2['processed_text']\n",
    "y = df2['ft']\n",
    "\n",
    "\n",
    "#Data slpit\n",
    "X_temp2, X_test2, y_temp2, y_test2 = train_test_split(X, y, test_size=0.15, random_state=42,stratify=y) # test 15%\n",
    "X_train2, X_val2, y_train2, y_val2 = train_test_split(X_temp2, y_temp2, test_size=0.1765, random_state=42, stratify=y_temp2) # the 15% of the 85% =0.1765\n",
    "\n",
    "# Embedding seperately\n",
    "\n",
    "model = SentenceTransformer('all-MiniLM-L6-v2')\n",
    "\n",
    "X_train2 = model.encode(X_train2.tolist(), show_progress_bar=True)\n",
    "X_val2 = model.encode(X_val2.tolist(), show_progress_bar=True)\n",
    "X_test2 = model.encode(X_test2.tolist(), show_progress_bar=True)"
   ]
  },
  {
   "cell_type": "markdown",
   "id": "35b4d804",
   "metadata": {},
   "source": [
    "*Logistic Regression: simnple, balanced, smote*"
   ]
  },
  {
   "cell_type": "code",
   "execution_count": 31,
   "id": "94961196",
   "metadata": {},
   "outputs": [
    {
     "name": "stdout",
     "output_type": "stream",
     "text": [
      "Best Parameters: {'C': 0.1, 'penalty': 'l2', 'solver': 'liblinear'}\n",
      "Best Score: 0.7196558428432291\n",
      "              precision    recall  f1-score   support\n",
      "\n",
      "           0       0.71      0.01      0.02       497\n",
      "           1       0.72      1.00      0.84      1271\n",
      "\n",
      "    accuracy                           0.72      1768\n",
      "   macro avg       0.72      0.50      0.43      1768\n",
      "weighted avg       0.72      0.72      0.61      1768\n",
      "\n"
     ]
    }
   ],
   "source": [
    "# Initial LR no balancing\n",
    "param_grid = {\n",
    "    'C': [0.01, 0.1, 1, 10],\n",
    "    'penalty': ['l2'],\n",
    "    'solver': ['liblinear']}\n",
    "\n",
    "grid = GridSearchCV(LogisticRegression(max_iter=1000), param_grid, cv=5, scoring='accuracy')\n",
    "\n",
    "grid.fit(X_train2, y_train2)\n",
    "\n",
    "print(\"Best Parameters:\", grid.best_params_)\n",
    "print(\"Best Score:\", grid.best_score_)\n",
    "\n",
    "# Evaluate on test set\n",
    "best_lr = grid.best_estimator_\n",
    "y_pred_lr = best_lr.predict(X_test2)\n",
    "print(classification_report(y_test2, y_pred_lr))"
   ]
  },
  {
   "cell_type": "code",
   "execution_count": 32,
   "id": "e7466f46",
   "metadata": {},
   "outputs": [
    {
     "name": "stdout",
     "output_type": "stream",
     "text": [
      "Best Parameters: {'C': 1, 'penalty': 'l2', 'solver': 'liblinear'}\n",
      "Best Score: 0.6102831100575188\n",
      "              precision    recall  f1-score   support\n",
      "\n",
      "           0       0.37      0.56      0.44       497\n",
      "           1       0.78      0.63      0.70      1271\n",
      "\n",
      "    accuracy                           0.61      1768\n",
      "   macro avg       0.58      0.59      0.57      1768\n",
      "weighted avg       0.67      0.61      0.63      1768\n",
      "\n"
     ]
    }
   ],
   "source": [
    "# 2nd LR using class_weights\n",
    "param_grid = {\n",
    "    'C': [0.01, 0.1, 1, 10],\n",
    "    'penalty': ['l2'],\n",
    "    'solver': ['liblinear']}\n",
    "\n",
    "grid = GridSearchCV(LogisticRegression(max_iter=1000,class_weight='balanced'), param_grid, cv=5, scoring='accuracy')\n",
    "\n",
    "grid.fit(X_train2, y_train2)\n",
    "\n",
    "print(\"Best Parameters:\", grid.best_params_)\n",
    "print(\"Best Score:\", grid.best_score_)\n",
    "\n",
    "# Evaluate on test set\n",
    "best_lr = grid.best_estimator_\n",
    "y_pred_lr = best_lr.predict(X_test2)\n",
    "print(classification_report(y_test2, y_pred_lr))"
   ]
  },
  {
   "cell_type": "code",
   "execution_count": 33,
   "id": "0afb1a65",
   "metadata": {},
   "outputs": [
    {
     "data": {
      "image/png": "[encoded data removed]",
      "text/plain": [
       "<Figure size 640x480 with 2 Axes>"
      ]
     },
     "metadata": {},
     "output_type": "display_data"
    }
   ],
   "source": [
    "cm_lr = confusion_matrix(y_test2, y_pred_lr)\n",
    "disp_lr = ConfusionMatrixDisplay(confusion_matrix=cm_lr, display_labels=best_lr.classes_)\n",
    "disp_lr.plot(cmap='Blues')\n",
    "plt.title('Confusion Matrix - Logistic Regression')\n",
    "plt.show()"
   ]
  },
  {
   "cell_type": "code",
   "execution_count": 34,
   "id": "e15fa0c8",
   "metadata": {},
   "outputs": [
    {
     "name": "stdout",
     "output_type": "stream",
     "text": [
      "              precision    recall  f1-score   support\n",
      "\n",
      "           0       0.36      0.54      0.43       497\n",
      "           1       0.78      0.63      0.70      1271\n",
      "\n",
      "    accuracy                           0.60      1768\n",
      "   macro avg       0.57      0.58      0.56      1768\n",
      "weighted avg       0.66      0.60      0.62      1768\n",
      "\n"
     ]
    }
   ],
   "source": [
    "# LR using SMOTE for imbalance\n",
    "smote = SMOTE(random_state=42)\n",
    "X_train_resampled, y_train_resampled = smote.fit_resample(X_train2, y_train2)\n",
    "\n",
    "model2 = LogisticRegression(max_iter=1000, random_state=42)\n",
    "model2.fit(X_train_resampled, y_train_resampled)\n",
    "\n",
    "y_pred2 = model2.predict(X_test2)\n",
    "print(classification_report(y_test2, y_pred2))"
   ]
  },
  {
   "cell_type": "markdown",
   "id": "1e8dee73",
   "metadata": {},
   "source": [
    "*Logistic Regression with embeddings and balancing with multiclass classification*"
   ]
  },
  {
   "cell_type": "code",
   "execution_count": 35,
   "id": "e57a088e",
   "metadata": {},
   "outputs": [
    {
     "data": {
      "application/vnd.jupyter.widget-view+json": {
       "model_id": "1042ca01a8234c9aaca374462d151e18",
       "version_major": 2,
       "version_minor": 0
      },
      "text/plain": [
       "Batches:   0%|          | 0/258 [00:00<?, ?it/s]"
      ]
     },
     "metadata": {},
     "output_type": "display_data"
    },
    {
     "data": {
      "application/vnd.jupyter.widget-view+json": {
       "model_id": "9bf8e69a70d84b0386f39a64c0a4c07c",
       "version_major": 2,
       "version_minor": 0
      },
      "text/plain": [
       "Batches:   0%|          | 0/56 [00:00<?, ?it/s]"
      ]
     },
     "metadata": {},
     "output_type": "display_data"
    },
    {
     "data": {
      "application/vnd.jupyter.widget-view+json": {
       "model_id": "f0854ad58fe24c93a56f55ff8440d2a9",
       "version_major": 2,
       "version_minor": 0
      },
      "text/plain": [
       "Batches:   0%|          | 0/56 [00:00<?, ?it/s]"
      ]
     },
     "metadata": {},
     "output_type": "display_data"
    },
    {
     "name": "stdout",
     "output_type": "stream",
     "text": [
      "Best Parameters: {'C': 0.01, 'penalty': 'l2', 'solver': 'liblinear'}\n",
      "Best Score: 0.23984541595457304\n",
      "              precision    recall  f1-score   support\n",
      "\n",
      "           1       0.19      0.22      0.20       148\n",
      "           2       0.26      0.30      0.28       349\n",
      "           3       0.21      0.11      0.14       291\n",
      "           4       0.25      0.28      0.26       360\n",
      "           5       0.27      0.38      0.32       336\n",
      "           6       0.26      0.14      0.19       284\n",
      "\n",
      "    accuracy                           0.25      1768\n",
      "   macro avg       0.24      0.24      0.23      1768\n",
      "weighted avg       0.25      0.25      0.24      1768\n",
      "\n"
     ]
    }
   ],
   "source": [
    "# Embedding for LR\n",
    "# Data splitting 70 - 15 -15\n",
    "\n",
    "X = df2['processed_text']\n",
    "y = df2['m_label']\n",
    "\n",
    "\n",
    "#Data slpit\n",
    "X_temp2, X_test2, y_temp2, y_test2 = train_test_split(X, y, test_size=0.15, random_state=42,stratify=y) # test 15%\n",
    "X_train2, X_val2, y_train2, y_val2 = train_test_split(X_temp2, y_temp2, test_size=0.1765, random_state=42, stratify=y_temp2) # the 15% of the 85% =0.1765\n",
    "\n",
    "# Embedding seperately\n",
    "\n",
    "model = SentenceTransformer('all-MiniLM-L6-v2')\n",
    "\n",
    "X_train2 = model.encode(X_train2.tolist(), show_progress_bar=True)\n",
    "X_val2 = model.encode(X_val2.tolist(), show_progress_bar=True)\n",
    "X_test2 = model.encode(X_test2.tolist(), show_progress_bar=True)\n",
    "\n",
    "param_grid = {\n",
    "    'C': [0.01, 0.1, 1, 10],\n",
    "    'penalty': ['l2'],\n",
    "    'solver': ['liblinear']}\n",
    "\n",
    "grid = GridSearchCV(LogisticRegression(max_iter=1000,class_weight='balanced'), param_grid, cv=5, scoring='accuracy')\n",
    "\n",
    "grid.fit(X_train2, y_train2)\n",
    "\n",
    "print(\"Best Parameters:\", grid.best_params_)\n",
    "print(\"Best Score:\", grid.best_score_)\n",
    "\n",
    "# Evaluate on test set\n",
    "best_lr = grid.best_estimator_\n",
    "y_pred_lr = best_lr.predict(X_test2)\n",
    "print(classification_report(y_test2, y_pred_lr))"
   ]
  },
  {
   "cell_type": "code",
   "execution_count": 36,
   "id": "bdeffc80",
   "metadata": {},
   "outputs": [
    {
     "data": {
      "image/png": "[encoded data removed]",
      "text/plain": [
       "<Figure size 640x480 with 2 Axes>"
      ]
     },
     "metadata": {},
     "output_type": "display_data"
    }
   ],
   "source": [
    "cm_lr = confusion_matrix(y_test2, y_pred_lr)\n",
    "disp_lr = ConfusionMatrixDisplay(confusion_matrix=cm_lr, display_labels=best_lr.classes_)\n",
    "disp_lr.plot(cmap='Blues')\n",
    "plt.title('Confusion Matrix - Logistic Regression')\n",
    "plt.show()"
   ]
  },
  {
   "cell_type": "markdown",
   "id": "f6daefb2",
   "metadata": {},
   "source": [
    "*Standard Vector Machine*"
   ]
  },
  {
   "cell_type": "code",
   "execution_count": 37,
   "id": "fa84d594",
   "metadata": {},
   "outputs": [
    {
     "name": "stdout",
     "output_type": "stream",
     "text": [
      "              precision    recall  f1-score   support\n",
      "\n",
      "           0       0.34      0.46      0.39       497\n",
      "           1       0.76      0.66      0.70      1271\n",
      "\n",
      "    accuracy                           0.60      1768\n",
      "   macro avg       0.55      0.56      0.55      1768\n",
      "weighted avg       0.64      0.60      0.62      1768\n",
      "\n"
     ]
    }
   ],
   "source": [
    "svm = SVC(kernel='linear', class_weight='balanced', C=1.0, random_state=42)\n",
    "svm.fit(X_train, y_train)\n",
    "\n",
    "print(classification_report(y_test, svm.predict(X_test)))"
   ]
  },
  {
   "cell_type": "code",
   "execution_count": 38,
   "id": "0d816d5a",
   "metadata": {},
   "outputs": [
    {
     "name": "stdout",
     "output_type": "stream",
     "text": [
      "{'C': 1, 'class_weight': 'balanced', 'gamma': 'scale', 'kernel': 'rbf'}\n"
     ]
    }
   ],
   "source": [
    "# Grid searching for parameters\n",
    "\n",
    "param_grid = {\n",
    "    'kernel': ['linear', 'rbf'],\n",
    "    'C': [0.01, 0.1, 1, 10],\n",
    "    'class_weight': [None, 'balanced'],\n",
    "    'gamma': ['scale', 'auto']}\n",
    "\n",
    "svm = SVC()\n",
    "grid = GridSearchCV(svm, param_grid, cv=5, scoring='f1_macro', n_jobs=-1)\n",
    "grid.fit(X_train, y_train)\n",
    "\n",
    "print(grid.best_params_)"
   ]
  },
  {
   "cell_type": "code",
   "execution_count": 39,
   "id": "65466360",
   "metadata": {},
   "outputs": [
    {
     "name": "stdout",
     "output_type": "stream",
     "text": [
      "              precision    recall  f1-score   support\n",
      "\n",
      "           0       0.36      0.26      0.30       497\n",
      "           1       0.74      0.82      0.78      1271\n",
      "\n",
      "    accuracy                           0.66      1768\n",
      "   macro avg       0.55      0.54      0.54      1768\n",
      "weighted avg       0.63      0.66      0.64      1768\n",
      "\n"
     ]
    }
   ],
   "source": [
    "print(classification_report(y_test, grid.predict(X_test)))"
   ]
  },
  {
   "cell_type": "markdown",
   "id": "9591adde",
   "metadata": {},
   "source": [
    "**Topic Modeling**"
   ]
  },
  {
   "cell_type": "code",
   "execution_count": null,
   "id": "3becdf09",
   "metadata": {},
   "outputs": [
    {
     "data": {
      "text/html": [
       "<div>\n",
       "<style scoped>\n",
       "    .dataframe tbody tr th:only-of-type {\n",
       "        vertical-align: middle;\n",
       "    }\n",
       "\n",
       "    .dataframe tbody tr th {\n",
       "        vertical-align: top;\n",
       "    }\n",
       "\n",
       "    .dataframe thead th {\n",
       "        text-align: right;\n",
       "    }\n",
       "</style>\n",
       "<table border=\"1\" class=\"dataframe\">\n",
       "  <thead>\n",
       "    <tr style=\"text-align: right;\">\n",
       "      <th></th>\n",
       "      <th>label</th>\n",
       "      <th>statement</th>\n",
       "      <th>subject</th>\n",
       "      <th>speaker</th>\n",
       "      <th>job_title</th>\n",
       "      <th>state_info</th>\n",
       "      <th>party_affiliation</th>\n",
       "      <th>barely_true_counts</th>\n",
       "      <th>false_counts</th>\n",
       "      <th>half_true_counts</th>\n",
       "      <th>mostly_true_counts</th>\n",
       "      <th>pants_on_fire_counts</th>\n",
       "      <th>context</th>\n",
       "      <th>ft</th>\n",
       "      <th>m_label</th>\n",
       "    </tr>\n",
       "  </thead>\n",
       "  <tbody>\n",
       "    <tr>\n",
       "      <th>0</th>\n",
       "      <td>false</td>\n",
       "      <td>Says the Annies List political group supports ...</td>\n",
       "      <td>abortion</td>\n",
       "      <td>dwayne-bohac</td>\n",
       "      <td>State representative</td>\n",
       "      <td>Texas</td>\n",
       "      <td>republican</td>\n",
       "      <td>0</td>\n",
       "      <td>1</td>\n",
       "      <td>0</td>\n",
       "      <td>0</td>\n",
       "      <td>0</td>\n",
       "      <td>a mailer</td>\n",
       "      <td>0</td>\n",
       "      <td>2</td>\n",
       "    </tr>\n",
       "    <tr>\n",
       "      <th>1</th>\n",
       "      <td>half-true</td>\n",
       "      <td>When did the decline of coal start? It started...</td>\n",
       "      <td>energy,history,job-accomplishments</td>\n",
       "      <td>scott-surovell</td>\n",
       "      <td>State delegate</td>\n",
       "      <td>Virginia</td>\n",
       "      <td>democrat</td>\n",
       "      <td>0</td>\n",
       "      <td>0</td>\n",
       "      <td>1</td>\n",
       "      <td>1</td>\n",
       "      <td>0</td>\n",
       "      <td>a floor speech.</td>\n",
       "      <td>1</td>\n",
       "      <td>4</td>\n",
       "    </tr>\n",
       "    <tr>\n",
       "      <th>2</th>\n",
       "      <td>mostly-true</td>\n",
       "      <td>Hillary Clinton agrees with John McCain \"by vo...</td>\n",
       "      <td>foreign-policy</td>\n",
       "      <td>barack-obama</td>\n",
       "      <td>President</td>\n",
       "      <td>Illinois</td>\n",
       "      <td>democrat</td>\n",
       "      <td>70</td>\n",
       "      <td>71</td>\n",
       "      <td>160</td>\n",
       "      <td>163</td>\n",
       "      <td>9</td>\n",
       "      <td>Denver</td>\n",
       "      <td>1</td>\n",
       "      <td>5</td>\n",
       "    </tr>\n",
       "    <tr>\n",
       "      <th>3</th>\n",
       "      <td>false</td>\n",
       "      <td>Health care reform legislation is likely to ma...</td>\n",
       "      <td>health-care</td>\n",
       "      <td>blog-posting</td>\n",
       "      <td>Unknown</td>\n",
       "      <td>Unknown</td>\n",
       "      <td>no affiliation</td>\n",
       "      <td>7</td>\n",
       "      <td>19</td>\n",
       "      <td>3</td>\n",
       "      <td>5</td>\n",
       "      <td>44</td>\n",
       "      <td>a news release</td>\n",
       "      <td>0</td>\n",
       "      <td>2</td>\n",
       "    </tr>\n",
       "    <tr>\n",
       "      <th>4</th>\n",
       "      <td>half-true</td>\n",
       "      <td>The economic turnaround started at the end of ...</td>\n",
       "      <td>economy,jobs</td>\n",
       "      <td>charlie-crist</td>\n",
       "      <td>Unknown</td>\n",
       "      <td>Florida</td>\n",
       "      <td>democrat</td>\n",
       "      <td>15</td>\n",
       "      <td>9</td>\n",
       "      <td>20</td>\n",
       "      <td>19</td>\n",
       "      <td>2</td>\n",
       "      <td>an interview on CNN</td>\n",
       "      <td>1</td>\n",
       "      <td>4</td>\n",
       "    </tr>\n",
       "  </tbody>\n",
       "</table>\n",
       "</div>"
      ],
      "text/plain": [
       "         label                                          statement  \\\n",
       "0        false  Says the Annies List political group supports ...   \n",
       "1    half-true  When did the decline of coal start? It started...   \n",
       "2  mostly-true  Hillary Clinton agrees with John McCain \"by vo...   \n",
       "3        false  Health care reform legislation is likely to ma...   \n",
       "4    half-true  The economic turnaround started at the end of ...   \n",
       "\n",
       "                              subject         speaker             job_title  \\\n",
       "0                            abortion    dwayne-bohac  State representative   \n",
       "1  energy,history,job-accomplishments  scott-surovell        State delegate   \n",
       "2                      foreign-policy    barack-obama             President   \n",
       "3                         health-care    blog-posting               Unknown   \n",
       "4                        economy,jobs   charlie-crist               Unknown   \n",
       "\n",
       "  state_info party_affiliation  barely_true_counts  false_counts  \\\n",
       "0      Texas        republican                   0             1   \n",
       "1   Virginia          democrat                   0             0   \n",
       "2   Illinois          democrat                  70            71   \n",
       "3    Unknown    no affiliation                   7            19   \n",
       "4    Florida          democrat                  15             9   \n",
       "\n",
       "   half_true_counts  mostly_true_counts  pants_on_fire_counts  \\\n",
       "0                 0                   0                     0   \n",
       "1                 1                   1                     0   \n",
       "2               160                 163                     9   \n",
       "3                 3                   5                    44   \n",
       "4                20                  19                     2   \n",
       "\n",
       "               context  ft  m_label  \n",
       "0             a mailer   0        2  \n",
       "1      a floor speech.   1        4  \n",
       "2               Denver   1        5  \n",
       "3       a news release   0        2  \n",
       "4  an interview on CNN   1        4  "
      ]
     },
     "execution_count": 50,
     "metadata": {},
     "output_type": "execute_result"
    }
   ],
   "source": [
    "dft=df2.copy()\n",
    "dft['tokens']=dft['processed_text'].apply(lambda x: x.split())"
   ]
  },
  {
   "cell_type": "code",
   "execution_count": 57,
   "id": "e6607d34",
   "metadata": {},
   "outputs": [],
   "source": [
    "import gensim\n",
    "from gensim.utils import simple_preprocess\n",
    "from gensim.parsing.preprocessing import STOPWORDS\n",
    "from nltk.stem import WordNetLemmatizer, SnowballStemmer\n",
    "from nltk.stem.porter import *\n",
    "import numpy as np\n",
    "from nltk.stem import PorterStemmer\n",
    "\n"
   ]
  },
  {
   "cell_type": "code",
   "execution_count": 62,
   "id": "d68439fe",
   "metadata": {},
   "outputs": [],
   "source": [
    "import spacy\n",
    "nlp=spacy.load('en_core_web_sm')"
   ]
  },
  {
   "cell_type": "code",
   "execution_count": 65,
   "id": "15c268ae",
   "metadata": {},
   "outputs": [
    {
     "data": {
      "text/html": [
       "<div>\n",
       "<style scoped>\n",
       "    .dataframe tbody tr th:only-of-type {\n",
       "        vertical-align: middle;\n",
       "    }\n",
       "\n",
       "    .dataframe tbody tr th {\n",
       "        vertical-align: top;\n",
       "    }\n",
       "\n",
       "    .dataframe thead th {\n",
       "        text-align: right;\n",
       "    }\n",
       "</style>\n",
       "<table border=\"1\" class=\"dataframe\">\n",
       "  <thead>\n",
       "    <tr style=\"text-align: right;\">\n",
       "      <th></th>\n",
       "      <th>label</th>\n",
       "      <th>statement</th>\n",
       "      <th>subject</th>\n",
       "      <th>speaker</th>\n",
       "      <th>job_title</th>\n",
       "      <th>state_info</th>\n",
       "      <th>party_affiliation</th>\n",
       "      <th>barely_true_counts</th>\n",
       "      <th>false_counts</th>\n",
       "      <th>half_true_counts</th>\n",
       "      <th>mostly_true_counts</th>\n",
       "      <th>pants_on_fire_counts</th>\n",
       "      <th>context</th>\n",
       "      <th>ft</th>\n",
       "      <th>m_label</th>\n",
       "      <th>processed_text</th>\n",
       "    </tr>\n",
       "  </thead>\n",
       "  <tbody>\n",
       "    <tr>\n",
       "      <th>0</th>\n",
       "      <td>false</td>\n",
       "      <td>Says the Annies List political group supports ...</td>\n",
       "      <td>abortion</td>\n",
       "      <td>dwayne-bohac</td>\n",
       "      <td>State representative</td>\n",
       "      <td>Texas</td>\n",
       "      <td>republican</td>\n",
       "      <td>0</td>\n",
       "      <td>1</td>\n",
       "      <td>0</td>\n",
       "      <td>0</td>\n",
       "      <td>0</td>\n",
       "      <td>a mailer</td>\n",
       "      <td>0</td>\n",
       "      <td>2</td>\n",
       "      <td>[say, anni, list, polit, group, support, third...</td>\n",
       "    </tr>\n",
       "    <tr>\n",
       "      <th>1</th>\n",
       "      <td>half-true</td>\n",
       "      <td>When did the decline of coal start? It started...</td>\n",
       "      <td>energy,history,job-accomplishments</td>\n",
       "      <td>scott-surovell</td>\n",
       "      <td>State delegate</td>\n",
       "      <td>Virginia</td>\n",
       "      <td>democrat</td>\n",
       "      <td>0</td>\n",
       "      <td>0</td>\n",
       "      <td>1</td>\n",
       "      <td>1</td>\n",
       "      <td>0</td>\n",
       "      <td>a floor speech.</td>\n",
       "      <td>1</td>\n",
       "      <td>4</td>\n",
       "      <td>[declin, coal, start, start, natur, ga, took, ...</td>\n",
       "    </tr>\n",
       "    <tr>\n",
       "      <th>2</th>\n",
       "      <td>mostly-true</td>\n",
       "      <td>Hillary Clinton agrees with John McCain \"by vo...</td>\n",
       "      <td>foreign-policy</td>\n",
       "      <td>barack-obama</td>\n",
       "      <td>President</td>\n",
       "      <td>Illinois</td>\n",
       "      <td>democrat</td>\n",
       "      <td>70</td>\n",
       "      <td>71</td>\n",
       "      <td>160</td>\n",
       "      <td>163</td>\n",
       "      <td>9</td>\n",
       "      <td>Denver</td>\n",
       "      <td>1</td>\n",
       "      <td>5</td>\n",
       "      <td>[hillari, clinton, agre, john, mccain, vote, g...</td>\n",
       "    </tr>\n",
       "    <tr>\n",
       "      <th>3</th>\n",
       "      <td>false</td>\n",
       "      <td>Health care reform legislation is likely to ma...</td>\n",
       "      <td>health-care</td>\n",
       "      <td>blog-posting</td>\n",
       "      <td>Unknown</td>\n",
       "      <td>Unknown</td>\n",
       "      <td>no affiliation</td>\n",
       "      <td>7</td>\n",
       "      <td>19</td>\n",
       "      <td>3</td>\n",
       "      <td>5</td>\n",
       "      <td>44</td>\n",
       "      <td>a news release</td>\n",
       "      <td>0</td>\n",
       "      <td>2</td>\n",
       "      <td>[health, care, reform, legisl, like, mandat, f...</td>\n",
       "    </tr>\n",
       "    <tr>\n",
       "      <th>4</th>\n",
       "      <td>half-true</td>\n",
       "      <td>The economic turnaround started at the end of ...</td>\n",
       "      <td>economy,jobs</td>\n",
       "      <td>charlie-crist</td>\n",
       "      <td>Unknown</td>\n",
       "      <td>Florida</td>\n",
       "      <td>democrat</td>\n",
       "      <td>15</td>\n",
       "      <td>9</td>\n",
       "      <td>20</td>\n",
       "      <td>19</td>\n",
       "      <td>2</td>\n",
       "      <td>an interview on CNN</td>\n",
       "      <td>1</td>\n",
       "      <td>4</td>\n",
       "      <td>[econom, turnaround, start, end, term]</td>\n",
       "    </tr>\n",
       "  </tbody>\n",
       "</table>\n",
       "</div>"
      ],
      "text/plain": [
       "         label                                          statement  \\\n",
       "0        false  Says the Annies List political group supports ...   \n",
       "1    half-true  When did the decline of coal start? It started...   \n",
       "2  mostly-true  Hillary Clinton agrees with John McCain \"by vo...   \n",
       "3        false  Health care reform legislation is likely to ma...   \n",
       "4    half-true  The economic turnaround started at the end of ...   \n",
       "\n",
       "                              subject         speaker             job_title  \\\n",
       "0                            abortion    dwayne-bohac  State representative   \n",
       "1  energy,history,job-accomplishments  scott-surovell        State delegate   \n",
       "2                      foreign-policy    barack-obama             President   \n",
       "3                         health-care    blog-posting               Unknown   \n",
       "4                        economy,jobs   charlie-crist               Unknown   \n",
       "\n",
       "  state_info party_affiliation  barely_true_counts  false_counts  \\\n",
       "0      Texas        republican                   0             1   \n",
       "1   Virginia          democrat                   0             0   \n",
       "2   Illinois          democrat                  70            71   \n",
       "3    Unknown    no affiliation                   7            19   \n",
       "4    Florida          democrat                  15             9   \n",
       "\n",
       "   half_true_counts  mostly_true_counts  pants_on_fire_counts  \\\n",
       "0                 0                   0                     0   \n",
       "1                 1                   1                     0   \n",
       "2               160                 163                     9   \n",
       "3                 3                   5                    44   \n",
       "4                20                  19                     2   \n",
       "\n",
       "               context  ft  m_label  \\\n",
       "0             a mailer   0        2   \n",
       "1      a floor speech.   1        4   \n",
       "2               Denver   1        5   \n",
       "3       a news release   0        2   \n",
       "4  an interview on CNN   1        4   \n",
       "\n",
       "                                      processed_text  \n",
       "0  [say, anni, list, polit, group, support, third...  \n",
       "1  [declin, coal, start, start, natur, ga, took, ...  \n",
       "2  [hillari, clinton, agre, john, mccain, vote, g...  \n",
       "3  [health, care, reform, legisl, like, mandat, f...  \n",
       "4             [econom, turnaround, start, end, term]  "
      ]
     },
     "execution_count": 65,
     "metadata": {},
     "output_type": "execute_result"
    }
   ],
   "source": [
    "stemmer = PorterStemmer()\n",
    "\n",
    "\n",
    "def preprocess_text2(text):\n",
    "    # Tokenization\n",
    "    tokens = word_tokenize(text)\n",
    "    # Lowercase\n",
    "    tokens = [token.lower() for token in tokens]\n",
    "    # Remove punctuation\n",
    "    tokens = [token for token in tokens if token not in string.punctuation]\n",
    "    tokens = [token for token in tokens if token not in custom_punctuations]\n",
    "    # Remove stop words\n",
    "    tokens = [token for token in tokens if token not in stop_words]\n",
    "    # Lemmatization\n",
    "    doc = nlp(\" \".join(tokens))\n",
    "    tokens = [token.lemma_ for token in doc]\n",
    "    # Stemming\n",
    "    tokens = [stemmer.stem(token) for token in tokens]\n",
    "\n",
    "    return tokens\n",
    "\n",
    "dft['processed_text'] = dft['statement'].apply(preprocess_text2)\n",
    "dft.head()"
   ]
  },
  {
   "cell_type": "code",
   "execution_count": 66,
   "id": "a5c53932",
   "metadata": {},
   "outputs": [],
   "source": [
    "from gensim.corpora import Dictionary\n",
    "\n",
    "# Create dictionary mapping words to IDs\n",
    "dictionary = Dictionary(dft['processed_text'])\n",
    "\n",
    "# Create Bag-of-Words corpus\n",
    "corpus = [dictionary.doc2bow(text) for text in dft['processed_text']]\n"
   ]
  },
  {
   "cell_type": "code",
   "execution_count": 67,
   "id": "67aa1ed2",
   "metadata": {},
   "outputs": [],
   "source": [
    "from gensim.models import LdaModel\n",
    "\n",
    "# Set number of topics\n",
    "num_topics = 6\n",
    "\n",
    "# Train model\n",
    "lda_model = LdaModel(corpus=corpus,\n",
    "                     id2word=dictionary,\n",
    "                     num_topics=num_topics,\n",
    "                     passes=10,\n",
    "                     random_state=42)"
   ]
  },
  {
   "cell_type": "code",
   "execution_count": 68,
   "id": "99158bfe",
   "metadata": {},
   "outputs": [
    {
     "name": "stdout",
     "output_type": "stream",
     "text": [
      "Topic 0: 0.043*\"say\" + 0.018*\"-\" + 0.011*\"immigr\" + 0.011*\"gov\" + 0.010*\"illeg\" + 0.010*\"scott\" + 0.010*\"would\" + 0.010*\"vote\" + 0.009*\"trump\" + 0.009*\"support\"\n",
      "Topic 1: 0.034*\".\" + 0.024*\"say\" + 0.023*\"vote\" + 0.019*\"u.\" + 0.017*\"not\" + 0.016*\"democrat\" + 0.014*\"republican\" + 0.012*\"senat\" + 0.011*\"do\" + 0.009*\"bill\"\n",
      "Topic 2: 0.061*\"obama\" + 0.044*\"presid\" + 0.035*\"say\" + 0.027*\"barack\" + 0.018*\"clinton\" + 0.012*\"hillari\" + 0.010*\"-\" + 0.009*\"american\" + 0.009*\"bush\" + 0.008*\"re\"\n",
      "Topic 3: 0.029*\"percent\" + 0.028*\"year\" + 0.023*\"state\" + 0.019*\"-\" + 0.017*\"job\" + 0.013*\"million\" + 0.012*\"tax\" + 0.011*\"rate\" + 0.010*\"spend\" + 0.009*\"billion\"\n",
      "Topic 4: 0.021*\"say\" + 0.013*\"s\" + 0.013*\"gun\" + 0.009*\"not\" + 0.009*\"peopl\" + 0.009*\"court\" + 0.008*\"go\" + 0.007*\"one\" + 0.007*\"militari\" + 0.007*\"use\"\n",
      "Topic 5: 0.035*\"health\" + 0.030*\"care\" + 0.028*\"say\" + 0.023*\"-\" + 0.013*\"law\" + 0.012*\"insur\" + 0.012*\"plan\" + 0.011*\"bill\" + 0.009*\"romney\" + 0.008*\"not\"\n"
     ]
    }
   ],
   "source": [
    "for idx, topic in lda_model.print_topics(num_topics=num_topics, num_words=10):\n",
    "    print(f\"Topic {idx}: {topic}\")"
   ]
  },
  {
   "cell_type": "code",
   "execution_count": 69,
   "id": "acbaf731",
   "metadata": {},
   "outputs": [],
   "source": [
    "dft['topic_distribution'] = [lda_model.get_document_topics(bow) for bow in corpus]"
   ]
  },
  {
   "cell_type": "code",
   "execution_count": 77,
   "id": "aeacd586",
   "metadata": {},
   "outputs": [
    {
     "data": {
      "text/html": [
       "\n",
       "<link rel=\"stylesheet\" type=\"text/css\" href=\"https://cdn.jsdelivr.net/gh/bmabey/pyLDAvis@3.4.0/pyLDAvis/js/ldavis.v1.0.0.css\">\n",
       "\n",
       "\n",
       "<div id=\"ldavis_el2859622091365722568125677935\" style=\"background-color:white;\"></div>\n",
       "<script type=\"text/javascript\">\n",
       "\n",
       "var ldavis_el2859622091365722568125677935_data = {\"mdsDat\": {\"x\": [0.22009556986747864, 0.11005531915589725, -0.05706085161744523, 0.07173371869363808, -0.19208090960823504, -0.15274284649133335], \"y\": [-0.15969487418446665, 0.030866554240916874, 0.1968523238018804, 0.11618255356404121, -0.16557059615359432, -0.01863596126877742], \"topics\": [1, 2, 3, 4, 5, 6], \"cluster\": [1, 1, 1, 1, 1, 1], \"Freq\": [30.99457760899023, 15.583796330926546, 15.220547312937551, 15.114185126768312, 11.744950048524036, 11.341943571853317]}, \"tinfo\": {\"Term\": [\"obama\", \"presid\", \"health\", \"percent\", \".\", \"care\", \"year\", \"barack\", \"say\", \"vote\", \"job\", \"u.\", \"not\", \"clinton\", \"democrat\", \"rate\", \"plan\", \"insur\", \"republican\", \"immigr\", \"-\", \"s\", \"gun\", \"high\", \"illeg\", \"hillari\", \"gov\", \"senat\", \"law\", \"scott\", \"rate\", \"high\", \"debt\", \"1\", \"averag\", \"lose\", \"unemploy\", \"incom\", \"per\", \"low\", \"trillion\", \"50\", \"nearli\", \"40\", \"deficit\", \"less\", \"10\", \"jersey\", \"growth\", \"add\", \"grow\", \"decad\", \"popul\", \"island\", \"20\", \"sector\", \"rank\", \"2010\", \"rhode\", \"25\", \"percent\", \"month\", \"job\", \"year\", \"last\", \"sinc\", \"employe\", \"increas\", \"creat\", \"million\", \"billion\", \"spend\", \"state\", \"cost\", \"everi\", \"new\", \"tax\", \"-\", \"nation\", \"school\", \"budget\", \"taxi\", \"countri\", \"pay\", \"time\", \"texa\", \"feder\", \"say\", \"peopl\", \"ago\", \"small\", \"austin\", \"have\", \"presidenti\", \"primari\", \"repres\", \"fee\", \"percentag\", \"repeal\", \"ir\", \"rep\", \"pelosi\", \"nelson\", \"95\", \"mike\", \"nanci\", \"implement\", \"gdp\", \"uninsur\", \"block\", \"sever\", \"super\", \"foundat\", \"speak\", \"process\", \"session\", \"houston\", \"outsid\", \"inform\", \"u.\", \".\", \"parti\", \"democrat\", \"congress\", \"sen\", \"m\", \"candid\", \"senat\", \"member\", \"republican\", \"vote\", \"run\", \"elect\", \"voter\", \"i\", \"do\", \"not\", \"hous\", \"citi\", \"busi\", \"bill\", \"say\", \"time\", \"campaign\", \"district\", \"one\", \"never\", \"year\", \"tax\", \"health\", \"care\", \"insur\", \"mitt\", \"mccain\", \"perri\", \"street\", \"afford\", \"massachusett\", \"wall\", \"rape\", \"climat\", \"premium\", \"coverag\", \"romney\", \"tom\", \"joe\", \"johnson\", \"ron\", \"doctor\", \"lie\", \"word\", \"ad\", \"import\", \"push\", \"condit\", \"oversea\", \"benghazi\", \"news\", \"al\", \"question\", \"regul\", \"social\", \"law\", \"reform\", \"compani\", \"abort\", \"part\", \"'s\", \"plan\", \"secur\", \"oppos\", \"bill\", \"-\", \"john\", \"say\", \"chang\", \"act\", \"would\", \"obamacar\", \"govern\", \"not\", \"go\", \"new\", \"give\", \"american\", \"support\", \"immigr\", \"illeg\", \"trump\", \"donald\", \"walker\", \"gov\", \"paul\", \"rubio\", \"chri\", \"crist\", \"ryan\", \"marco\", \"tuition\", \"charli\", \"christi\", \"cap\", \"welfar\", \"recess\", \"hard\", \"in\", \"sander\", \"ballot\", \"grant\", \"capita\", \"recoveri\", \"berni\", \"someon\", \"announc\", \"admit\", \"kasich\", \"senior\", \"scott\", \"sponsor\", \"elimin\", \"propos\", \"medicar\", \"say\", \"support\", \"sex\", \"back\", \"plan\", \"make\", \"would\", \"cut\", \"educ\", \"wisconsin\", \"-\", \"vote\", \"give\", \"pay\", \"state\", \"program\", \"rick\", \"florida\", \"get\", \"fund\", \"budget\", \"use\", \"peopl\", \"million\", \"barack\", \"re\", \"ga\", \"georg\", \"you\", \"weapon\", \"african\", \"shoot\", \"drill\", \"reserv\", \"parent\", \"russia\", \"w.\", \"clinton\", \"assault\", \"pipelin\", \"conserv\", \"flag\", \"follow\", \"prosecut\", \"natur\", \"sexual\", \"safe\", \"girl\", \"protest\", \"mass\", \"hillari\", \"keyston\", \"obama\", \"grade\", \"presid\", \"second\", \"ronald\", \"oil\", \"muslim\", \"bush\", \"reagan\", \"they\", \"white\", \"talk\", \"war\", \"say\", \"american\", \"polici\", \"administr\", \"-\", \"want\", \"state\", \"unit\", \"get\", \"ve\", \"use\", \"school\", \"gun\", \"court\", \"militari\", \"suprem\", \"iran\", \"there\", \"food\", \"veteran\", \"medic\", \"troop\", \"justic\", \"check\", \"background\", \"agreement\", \"stamp\", \"common\", \"violenc\", \"arm\", \"decis\", \"marijuana\", \"refuge\", \"tim\", \"judg\", \"sherrod\", \"kain\", \"jail\", \"trust\", \"treatment\", \"core\", \"d.c\", \"abl\", \"s\", \"nuclear\", \"that\", \"case\", \"use\", \"say\", \"not\", \"peopl\", \"go\", \"buy\", \"tri\", \"one\", \"like\", \"control\", \"can\", \"american\", \"take\", \"even\", \"law\", \"do\", \"child\", \"deal\", \"state\", \".\"], \"Freq\": [988.0, 722.0, 709.0, 1251.0, 785.0, 605.0, 1296.0, 420.0, 3139.0, 706.0, 752.0, 428.0, 673.0, 285.0, 362.0, 440.0, 437.0, 245.0, 408.0, 232.0, 1864.0, 270.0, 191.0, 350.0, 213.0, 199.0, 215.0, 308.0, 409.0, 221.0, 439.2528433449041, 349.54624516380915, 237.0575742461774, 229.30178458914656, 212.72471859305023, 203.81684089446236, 195.5218224597803, 192.13955610391545, 187.3162856530512, 184.17217303587293, 161.5300059554842, 139.36888236431756, 167.0649056806292, 119.65241076690091, 138.48494924671024, 167.12954740970127, 214.00568414887863, 96.84243422177693, 96.27992166342379, 94.28893127814506, 85.1436923979555, 82.76575051396256, 80.6187182035935, 79.58831667056181, 140.01923344447198, 77.74933293497156, 75.70714529507339, 74.14107665860747, 73.4822974104281, 81.23587370681939, 1211.0995224205017, 165.96300003400972, 723.5220379451051, 1159.829043258684, 300.88797616188873, 338.7810389327143, 126.17479795852856, 302.62298027407024, 241.2409611696063, 536.5518677702344, 381.89007452464915, 411.7946838073699, 948.0277889841836, 257.6198685638133, 299.8145832396656, 363.7890758995465, 477.99608789991595, 800.1077182708111, 302.65897396412174, 257.59991932206617, 279.4725811303148, 249.58482818364394, 253.78340900631042, 274.3126478943072, 268.54434010765476, 245.7618614272452, 246.94143766818635, 329.8234814363647, 240.9290609607014, 112.83446337722249, 96.88364229346963, 88.85146141834545, 60.48248712030682, 56.35930962030275, 54.340570760166486, 50.604118679570234, 40.75840460060888, 37.47378741766504, 37.186359055203894, 35.362768823061955, 120.0401455657539, 30.708510249727425, 30.738963193854886, 30.645172110848428, 30.604958576554207, 29.47163426802775, 29.530824702795556, 28.789068446537847, 28.83595183893706, 27.602985438909855, 26.897987511764107, 26.647395232680633, 26.73591360454398, 26.80974613947233, 25.696436264902456, 25.212316338236917, 25.00243813653314, 24.885087511018117, 24.288437723311255, 405.86875288714884, 718.7653306942427, 112.99999248962487, 326.8317361838474, 178.59946839740053, 120.1637068132421, 46.33047209650249, 150.72959873092123, 253.22185059534493, 105.75030138670454, 298.5321964450832, 477.5947303718889, 123.78965064370536, 157.55883364204269, 96.93281214724473, 86.4521786029249, 221.15087907570052, 360.0209112371595, 139.33340870792696, 124.31630944317385, 110.7209080497008, 179.84497510259345, 492.70086799015723, 170.13274808910165, 93.13093957134107, 72.5136330559716, 110.40190173608028, 82.46899279868079, 135.51919264234266, 97.05119301678035, 709.0283664674106, 604.8056058570373, 244.49419189663206, 145.07712711727277, 142.31040377935705, 79.03864094642513, 68.96929613649073, 67.5561415265637, 61.93448363392301, 58.6682052478945, 52.11559033205291, 49.05058635334289, 47.93484379918591, 65.12064335760336, 193.5929071603429, 43.737703317281564, 39.66037061233173, 39.06610182564324, 37.92204719678799, 36.52496378299314, 35.151111458822875, 34.550579841863744, 33.04576340686163, 32.60670316982456, 31.981808454889535, 31.74108462446045, 30.567780513571996, 29.563124288379925, 28.982788459826683, 28.415134921901064, 38.29660194326566, 56.620489948158514, 129.00832315370303, 258.6811185973405, 92.39128461177079, 135.54118369320025, 110.91593441642684, 65.47292340725639, 147.4024194082081, 243.19989579040902, 140.41914769678013, 81.36364370901906, 218.5222276447391, 461.8295242107177, 94.65299458038291, 566.0433996234656, 94.70546091294194, 87.8827682645805, 161.8160040829553, 112.42695909848769, 138.22074476124857, 166.39822200531987, 114.59274500512964, 106.72435192940458, 84.53889628305035, 94.4655036206627, 81.16735298626605, 231.90581647988878, 212.37477505432742, 189.9406673946482, 159.9257195663664, 133.9704662695558, 213.66260936687914, 70.38984494312197, 64.21651661914666, 60.338002144800356, 55.734503502847886, 55.43256187803087, 55.42649599177609, 53.856671022951595, 51.45182284503672, 51.10433287152808, 43.298706134822275, 39.610600159937164, 36.27099513960316, 35.77098842463273, 34.342795065719585, 34.14633246299945, 33.06250422710007, 32.81250204791444, 31.860141409720963, 30.764157835320372, 30.55031060054839, 30.593931251121752, 29.062528275109145, 28.70072196166354, 28.481018577962605, 69.90547897682012, 209.57900006706552, 39.790116458050434, 62.55608512556556, 146.67887974236953, 141.9272971219876, 877.06233653665, 185.1729844887602, 45.64613813064263, 87.48121236828477, 184.79817210451424, 158.3096958274803, 205.1329646682255, 168.37450463441644, 98.45552705757014, 131.02830876846272, 367.0584188761769, 193.83448562398226, 108.90513080282186, 121.01636319403129, 175.49812685911613, 87.58904091975073, 78.80132504636506, 94.52980990191728, 112.3130654159908, 99.20532150120205, 101.02492712889051, 84.58146422579344, 93.39999027668294, 86.22491877897852, 419.50714414179305, 126.38699686752409, 105.7538393859165, 100.24482536633334, 85.08160994777732, 62.93430793696527, 59.52497207638249, 45.80332433189124, 44.48114074998093, 39.72098392202472, 37.74961179800887, 36.77883409736783, 36.43699842817365, 279.86189117622416, 32.195944113818186, 31.146429168940518, 30.745073592960164, 30.01039591761669, 28.08137189046966, 26.01839236330718, 24.91295412406497, 24.913186695234803, 24.808678001604243, 23.955973204475153, 23.54391569214447, 23.436705876659573, 192.85547095139256, 23.364002663955183, 956.1158280888078, 22.853204955513366, 688.6041033122367, 89.47870669820597, 48.652870543036244, 122.130124051082, 52.121425982280385, 135.48116688954408, 60.2292744919308, 70.81808969027054, 74.85595737803214, 41.505705779002405, 81.03828507823543, 550.8851695894224, 137.50455804230182, 60.911576041066915, 75.44898822333427, 153.58969290314386, 75.0231595677191, 122.24073270193074, 70.92245737618397, 77.77730032369992, 65.871582923401, 64.19949510084552, 66.25494811219694, 190.887536577648, 129.79006441417354, 103.10756721696896, 83.60177192599433, 82.47757237175588, 86.80228089441479, 76.26903061798652, 65.71092325565918, 57.8963760754952, 55.17435893690202, 47.14068176044291, 69.43577243246546, 45.69195010164555, 42.71172414744895, 38.787682281293044, 38.502405839283036, 40.67205311585493, 37.866038974840464, 37.39205664764855, 37.16227715140436, 37.18853483576899, 36.32388103203291, 35.22049592721334, 32.54595412499225, 31.566263793244374, 29.283781687006183, 27.223474817666283, 26.46443002878549, 26.05583548980628, 25.28023286830789, 38.23542559894574, 203.84113418225562, 54.0318490335316, 62.991314722003, 50.38737864644388, 102.72041492091277, 323.00494292290335, 142.99777868179706, 132.95858597723387, 126.7254983816689, 54.85704203655968, 58.806789836169536, 110.27503790603949, 70.68763865895953, 49.87692770617496, 48.39215539494285, 84.82539982382903, 77.46114505034588, 65.006202941859, 74.16876955529733, 70.8755735076124, 64.11145395543723, 54.907092210514946, 69.58946335600811, 59.92501562574044], \"Total\": [988.0, 722.0, 709.0, 1251.0, 785.0, 605.0, 1296.0, 420.0, 3139.0, 706.0, 752.0, 428.0, 673.0, 285.0, 362.0, 440.0, 437.0, 245.0, 408.0, 232.0, 1864.0, 270.0, 191.0, 350.0, 213.0, 199.0, 215.0, 308.0, 409.0, 221.0, 440.04202758052566, 350.33856081541774, 237.8482185993014, 230.11384973763634, 213.51418861639894, 204.60890536951624, 196.31052172429756, 192.93265231554216, 188.10503658923508, 184.9627630939042, 162.32094400429594, 140.1599193018332, 168.07157700083295, 120.51318360897106, 139.49202818162553, 168.37974313811347, 215.69487241543848, 97.63225261910613, 97.06916201736809, 95.07925745354231, 85.93225919597353, 83.5542754054777, 81.40898149847958, 80.37823006990699, 141.4170277321146, 78.53765632011769, 76.49712361320228, 74.93104691140057, 74.271944792014, 82.17930290977723, 1251.6100472132168, 168.8876443563013, 752.7769292030321, 1296.0232098015697, 332.810130167637, 378.849896570899, 132.28797798761184, 344.70276260691674, 268.86087047646856, 672.482641225443, 466.26188818610035, 513.6256683380682, 1443.4556834739087, 312.02408796532023, 384.7452990701174, 504.09915019959635, 727.1209435120408, 1864.6766657801231, 428.4113663042135, 339.65059378791636, 409.69698539096316, 356.0126625696647, 392.56859775042625, 484.01662592364704, 498.30619887431067, 416.49828330100064, 430.09416850803456, 3139.520198098963, 603.1484027369085, 113.62327182848396, 97.66917980675701, 89.63707946954023, 61.267058993254814, 57.14407508134805, 55.14092128521992, 51.389816093071204, 41.54641929271578, 38.26426788959079, 37.97501213781809, 36.15025038238814, 122.8244206733986, 31.493001765271753, 31.525129551711522, 31.432939038346504, 31.39393228262688, 30.25613940666777, 30.32493924318879, 29.576294318771275, 29.625357058812106, 28.391139708661118, 27.688024247138063, 27.43154154209086, 27.525473899208162, 27.60307497970474, 26.483384364148954, 25.997447565657914, 25.788335936994052, 25.672827053979713, 25.07891267059073, 428.9412799888378, 785.7126080830177, 119.04783266752526, 362.1160994713985, 195.79652685173258, 131.1149717567247, 48.84528848552131, 172.04070079418932, 308.7669457719049, 123.80718302095893, 408.9571744940374, 706.1020120107579, 156.9431573375956, 211.9823849212548, 126.6959558426724, 111.60230027592306, 363.0753903641946, 673.6213779461666, 236.76563073470209, 230.8746003247315, 194.6928509466028, 518.6797187688705, 3139.520198098963, 498.30619887431067, 181.3174853317317, 118.1367740024533, 542.1971064244005, 191.25868540967866, 1296.0232098015697, 727.1209435120408, 709.8166998157707, 605.5939395241915, 245.2825076013636, 145.86493811857346, 143.10245020647557, 79.82856466040757, 69.7591412771643, 68.35098711445514, 62.72286321875148, 59.45691084698883, 52.906843154468596, 49.839543912711726, 48.72465847646907, 66.22103773319401, 196.9120852119903, 44.52781376880882, 40.449909005303304, 39.85684527662507, 38.713509712448825, 37.314321212173404, 35.94402989356783, 35.34668942132179, 33.83734102905977, 33.3980996946842, 32.77330254484354, 32.53500594186837, 31.35816873649984, 30.354682817205987, 29.77126555215425, 29.20396587371758, 40.89887878216378, 64.56275612842947, 171.13384511889623, 409.73067829525206, 119.02992534543453, 190.38416201458443, 152.90578898697612, 79.98969279580258, 229.46847166807106, 437.6397910261732, 218.07500307785654, 112.48965648254226, 518.6797187688705, 1864.6766657801231, 161.57406835647072, 3139.520198098963, 169.31938206715103, 149.81211288459204, 564.4239939365576, 264.42761137700813, 420.0901349997148, 673.6213779461666, 550.5984305998315, 504.09915019959635, 248.19717667337122, 531.4024425379896, 403.0759297517601, 232.7348254304351, 213.16287029514092, 190.72823355307776, 160.71294050323058, 134.75701819289083, 215.143601997211, 71.1779845857312, 65.00904449266386, 61.12647247600718, 56.522074885268175, 56.219399689354574, 56.214457036904946, 54.64375120249632, 52.239100463675875, 51.891834319141935, 44.0866350638639, 40.39760418175061, 37.06462441415438, 36.559099985726164, 35.131464445131705, 34.934599148062766, 33.85307485954693, 33.601968444178226, 32.65877255706572, 31.554764806863943, 31.337970823383102, 31.386751945591108, 29.853922816257647, 29.492440712759322, 29.270753198283607, 71.97604563199508, 221.47464751672402, 41.516020920175876, 67.06599635787856, 196.21318942860404, 216.98961721169047, 3139.520198098963, 403.0759297517601, 53.95993024510827, 141.52677813666085, 437.6397910261732, 376.03496335104256, 564.4239939365576, 427.6692603897055, 186.6733842611493, 309.96843016763705, 1864.6766657801231, 706.1020120107579, 248.19717667337122, 484.01662592364704, 1443.4556834739087, 203.45028521633043, 152.65617903341294, 264.837478016962, 467.2600180677683, 345.258778682643, 409.69698539096316, 257.81644660569566, 603.1484027369085, 672.482641225443, 420.29953679014096, 127.17330191056047, 106.54089316070082, 101.03022765768436, 85.87246533205959, 63.72200605175427, 60.31149321902684, 46.58983831926336, 45.266410304474135, 40.5075633236954, 38.539025364781445, 37.56649226128044, 37.221167613571495, 285.92600305522933, 32.98259814194158, 31.931668103908216, 31.534196977710675, 30.79650337823949, 28.87001992046037, 26.808881747375963, 25.6987242190356, 25.703277794317284, 25.596319596273254, 24.74296690985173, 24.32948673228319, 24.22389335712334, 199.33422779396201, 24.14907638160852, 988.2845075394783, 23.64275188183346, 722.0547734702941, 101.0751442514258, 53.07765162532545, 146.7130744727935, 57.99731468575542, 186.23922696564927, 74.10333282110616, 100.6360331337839, 110.0060895761642, 50.30625378774122, 132.94373855813498, 3139.520198098963, 531.4024425379896, 116.32914366204152, 191.7207111240709, 1864.6766657801231, 289.9147783904774, 1443.4556834739087, 300.3319820587974, 467.2600180677683, 275.07512474247244, 257.81644660569566, 339.65059378791636, 191.67501342753872, 130.57780898141866, 103.89709518089944, 84.38860282376922, 83.26438446115723, 87.66415841790257, 77.05673115587345, 66.49941879229311, 58.727718069633745, 55.97349800315904, 47.92808695665313, 70.62356242620992, 46.478006938167944, 43.50305758109658, 39.57453451355908, 39.29017502448717, 41.50573135611157, 38.65702191248592, 38.18100253834334, 37.949374843394125, 37.97686339244571, 37.112801812683976, 36.01074142709023, 33.33437674793544, 32.35470996007385, 30.072544473386095, 28.014089100435875, 27.2552432280036, 26.84293045110137, 26.069312737047444, 39.5311043892888, 270.8678467880298, 70.5507766986264, 104.93908857209252, 74.19357646219632, 257.81644660569566, 3139.520198098963, 673.6213779461666, 603.1484027369085, 550.5984305998315, 93.48333128559051, 114.0421679365661, 542.1971064244005, 193.91409694096683, 81.57573191422232, 77.55785001025113, 531.4024425379896, 400.0586952385466, 235.61269223085333, 409.73067829525206, 363.0753903641946, 232.64128879136132, 122.56988303577182, 1443.4556834739087, 785.7126080830177], \"Category\": [\"Default\", \"Default\", \"Default\", \"Default\", \"Default\", \"Default\", \"Default\", \"Default\", \"Default\", \"Default\", \"Default\", \"Default\", \"Default\", \"Default\", \"Default\", \"Default\", \"Default\", \"Default\", \"Default\", \"Default\", \"Default\", \"Default\", \"Default\", \"Default\", \"Default\", \"Default\", \"Default\", \"Default\", \"Default\", \"Default\", \"Topic1\", \"Topic1\", \"Topic1\", \"Topic1\", \"Topic1\", \"Topic1\", \"Topic1\", \"Topic1\", \"Topic1\", \"Topic1\", \"Topic1\", \"Topic1\", \"Topic1\", \"Topic1\", \"Topic1\", \"Topic1\", \"Topic1\", \"Topic1\", \"Topic1\", \"Topic1\", \"Topic1\", \"Topic1\", \"Topic1\", \"Topic1\", \"Topic1\", \"Topic1\", \"Topic1\", \"Topic1\", \"Topic1\", \"Topic1\", \"Topic1\", \"Topic1\", \"Topic1\", \"Topic1\", \"Topic1\", \"Topic1\", \"Topic1\", \"Topic1\", \"Topic1\", \"Topic1\", \"Topic1\", \"Topic1\", \"Topic1\", \"Topic1\", \"Topic1\", \"Topic1\", \"Topic1\", \"Topic1\", \"Topic1\", \"Topic1\", \"Topic1\", \"Topic1\", \"Topic1\", \"Topic1\", \"Topic1\", \"Topic1\", \"Topic1\", \"Topic1\", \"Topic1\", \"Topic2\", \"Topic2\", \"Topic2\", \"Topic2\", \"Topic2\", \"Topic2\", \"Topic2\", \"Topic2\", \"Topic2\", \"Topic2\", \"Topic2\", \"Topic2\", \"Topic2\", \"Topic2\", \"Topic2\", \"Topic2\", \"Topic2\", \"Topic2\", \"Topic2\", \"Topic2\", \"Topic2\", \"Topic2\", \"Topic2\", \"Topic2\", \"Topic2\", \"Topic2\", \"Topic2\", \"Topic2\", \"Topic2\", \"Topic2\", \"Topic2\", \"Topic2\", \"Topic2\", \"Topic2\", \"Topic2\", \"Topic2\", \"Topic2\", \"Topic2\", \"Topic2\", \"Topic2\", \"Topic2\", \"Topic2\", \"Topic2\", \"Topic2\", \"Topic2\", \"Topic2\", \"Topic2\", \"Topic2\", \"Topic2\", \"Topic2\", \"Topic2\", \"Topic2\", \"Topic2\", \"Topic2\", \"Topic2\", \"Topic2\", \"Topic2\", \"Topic2\", \"Topic2\", \"Topic2\", \"Topic3\", \"Topic3\", \"Topic3\", \"Topic3\", \"Topic3\", \"Topic3\", \"Topic3\", \"Topic3\", \"Topic3\", \"Topic3\", \"Topic3\", \"Topic3\", \"Topic3\", \"Topic3\", \"Topic3\", \"Topic3\", \"Topic3\", \"Topic3\", \"Topic3\", \"Topic3\", \"Topic3\", \"Topic3\", \"Topic3\", \"Topic3\", \"Topic3\", \"Topic3\", \"Topic3\", \"Topic3\", \"Topic3\", \"Topic3\", \"Topic3\", \"Topic3\", \"Topic3\", \"Topic3\", \"Topic3\", \"Topic3\", \"Topic3\", \"Topic3\", \"Topic3\", \"Topic3\", \"Topic3\", \"Topic3\", \"Topic3\", \"Topic3\", \"Topic3\", \"Topic3\", \"Topic3\", \"Topic3\", \"Topic3\", \"Topic3\", \"Topic3\", \"Topic3\", \"Topic3\", \"Topic3\", \"Topic3\", \"Topic3\", \"Topic3\", \"Topic4\", \"Topic4\", \"Topic4\", \"Topic4\", \"Topic4\", \"Topic4\", \"Topic4\", \"Topic4\", \"Topic4\", \"Topic4\", \"Topic4\", \"Topic4\", \"Topic4\", \"Topic4\", \"Topic4\", \"Topic4\", \"Topic4\", \"Topic4\", \"Topic4\", \"Topic4\", \"Topic4\", \"Topic4\", \"Topic4\", \"Topic4\", \"Topic4\", \"Topic4\", \"Topic4\", \"Topic4\", \"Topic4\", \"Topic4\", \"Topic4\", \"Topic4\", \"Topic4\", \"Topic4\", \"Topic4\", \"Topic4\", \"Topic4\", \"Topic4\", \"Topic4\", \"Topic4\", \"Topic4\", \"Topic4\", \"Topic4\", \"Topic4\", \"Topic4\", \"Topic4\", \"Topic4\", \"Topic4\", \"Topic4\", \"Topic4\", \"Topic4\", \"Topic4\", \"Topic4\", \"Topic4\", \"Topic4\", \"Topic4\", \"Topic4\", \"Topic4\", \"Topic4\", \"Topic4\", \"Topic5\", \"Topic5\", \"Topic5\", \"Topic5\", \"Topic5\", \"Topic5\", \"Topic5\", \"Topic5\", \"Topic5\", \"Topic5\", \"Topic5\", \"Topic5\", \"Topic5\", \"Topic5\", \"Topic5\", \"Topic5\", \"Topic5\", \"Topic5\", \"Topic5\", \"Topic5\", \"Topic5\", \"Topic5\", \"Topic5\", \"Topic5\", \"Topic5\", \"Topic5\", \"Topic5\", \"Topic5\", \"Topic5\", \"Topic5\", \"Topic5\", \"Topic5\", \"Topic5\", \"Topic5\", \"Topic5\", \"Topic5\", \"Topic5\", \"Topic5\", \"Topic5\", \"Topic5\", \"Topic5\", \"Topic5\", \"Topic5\", \"Topic5\", \"Topic5\", \"Topic5\", \"Topic5\", \"Topic5\", \"Topic5\", \"Topic5\", \"Topic5\", \"Topic5\", \"Topic5\", \"Topic6\", \"Topic6\", \"Topic6\", \"Topic6\", \"Topic6\", \"Topic6\", \"Topic6\", \"Topic6\", \"Topic6\", \"Topic6\", \"Topic6\", \"Topic6\", \"Topic6\", \"Topic6\", \"Topic6\", \"Topic6\", \"Topic6\", \"Topic6\", \"Topic6\", \"Topic6\", \"Topic6\", \"Topic6\", \"Topic6\", \"Topic6\", \"Topic6\", \"Topic6\", \"Topic6\", \"Topic6\", \"Topic6\", \"Topic6\", \"Topic6\", \"Topic6\", \"Topic6\", \"Topic6\", \"Topic6\", \"Topic6\", \"Topic6\", \"Topic6\", \"Topic6\", \"Topic6\", \"Topic6\", \"Topic6\", \"Topic6\", \"Topic6\", \"Topic6\", \"Topic6\", \"Topic6\", \"Topic6\", \"Topic6\", \"Topic6\", \"Topic6\", \"Topic6\", \"Topic6\", \"Topic6\", \"Topic6\"], \"logprob\": [30.0, 29.0, 28.0, 27.0, 26.0, 25.0, 24.0, 23.0, 22.0, 21.0, 20.0, 19.0, 18.0, 17.0, 16.0, 15.0, 14.0, 13.0, 12.0, 11.0, 10.0, 9.0, 8.0, 7.0, 6.0, 5.0, 4.0, 3.0, 2.0, 1.0, -4.5487, -4.7771, -5.1654, -5.1987, -5.2737, -5.3165, -5.3581, -5.3755, -5.4009, -5.4179, -5.5491, -5.6966, -5.5154, -5.8492, -5.703, -5.515, -5.2677, -6.0607, -6.0665, -6.0874, -6.1894, -6.2177, -6.244, -6.2569, -5.692, -6.2803, -6.3069, -6.3278, -6.3367, -6.2364, -3.5345, -5.522, -4.0496, -3.5777, -4.927, -4.8084, -5.7961, -4.9213, -5.1479, -4.3486, -4.6886, -4.6132, -3.7794, -5.0823, -4.9306, -4.7372, -4.4641, -3.949, -4.9211, -5.0823, -5.0008, -5.1139, -5.0973, -5.0195, -5.0407, -5.1294, -5.1246, -4.8352, -5.1492, -5.2202, -5.3727, -5.4592, -5.8438, -5.9144, -5.9509, -6.0221, -6.2385, -6.3225, -6.3302, -6.3805, -5.1583, -6.5216, -6.5206, -6.5237, -6.525, -6.5627, -6.5607, -6.5862, -6.5845, -6.6282, -6.6541, -6.6635, -6.6602, -6.6574, -6.6998, -6.7188, -6.7272, -6.7319, -6.7562, -3.9401, -3.3686, -5.2188, -4.1567, -4.761, -5.1573, -6.1104, -4.9307, -4.4119, -5.2851, -4.2473, -3.7774, -5.1276, -4.8864, -5.3721, -5.4866, -4.5473, -4.06, -5.0093, -5.1233, -5.2392, -4.7541, -3.7463, -4.8096, -5.4122, -5.6624, -5.242, -5.5337, -5.0371, -5.3709, -3.3587, -3.5177, -4.4234, -4.9453, -4.9646, -5.5526, -5.6889, -5.7096, -5.7965, -5.8507, -5.9691, -6.0297, -6.0527, -5.7463, -4.6568, -6.1444, -6.2422, -6.2573, -6.287, -6.3246, -6.3629, -6.3802, -6.4247, -6.4381, -6.4574, -6.465, -6.5026, -6.5361, -6.5559, -6.5757, -6.2772, -5.8862, -5.0627, -4.367, -5.3965, -5.0133, -5.2138, -5.7409, -4.9294, -4.4287, -4.9779, -5.5237, -4.5357, -3.7874, -5.3724, -3.5839, -5.3718, -5.4466, -4.8361, -5.2003, -4.9937, -4.8082, -5.1812, -5.2523, -5.4854, -5.3743, -5.5261, -4.4692, -4.5572, -4.6689, -4.8409, -5.0179, -4.5512, -5.6615, -5.7533, -5.8156, -5.895, -5.9004, -5.9005, -5.9292, -5.9749, -5.9817, -6.1474, -6.2365, -6.3245, -6.3384, -6.3792, -6.3849, -6.4172, -6.4248, -6.4542, -6.4892, -6.4962, -6.4948, -6.5461, -6.5586, -6.5663, -5.6684, -4.5705, -6.2319, -5.7795, -4.9273, -4.9603, -3.139, -4.6943, -6.0946, -5.4441, -4.6963, -4.851, -4.5919, -4.7894, -5.326, -5.0402, -4.01, -4.6486, -5.2251, -5.1196, -4.7479, -5.4429, -5.5486, -5.3667, -5.1943, -5.3184, -5.3002, -5.4779, -5.3787, -5.4586, -3.6243, -4.824, -5.0022, -5.0557, -5.2197, -5.5213, -5.577, -5.839, -5.8683, -5.9815, -6.0324, -6.0584, -6.0678, -4.0291, -6.1915, -6.2247, -6.2376, -6.2618, -6.3282, -6.4046, -6.448, -6.448, -6.4522, -6.4871, -6.5045, -6.5091, -4.4014, -6.5122, -2.8005, -6.5343, -3.1287, -5.1694, -5.7786, -4.8583, -5.7098, -4.7545, -5.5652, -5.4032, -5.3478, -5.9375, -5.2684, -3.3518, -4.7397, -5.5539, -5.3399, -4.6291, -5.3456, -4.8574, -5.4018, -5.3095, -5.4756, -5.5014, -5.4698, -4.3768, -4.7625, -4.9927, -5.2024, -5.2159, -5.1648, -5.2942, -5.4432, -5.5698, -5.6179, -5.7753, -5.388, -5.8065, -5.874, -5.9703, -5.9777, -5.9229, -5.9944, -6.007, -6.0131, -6.0124, -6.036, -6.0668, -6.1458, -6.1764, -6.2514, -6.3244, -6.3526, -6.3682, -6.3984, -5.9847, -4.3111, -5.6389, -5.4854, -5.7087, -4.9964, -3.8508, -4.6656, -4.7384, -4.7864, -5.6237, -5.5542, -4.9255, -5.3702, -5.7189, -5.7491, -5.1878, -5.2787, -5.454, -5.3221, -5.3675, -5.4678, -5.6228, -5.3858, -5.5353], \"loglift\": [30.0, 29.0, 28.0, 27.0, 26.0, 25.0, 24.0, 23.0, 22.0, 21.0, 20.0, 19.0, 18.0, 17.0, 16.0, 15.0, 14.0, 13.0, 12.0, 11.0, 10.0, 9.0, 8.0, 7.0, 6.0, 5.0, 4.0, 3.0, 2.0, 1.0, 1.1696, 1.1691, 1.168, 1.1678, 1.1677, 1.1675, 1.1673, 1.1672, 1.1672, 1.1671, 1.1665, 1.1657, 1.1654, 1.1642, 1.1641, 1.1639, 1.1635, 1.1632, 1.1632, 1.163, 1.1621, 1.1619, 1.1616, 1.1615, 1.1614, 1.1613, 1.161, 1.1608, 1.1607, 1.1598, 1.1385, 1.1539, 1.1317, 1.0603, 1.0705, 1.0596, 1.124, 1.0412, 1.063, 0.9455, 0.9717, 0.9504, 0.7509, 0.9798, 0.9219, 0.8452, 0.7519, 0.3253, 0.8239, 0.8948, 0.7888, 0.8162, 0.7351, 0.6035, 0.5532, 0.6438, 0.6165, -1.0819, 0.2537, 1.852, 1.8509, 1.8501, 1.8461, 1.8451, 1.8443, 1.8435, 1.8398, 1.8381, 1.838, 1.8369, 1.836, 1.8337, 1.8337, 1.8336, 1.8335, 1.8327, 1.8324, 1.832, 1.8319, 1.8308, 1.83, 1.8299, 1.8298, 1.8298, 1.8288, 1.8283, 1.828, 1.8278, 1.8269, 1.8036, 1.7699, 1.8068, 1.7564, 1.767, 1.7717, 1.8061, 1.7267, 1.6606, 1.7013, 1.5442, 1.4679, 1.6216, 1.5622, 1.5912, 1.6036, 1.3632, 1.2324, 1.3287, 1.2399, 1.2945, 0.7997, 0.007, 0.7843, 1.1927, 1.3709, 0.2674, 1.0177, -0.399, -0.1549, 1.8814, 1.8812, 1.8793, 1.8771, 1.877, 1.8726, 1.8711, 1.8708, 1.8699, 1.8692, 1.8675, 1.8666, 1.8662, 1.8658, 1.8655, 1.8646, 1.8628, 1.8625, 1.8619, 1.8611, 1.8602, 1.8597, 1.8589, 1.8585, 1.8581, 1.8578, 1.857, 1.8561, 1.8557, 1.8551, 1.8168, 1.7513, 1.6, 1.4226, 1.6292, 1.5428, 1.5615, 1.6823, 1.4399, 1.295, 1.4423, 1.5586, 1.0181, 0.4869, 1.3478, 0.1694, 1.3015, 1.3491, 0.6332, 1.0273, 0.7709, 0.4842, 0.3129, 0.33, 0.8055, 0.1552, 0.2799, 1.886, 1.8858, 1.8854, 1.8846, 1.8837, 1.8826, 1.8784, 1.8773, 1.8766, 1.8755, 1.8754, 1.8754, 1.875, 1.8744, 1.8742, 1.8715, 1.8699, 1.8679, 1.8677, 1.8668, 1.8667, 1.8659, 1.8658, 1.8648, 1.8642, 1.8641, 1.864, 1.8627, 1.8623, 1.8622, 1.8603, 1.8343, 1.8471, 1.8199, 1.5986, 1.465, 0.6143, 1.1117, 1.7222, 1.4085, 1.0274, 1.0244, 0.8774, 0.9574, 1.2498, 1.0285, 0.2642, 0.5968, 1.0658, 0.5033, -0.2176, 1.0468, 1.2283, 0.8593, 0.4639, 0.6424, 0.4895, 0.775, 0.0243, -0.1645, 2.1399, 2.1355, 2.1343, 2.1339, 2.1325, 2.1293, 2.1286, 2.1247, 2.1242, 2.1221, 2.1211, 2.1206, 2.1205, 2.1203, 2.1176, 2.1168, 2.1164, 2.1159, 2.114, 2.1118, 2.1107, 2.1105, 2.1105, 2.1094, 2.1089, 2.1087, 2.1087, 2.1087, 2.1087, 2.1078, 2.0943, 2.0199, 2.0547, 1.9584, 2.0349, 1.8235, 1.9344, 1.7904, 1.7568, 1.9494, 1.6467, 0.4014, 0.7899, 1.4947, 1.2092, -0.3548, 0.79, -0.3271, 0.6984, 0.3487, 0.7124, 0.7515, 0.5073, 2.1725, 2.1706, 2.169, 2.1673, 2.1672, 2.1668, 2.1664, 2.1647, 2.1624, 2.1623, 2.1601, 2.1597, 2.1596, 2.1583, 2.1566, 2.1564, 2.1564, 2.156, 2.1558, 2.1557, 2.1557, 2.1552, 2.1545, 2.1527, 2.152, 2.1501, 2.148, 2.1472, 2.1469, 2.1459, 2.1433, 1.8924, 1.9099, 1.6663, 1.7897, 1.2564, -0.0975, 0.6268, 0.6645, 0.7077, 1.6436, 1.5144, 0.584, 1.1675, 1.6847, 1.705, 0.3417, 0.5348, 0.889, 0.4675, 0.543, 0.8878, 1.3736, -0.8555, -0.3968]}, \"token.table\": {\"Topic\": [2, 3, 5, 6, 1, 2, 3, 4, 5, 6, 2, 4, 6, 1, 1, 2, 1, 2, 1, 1, 1, 1, 2, 4, 6, 3, 6, 1, 2, 3, 4, 5, 3, 1, 1, 3, 4, 5, 6, 4, 3, 5, 2, 6, 3, 1, 2, 3, 5, 6, 4, 6, 5, 2, 1, 2, 3, 4, 5, 6, 6, 4, 5, 3, 4, 1, 2, 3, 4, 5, 6, 1, 2, 4, 2, 1, 2, 4, 1, 5, 6, 1, 2, 3, 6, 2, 3, 4, 5, 2, 3, 6, 2, 3, 4, 4, 4, 3, 3, 5, 6, 2, 3, 4, 5, 4, 2, 6, 1, 3, 4, 5, 6, 4, 4, 1, 2, 4, 3, 5, 6, 6, 1, 3, 5, 3, 2, 3, 6, 5, 2, 3, 6, 6, 1, 2, 3, 4, 1, 2, 3, 4, 5, 6, 6, 3, 1, 3, 4, 1, 2, 4, 6, 1, 2, 4, 5, 6, 1, 1, 6, 1, 2, 3, 1, 2, 5, 2, 3, 6, 3, 4, 5, 1, 4, 2, 4, 5, 4, 6, 1, 2, 1, 2, 3, 4, 5, 6, 1, 2, 3, 4, 6, 1, 2, 3, 4, 6, 2, 5, 1, 2, 4, 5, 6, 5, 6, 2, 1, 3, 4, 5, 2, 5, 1, 2, 3, 4, 5, 6, 5, 1, 2, 3, 4, 5, 6, 1, 2, 3, 4, 5, 6, 3, 4, 1, 2, 3, 4, 6, 5, 4, 1, 1, 6, 4, 2, 3, 1, 5, 6, 2, 3, 5, 2, 2, 5, 4, 4, 2, 3, 4, 1, 1, 2, 4, 6, 2, 3, 2, 6, 1, 6, 1, 1, 4, 3, 2, 3, 4, 5, 6, 3, 6, 6, 6, 4, 5, 1, 2, 2, 3, 4, 5, 6, 1, 3, 1, 2, 3, 4, 5, 6, 1, 1, 2, 4, 1, 2, 4, 5, 6, 4, 6, 5, 3, 3, 6, 2, 3, 4, 2, 3, 6, 2, 6, 1, 2, 3, 4, 6, 3, 1, 6, 5, 6, 2, 1, 2, 3, 5, 6, 5, 1, 2, 2, 3, 4, 5, 6, 1, 3, 4, 6, 3, 2, 3, 4, 6, 5, 6, 4, 5, 6, 1, 2, 3, 4, 1, 3, 5, 1, 2, 3, 4, 5, 6, 3, 4, 6, 2, 3, 5, 3, 4, 5, 2, 4, 5, 4, 1, 2, 3, 4, 2, 1, 2, 3, 4, 5, 6, 1, 1, 2, 2, 3, 5, 1, 2, 3, 4, 3, 4, 5, 6, 1, 3, 5, 6, 2, 2, 2, 1, 2, 3, 4, 6, 1, 2, 4, 6, 5, 5, 3, 2, 3, 1, 3, 1, 5, 1, 5, 6, 4, 4, 3, 4, 6, 3, 4, 2, 4, 2, 2, 2, 3, 4, 5, 1, 3, 4, 3, 4, 3, 5, 6, 4, 2, 3, 5, 4, 1, 2, 6, 5, 4, 1, 2, 3, 4, 5, 6, 1, 2, 4, 5, 3, 4, 5, 6, 1, 3, 4, 6, 2, 4, 6, 2, 3, 4, 2, 4, 2, 2, 3, 4, 6, 5, 6, 5, 1, 2, 2, 3, 4, 4, 2, 1, 2, 4, 6, 4, 6, 6, 1, 2, 3, 4, 5, 6, 3, 2, 2, 3, 4, 5, 6, 6, 1, 2, 3, 4, 5, 6, 3, 5, 1, 2, 3, 4, 1, 2, 4, 1, 2, 3, 4, 5, 1, 2, 6, 6, 1, 5, 6, 1, 2, 3, 4, 5, 6, 3, 6, 3, 4, 5, 6, 1, 6, 4, 6, 4, 2, 6, 1, 2, 1, 3, 5, 6, 3, 4, 5, 6, 1, 2, 5, 6, 6, 2, 3, 4, 6, 2, 3, 4, 5, 5, 4, 3, 2, 3, 4, 5, 6, 1, 3, 5, 5, 4, 2, 5, 1, 2, 4, 6, 3, 1, 2, 3, 4, 5, 6, 1, 2, 5], \"Freq\": [0.07408425164652122, 0.6406108818846246, 0.22661065209524137, 0.05665266302381034, 0.4290288041253011, 0.03968516438159035, 0.2477641343823614, 0.19681696389248188, 0.08258804479412046, 0.004290288041253011, 0.9150928629670546, 0.008909109931529043, 0.07636379941310609, 0.9951595710605585, 0.9921422683976739, 0.004636178824288196, 0.9899797941249417, 0.0070712842437495845, 0.9875746176014135, 0.9856496360029731, 0.9957416807555579, 0.9917243152849187, 0.9862265810454969, 0.0252965358658423, 0.9612683629020073, 0.7259371979006924, 0.26813896499034584, 0.11347547052551066, 0.053400221423769725, 0.587402435661467, 0.20025083033913646, 0.046725193745798504, 0.9752539353390488, 0.9886488653524702, 0.2503641871479242, 0.015647761696745262, 0.11996617300838035, 0.39119404241863154, 0.21906866375443368, 0.9833028158789762, 0.994864929838286, 0.9948352593775845, 0.9945145759451038, 0.9884362707113449, 0.9587738912268384, 0.39329890732494843, 0.011290877722247322, 0.17689041764854138, 0.25969018761168844, 0.1599541010651704, 0.9713966294642986, 0.9830038145728525, 0.9702085888530388, 0.9928926793096075, 0.9975917824490683, 0.07772380707612943, 0.16957921543882784, 0.6147246559657509, 0.11305281029255189, 0.02119740192985348, 0.9897154166097556, 0.9748006683857743, 0.9992873254335978, 0.9883153838456535, 0.989215293316601, 0.001927972048673087, 0.3470349687611557, 0.4222258786594061, 0.12531818316375065, 0.10411049062834671, 0.001927972048673087, 0.8192820594582487, 0.019302456898230992, 0.16085380748525827, 0.9862231769250955, 0.6809910981740751, 0.07078402095716192, 0.2465236591956329, 0.20940808569396244, 0.7248741427867931, 0.05906381904188684, 0.4263125204467004, 0.5701287924046234, 0.4064895792375053, 0.5883401804753366, 0.5129124741050246, 0.12133413365925312, 0.17097082470167485, 0.1930315762760845, 0.1289360135521841, 0.23208482439393135, 0.6188928650504836, 0.8776992845468579, 0.005812578043356675, 0.11625156086713348, 0.9753522793860361, 0.9798286186073092, 0.9990192446036397, 0.20217383654018775, 0.1078260461547668, 0.6739127884672925, 0.1594619568673595, 0.5610698482370057, 0.24214593450228664, 0.035435990414968775, 0.9762802105572727, 0.014159580254038255, 0.9770110375286396, 0.34817551269947994, 0.12895389359239998, 0.15474467231087996, 0.08596926239493331, 0.2751016396637866, 0.9815714463737567, 0.9828135904069795, 0.45912369680730614, 0.537088098151943, 0.004331355630257605, 0.9831550642962927, 0.9792743472370203, 0.017487041914946794, 0.9926145652365681, 0.0052525377605905825, 0.7143451354403193, 0.2783845013113009, 0.9835559906512915, 0.9142143779473075, 0.030644057361362265, 0.05618077182916415, 0.983059756426071, 0.1961367630366364, 0.1961367630366364, 0.6129273844894888, 0.9685976740640556, 0.8268592392414117, 0.006409761544507067, 0.16024403861267666, 0.006409761544507067, 0.6470206772918689, 0.0025473255011490897, 0.030567906013789076, 0.06877778853102542, 0.1248189495563054, 0.1248189495563054, 0.9955749833304304, 0.9815611809329597, 0.8963743945815015, 0.10042368735975328, 0.9907633453597039, 0.5167544653516082, 0.08885370897448468, 0.39282692388719537, 0.9589819360474421, 0.1060619434237852, 0.00815861103259886, 0.293709997173559, 0.1468549985867795, 0.4487236067929374, 0.9964337819963648, 0.9933662831400563, 0.9690683203732715, 0.9893038462407125, 0.903025301767418, 0.09389253902168872, 0.3131962956702342, 0.6179278265926242, 0.06771811798275335, 0.6086890102309571, 0.1955516729701265, 0.1955516729701265, 0.9915763920671063, 0.9955638886265276, 0.9720231779821745, 0.4714116066856708, 0.5249811074454062, 0.7453449495753731, 0.11793432746445777, 0.13680381985877102, 0.9393732058168266, 0.05964274322646518, 0.952467502464958, 0.03779632946289516, 0.11035059170125351, 0.19947991576765056, 0.19099140871370798, 0.22070118340250702, 0.004244253526971289, 0.27587647925313374, 0.7797366224488343, 0.11696049336732516, 0.002599122074829448, 0.002599122074829448, 0.09876663884351901, 0.574292836512583, 0.018600577700812405, 0.1883308492207256, 0.15112969381910077, 0.06742709416544497, 0.9868479810771181, 0.9741365645165324, 0.4266767711508063, 0.1132770188895946, 0.3587105598170496, 0.10194931700063514, 0.0037759006296531534, 0.9698642424613022, 0.9862863225571319, 0.9809095421523958, 0.5184516978336828, 0.19405733941260753, 0.28674144181862904, 0.994923140358088, 0.9805149924273807, 0.9898027780242659, 0.2653768677079832, 0.1562299301829256, 0.08132516913631743, 0.23969523534914614, 0.16693061033244105, 0.09202584928583289, 0.9699726022122307, 0.008058109390309506, 0.04834865634185703, 0.34246964908815397, 0.43916696177186804, 0.06043582042732129, 0.10878447676917832, 0.4050138678329684, 0.04177273076304158, 0.2088636538152079, 0.023610673909545243, 0.09081028426748171, 0.23065812203940353, 0.004648058276968717, 0.9946844712713054, 0.338022696010456, 0.12854384214482129, 0.3285009299256544, 0.0809350117208134, 0.1214025175812201, 0.9728139987660517, 0.982085322019802, 0.989151231392073, 0.988985564569139, 0.9964783441750278, 0.9847069543302638, 0.9793190824877964, 0.9988494215253281, 0.9990336181817104, 0.9682230800798082, 0.030100199380719422, 0.5870784520906698, 0.18161419740934387, 0.2280736432582458, 0.9694305232055255, 0.7705934356852457, 0.2150493308889058, 0.9945446864478282, 0.9968426494441643, 0.989284752045735, 0.988080169281381, 0.9677934164430058, 0.9951659177212948, 0.87901819442488, 0.11314095571805387, 0.0029010501466167657, 0.005802100293233531, 0.9569792883462632, 0.9947713042650072, 0.9681813992926445, 0.9848148224557275, 0.9952943717524255, 0.9643347614188321, 0.9935241418471339, 0.9617723018776647, 0.037195613884771564, 0.98887737905061, 0.13616046327101686, 0.5879656368521183, 0.1732951350722033, 0.04332378376805082, 0.06189111966864403, 0.9785019293253601, 0.9719322239133386, 0.9806358439156458, 0.9890368369702104, 0.9565862487488664, 0.9524173776482965, 0.9044195855708653, 0.09314620316510573, 0.0146437655705058, 0.6321225471268337, 0.170843931655901, 0.0024406275950843, 0.18060644203623819, 0.9918057652755669, 0.9737361142764694, 0.113452298450986, 0.005156922656863, 0.314572282068643, 0.020627690627452, 0.180492292990205, 0.366141508637273, 0.997024052455505, 0.9947948274679731, 0.9417489675311324, 0.04094560728396228, 0.3138006076574391, 0.08775779705674144, 0.42017369499894386, 0.07712048832259097, 0.10105443297442954, 0.9783960016529618, 0.9749831229812899, 0.9494757783532167, 0.9884752834667252, 0.9922960773565729, 0.9876086098089, 0.01843406173714609, 0.3272045958343431, 0.6544091916686862, 0.8561700332205733, 0.07269368206589773, 0.06461660628079798, 0.9874519611280146, 0.9913655412662166, 0.7985336231451902, 0.02379243569892559, 0.04907189862903403, 0.12788434188172504, 0.0014870272311828495, 0.9940702808383578, 0.9829019797907225, 0.011842192527599067, 0.8965932350790647, 0.0862108879883716, 0.9584831564336677, 0.7072641480404623, 0.042015691962799744, 0.058355127726110755, 0.1003708196889105, 0.0933682043617772, 0.9728109374971213, 0.9936242818687443, 0.983342509319426, 0.42873869923530483, 0.05228520722381766, 0.16208414239383476, 0.25096899467432476, 0.09934189372525355, 0.7220801698552267, 0.21225983014975072, 0.0019837367303715023, 0.06546331210225957, 0.9740936255866206, 0.5344248442613558, 0.2464292337427363, 0.005938053825126176, 0.21228542424826077, 0.2267870142429136, 0.7654061730698334, 0.001011854372269469, 0.9673327798896122, 0.030355631168084065, 0.21934169316874552, 0.15883363988081572, 0.4235563730155086, 0.19665117318577185, 0.01363205022583642, 0.1499525524842006, 0.8315550637760216, 0.39284606552893686, 0.2028782498036763, 0.029509563607807463, 0.11434955898025392, 0.05533043176463899, 0.2028782498036763, 0.7200662045987377, 0.2311323619699652, 0.04444853114807023, 0.9737922491915274, 0.9885781360668888, 0.9860135185132619, 0.8126046960316722, 0.11251449637361616, 0.06250805354089786, 0.9491982967517305, 0.008399984927006466, 0.041999924635032326, 0.9834501553733604, 0.5660962564604611, 0.10743432604359117, 0.07644365506947834, 0.24999141252451024, 0.9843456724466513, 0.39956998792737164, 0.021553567813509672, 0.12103157310663125, 0.15419090820433842, 0.08124037098938261, 0.22050957839975283, 0.9941254279562532, 0.9675537542195051, 0.031958835812370114, 0.9669595693496931, 0.9896206995085995, 0.9708230681567749, 0.0022849841822088672, 0.020564857639879808, 0.5552511562767548, 0.42272207370864046, 0.24069634760954978, 0.14613706819151237, 0.524374185863662, 0.07736668316021243, 0.9949762115806938, 0.9851274796144742, 0.9542212382151726, 0.04570290400740304, 0.9799791128000691, 0.9793089912423039, 0.9817476362725257, 0.2605059016931072, 0.05406726261555055, 0.13762575938503777, 0.4325381009244044, 0.11796493661574667, 0.06115796820257301, 0.05606147085235859, 0.7491851104815194, 0.13250893110557485, 0.9698278445554658, 0.9864573085363947, 0.9764044974172063, 0.04890109605821788, 0.9291208251061397, 0.9935014077690566, 0.9828596245702858, 0.9976319816853517, 0.9907739919233548, 0.09446268789149866, 0.8096801819271313, 0.08096801819271313, 0.9712765357539191, 0.9824189845730281, 0.7729148760953055, 0.21843246498345592, 0.9742774072110436, 0.8828619380283969, 0.10842164151225926, 0.977004404678537, 0.016283406744642282, 0.9743249025364469, 0.9924145264041184, 0.7311278995653355, 0.11492645912899924, 0.15405036010908407, 0.9874699122324523, 0.9828744919016749, 0.4781987893462339, 0.517502799429486, 0.985211241814563, 0.015235225388884993, 0.9815694903988674, 0.9231757340337974, 0.07536128441092223, 0.9844783983438223, 0.7900949751715993, 0.20389547746363854, 0.9849202779609978, 0.9783099838117718, 0.10706327954345288, 0.13659797734854334, 0.7531347940298065, 0.9767029164474069, 0.9732471769862975, 0.10511160278561706, 0.15703036416154306, 0.18028232477775533, 0.27934204740298835, 0.17550452465113636, 0.1028819627265282, 0.7596041482591949, 0.020609414875249473, 0.02355361700028511, 0.19431734025235217, 0.04966708435180766, 0.9481897921708734, 0.8805330000678633, 0.1088299213567022, 0.9931541588416363, 0.6419809607890621, 0.2751346974810266, 0.07795483095295754, 0.9152272878695514, 0.07626894065579595, 0.007626894065579596, 0.8193882261830528, 0.07448983874391389, 0.10687672515431124, 0.01389351125390912, 0.9725457877736384, 0.961632865567329, 0.9751508362967004, 0.018532270065168496, 0.8524844229977507, 0.12972589045617947, 0.9726385949704527, 0.9899690115563313, 0.9873397646237488, 0.8948134949181876, 0.10294314543306583, 0.9931485059249907, 0.7537959537482285, 0.2395785589432354, 0.9876778601920472, 0.9781518914052817, 0.8021405965420361, 0.14407379646628804, 0.05256746627824023, 0.001946943195490379, 0.963483472486663, 0.024087086812166574, 0.9854822167684062, 0.6567572602703571, 0.04849473440814873, 0.0401813513667518, 0.12123683602037182, 0.08451939425420207, 0.04849473440814873, 0.9891176803030285, 0.9842684181117308, 0.12652702936493643, 0.20095469369725197, 0.45897059671594587, 0.10419873006524176, 0.10667965220965228, 0.9953950793025838, 0.3524482824099715, 0.14247909288913743, 0.05749156379737124, 0.12748129363764926, 0.12748129363764926, 0.19247175706076458, 0.15902595398485952, 0.8348862584205125, 0.6573871984641638, 0.13340284152933868, 0.10864767505997687, 0.10039595290352293, 0.7022222136581445, 0.21066666409744336, 0.08707555449360992, 0.5906386889528122, 0.12965239513598317, 0.15126112765864705, 0.06002425700739962, 0.06962813812858357, 0.2954094648792684, 0.10482271334425652, 0.6003482673352873, 0.9924238317017033, 0.2881671613729833, 0.7055127054304074, 0.9700156884327807, 0.539828725004183, 0.34115569981676996, 0.0020067982342162937, 0.02608837704481182, 0.024081578810595528, 0.0662243417291377, 0.9881464252534549, 0.9539448898876862, 0.13153029507772493, 0.28059796283247984, 0.07014949070811996, 0.5173524939723847, 0.9980227813098016, 0.9826078762648692, 0.9961818261538342, 0.9638007469455755, 0.9882191249991105, 0.9465165022367752, 0.051289071549775994, 0.9984182115071057, 0.978891155385211, 0.635962905750767, 0.019977892327249225, 0.23640505920578248, 0.10321911035745432, 0.02327237101819341, 0.32969192275773995, 0.24823862419406303, 0.39950903581232017, 0.6143776183259725, 0.1454148209055556, 0.23993445449416675, 0.9924898773348227, 0.9878153850182163, 0.6769560090032959, 0.04673545668851206, 0.2747478362900406, 0.0028324519205158824, 0.7656124408615849, 0.015785823522919278, 0.1420724117062735, 0.07103620585313675, 0.9671915823208557, 0.9943823468117465, 0.9923152609094562, 0.07243507942777494, 0.2483488437523712, 0.2448995542558105, 0.2586967122420534, 0.17591376432459627, 0.24822530461311967, 0.13539562069806527, 0.6092802931412937, 0.9886694393900929, 0.9901577286622798, 0.3181642046803898, 0.6817804386008353, 0.454885034336382, 0.10646245484468514, 0.4226236843834471, 0.016130674976467446, 0.9901917427912595, 0.2179212813795181, 0.0584666852481634, 0.2870182730364385, 0.3632021356325302, 0.030119201491478113, 0.04429294336982075, 0.8950456992028748, 0.10493639232033704, 0.9898399873732999], \"Term\": [\"'s\", \"'s\", \"'s\", \"'s\", \"-\", \"-\", \"-\", \"-\", \"-\", \"-\", \".\", \".\", \".\", \"1\", \"10\", \"10\", \"20\", \"20\", \"2010\", \"25\", \"40\", \"50\", \"95\", \"abl\", \"abl\", \"abort\", \"abort\", \"act\", \"act\", \"act\", \"act\", \"act\", \"ad\", \"add\", \"administr\", \"administr\", \"administr\", \"administr\", \"administr\", \"admit\", \"afford\", \"african\", \"ago\", \"agreement\", \"al\", \"american\", \"american\", \"american\", \"american\", \"american\", \"announc\", \"arm\", \"assault\", \"austin\", \"averag\", \"back\", \"back\", \"back\", \"back\", \"back\", \"background\", \"ballot\", \"barack\", \"benghazi\", \"berni\", \"bill\", \"bill\", \"bill\", \"bill\", \"bill\", \"bill\", \"billion\", \"billion\", \"billion\", \"block\", \"budget\", \"budget\", \"budget\", \"bush\", \"bush\", \"bush\", \"busi\", \"busi\", \"buy\", \"buy\", \"campaign\", \"campaign\", \"campaign\", \"campaign\", \"can\", \"can\", \"can\", \"candid\", \"candid\", \"candid\", \"cap\", \"capita\", \"care\", \"case\", \"case\", \"case\", \"chang\", \"chang\", \"chang\", \"chang\", \"charli\", \"check\", \"check\", \"child\", \"child\", \"child\", \"child\", \"child\", \"chri\", \"christi\", \"citi\", \"citi\", \"citi\", \"climat\", \"clinton\", \"clinton\", \"common\", \"compani\", \"compani\", \"compani\", \"condit\", \"congress\", \"congress\", \"congress\", \"conserv\", \"control\", \"control\", \"control\", \"core\", \"cost\", \"cost\", \"cost\", \"cost\", \"countri\", \"countri\", \"countri\", \"countri\", \"countri\", \"countri\", \"court\", \"coverag\", \"creat\", \"creat\", \"crist\", \"cut\", \"cut\", \"cut\", \"d.c\", \"deal\", \"deal\", \"deal\", \"deal\", \"deal\", \"debt\", \"decad\", \"decis\", \"deficit\", \"democrat\", \"democrat\", \"district\", \"district\", \"district\", \"do\", \"do\", \"do\", \"doctor\", \"donald\", \"drill\", \"educ\", \"educ\", \"elect\", \"elect\", \"elect\", \"elimin\", \"elimin\", \"employe\", \"employe\", \"even\", \"even\", \"even\", \"even\", \"even\", \"even\", \"everi\", \"everi\", \"everi\", \"everi\", \"everi\", \"feder\", \"feder\", \"feder\", \"feder\", \"feder\", \"fee\", \"flag\", \"florida\", \"florida\", \"florida\", \"florida\", \"florida\", \"follow\", \"food\", \"foundat\", \"fund\", \"fund\", \"fund\", \"ga\", \"gdp\", \"georg\", \"get\", \"get\", \"get\", \"get\", \"get\", \"get\", \"girl\", \"give\", \"give\", \"give\", \"give\", \"give\", \"give\", \"go\", \"go\", \"go\", \"go\", \"go\", \"go\", \"gov\", \"gov\", \"govern\", \"govern\", \"govern\", \"govern\", \"govern\", \"grade\", \"grant\", \"grow\", \"growth\", \"gun\", \"hard\", \"have\", \"health\", \"high\", \"hillari\", \"hillari\", \"hous\", \"hous\", \"hous\", \"houston\", \"i\", \"i\", \"illeg\", \"immigr\", \"implement\", \"import\", \"in\", \"incom\", \"increas\", \"increas\", \"increas\", \"increas\", \"inform\", \"insur\", \"ir\", \"iran\", \"island\", \"jail\", \"jersey\", \"job\", \"job\", \"joe\", \"john\", \"john\", \"john\", \"john\", \"john\", \"johnson\", \"judg\", \"justic\", \"kain\", \"kasich\", \"keyston\", \"last\", \"last\", \"law\", \"law\", \"law\", \"law\", \"law\", \"less\", \"lie\", \"like\", \"like\", \"like\", \"like\", \"like\", \"like\", \"lose\", \"low\", \"m\", \"m\", \"make\", \"make\", \"make\", \"make\", \"make\", \"marco\", \"marijuana\", \"mass\", \"massachusett\", \"mccain\", \"medic\", \"medicar\", \"medicar\", \"medicar\", \"member\", \"member\", \"member\", \"mike\", \"militari\", \"million\", \"million\", \"million\", \"million\", \"million\", \"mitt\", \"month\", \"month\", \"muslim\", \"muslim\", \"nanci\", \"nation\", \"nation\", \"nation\", \"nation\", \"nation\", \"natur\", \"nearli\", \"nelson\", \"never\", \"never\", \"never\", \"never\", \"never\", \"new\", \"new\", \"new\", \"new\", \"news\", \"not\", \"not\", \"not\", \"not\", \"nuclear\", \"nuclear\", \"obama\", \"obama\", \"obama\", \"obamacar\", \"obamacar\", \"obamacar\", \"obamacar\", \"oil\", \"oil\", \"oil\", \"one\", \"one\", \"one\", \"one\", \"one\", \"one\", \"oppos\", \"oppos\", \"oppos\", \"outsid\", \"oversea\", \"parent\", \"part\", \"part\", \"part\", \"parti\", \"parti\", \"parti\", \"paul\", \"pay\", \"pay\", \"pay\", \"pay\", \"pelosi\", \"peopl\", \"peopl\", \"peopl\", \"peopl\", \"peopl\", \"peopl\", \"per\", \"percent\", \"percent\", \"percentag\", \"perri\", \"pipelin\", \"plan\", \"plan\", \"plan\", \"plan\", \"polici\", \"polici\", \"polici\", \"polici\", \"popul\", \"premium\", \"presid\", \"presid\", \"presidenti\", \"primari\", \"process\", \"program\", \"program\", \"program\", \"program\", \"program\", \"propos\", \"propos\", \"propos\", \"propos\", \"prosecut\", \"protest\", \"push\", \"question\", \"question\", \"rank\", \"rape\", \"rate\", \"re\", \"reagan\", \"reagan\", \"reagan\", \"recess\", \"recoveri\", \"reform\", \"reform\", \"refuge\", \"regul\", \"regul\", \"rep\", \"rep\", \"repeal\", \"repres\", \"republican\", \"republican\", \"republican\", \"reserv\", \"rhode\", \"rick\", \"rick\", \"romney\", \"romney\", \"ron\", \"ronald\", \"ronald\", \"rubio\", \"run\", \"run\", \"russia\", \"ryan\", \"s\", \"s\", \"s\", \"safe\", \"sander\", \"say\", \"say\", \"say\", \"say\", \"say\", \"say\", \"school\", \"school\", \"school\", \"school\", \"scott\", \"scott\", \"second\", \"second\", \"sector\", \"secur\", \"secur\", \"secur\", \"sen\", \"sen\", \"sen\", \"senat\", \"senat\", \"senat\", \"senior\", \"senior\", \"session\", \"sever\", \"sex\", \"sex\", \"sex\", \"sexual\", \"sherrod\", \"shoot\", \"sinc\", \"sinc\", \"small\", \"social\", \"social\", \"someon\", \"speak\", \"spend\", \"spend\", \"spend\", \"spend\", \"sponsor\", \"sponsor\", \"stamp\", \"state\", \"state\", \"state\", \"state\", \"state\", \"state\", \"street\", \"super\", \"support\", \"support\", \"support\", \"support\", \"support\", \"suprem\", \"take\", \"take\", \"take\", \"take\", \"take\", \"take\", \"talk\", \"talk\", \"tax\", \"tax\", \"tax\", \"tax\", \"taxi\", \"taxi\", \"taxi\", \"texa\", \"texa\", \"texa\", \"texa\", \"texa\", \"that\", \"that\", \"that\", \"there\", \"they\", \"they\", \"tim\", \"time\", \"time\", \"time\", \"time\", \"time\", \"time\", \"tom\", \"treatment\", \"tri\", \"tri\", \"tri\", \"tri\", \"trillion\", \"troop\", \"trump\", \"trust\", \"tuition\", \"u.\", \"u.\", \"unemploy\", \"uninsur\", \"unit\", \"unit\", \"unit\", \"unit\", \"use\", \"use\", \"use\", \"use\", \"ve\", \"ve\", \"ve\", \"veteran\", \"violenc\", \"vote\", \"vote\", \"vote\", \"vote\", \"voter\", \"voter\", \"voter\", \"voter\", \"w.\", \"walker\", \"wall\", \"want\", \"want\", \"want\", \"want\", \"want\", \"war\", \"war\", \"war\", \"weapon\", \"welfar\", \"white\", \"white\", \"wisconsin\", \"wisconsin\", \"wisconsin\", \"wisconsin\", \"word\", \"would\", \"would\", \"would\", \"would\", \"would\", \"would\", \"year\", \"year\", \"you\"]}, \"R\": 30, \"lambda.step\": 0.01, \"plot.opts\": {\"xlab\": \"PC1\", \"ylab\": \"PC2\"}, \"topic.order\": [4, 2, 6, 1, 3, 5]};\n",
       "\n",
       "function LDAvis_load_lib(url, callback){\n",
       "  var s = document.createElement('script');\n",
       "  s.src = url;\n",
       "  s.async = true;\n",
       "  s.onreadystatechange = s.onload = callback;\n",
       "  s.onerror = function(){console.warn(\"failed to load library \" + url);};\n",
       "  document.getElementsByTagName(\"head\")[0].appendChild(s);\n",
       "}\n",
       "\n",
       "if(typeof(LDAvis) !== \"undefined\"){\n",
       "   // already loaded: just create the visualization\n",
       "   !function(LDAvis){\n",
       "       new LDAvis(\"#\" + \"ldavis_el2859622091365722568125677935\", ldavis_el2859622091365722568125677935_data);\n",
       "   }(LDAvis);\n",
       "}else if(typeof define === \"function\" && define.amd){\n",
       "   // require.js is available: use it to load d3/LDAvis\n",
       "   require.config({paths: {d3: \"https://d3js.org/d3.v5\"}});\n",
       "   require([\"d3\"], function(d3){\n",
       "      window.d3 = d3;\n",
       "      LDAvis_load_lib(\"https://cdn.jsdelivr.net/gh/bmabey/pyLDAvis@3.4.0/pyLDAvis/js/ldavis.v3.0.0.js\", function(){\n",
       "        new LDAvis(\"#\" + \"ldavis_el2859622091365722568125677935\", ldavis_el2859622091365722568125677935_data);\n",
       "      });\n",
       "    });\n",
       "}else{\n",
       "    // require.js not available: dynamically load d3 & LDAvis\n",
       "    LDAvis_load_lib(\"https://d3js.org/d3.v5.js\", function(){\n",
       "         LDAvis_load_lib(\"https://cdn.jsdelivr.net/gh/bmabey/pyLDAvis@3.4.0/pyLDAvis/js/ldavis.v3.0.0.js\", function(){\n",
       "                 new LDAvis(\"#\" + \"ldavis_el2859622091365722568125677935\", ldavis_el2859622091365722568125677935_data);\n",
       "            })\n",
       "         });\n",
       "}\n",
       "</script>"
      ],
      "text/plain": [
       "<IPython.core.display.HTML object>"
      ]
     },
     "execution_count": 77,
     "metadata": {},
     "output_type": "execute_result"
    }
   ],
   "source": [
    "import pyLDAvis\n",
    "import pyLDAvis.gensim_models as gensimvis\n",
    "\n",
    "# Prepare and show visualization\n",
    "vis = gensimvis.prepare(lda_model, corpus, dictionary)\n",
    "pyLDAvis.enable_notebook()\n",
    "pyLDAvis.display(vis)\n"
   ]
  }
 ],
 "metadata": {
  "kernelspec": {
   "display_name": "newbase",
   "language": "python",
   "name": "python3"
  },
  "language_info": {
   "codemirror_mode": {
    "name": "ipython",
    "version": 3
   },
   "file_extension": ".py",
   "mimetype": "text/x-python",
   "name": "python",
   "nbconvert_exporter": "python",
   "pygments_lexer": "ipython3",
   "version": "3.10.16"
  }
 },
 "nbformat": 4,
 "nbformat_minor": 5
}
